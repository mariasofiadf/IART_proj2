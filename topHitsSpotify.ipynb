{
  "nbformat": 4,
  "nbformat_minor": 0,
  "metadata": {
    "colab": {
      "name": "topHitsSpotify.ipynb",
      "provenance": []
    },
    "kernelspec": {
      "name": "python3",
      "display_name": "Python 3"
    },
    "language_info": {
      "name": "python"
    }
  },
  "cells": [
    {
      "cell_type": "code",
      "execution_count": 38,
      "metadata": {
        "id": "_KI7XRaON0ri"
      },
      "outputs": [],
      "source": [
        "import pandas as pd\n",
        "import numpy as np\n",
        "import matplotlib.pyplot as plt #visualization\n",
        "import plotly.express as px\n",
        "import seaborn as sns #visualization\n",
        "from plotly.offline import init_notebook_mode, iplot, plot"
      ]
    },
    {
      "cell_type": "markdown",
      "source": [
        "Import Data"
      ],
      "metadata": {
        "id": "3tOE2TPzRoAL"
      }
    },
    {
      "cell_type": "code",
      "source": [
        "df = pd.read_csv('/content/sample_data/songs_normalize.csv')\n",
        "#df.head()"
      ],
      "metadata": {
        "id": "dP2pjszQRm6q"
      },
      "execution_count": 39,
      "outputs": []
    },
    {
      "cell_type": "markdown",
      "source": [
        "## **Preprocessing data**\n",
        "\n",
        "The data set doesn't have any null values.\n",
        "It has some duplicate entries that will be removed.\n",
        "\n",
        "Also we can convert the songs duration to seconds for better readibilty."
      ],
      "metadata": {
        "id": "IsqYiCYPTSWB"
      }
    },
    {
      "cell_type": "code",
      "source": [
        "df = df.drop_duplicates() # keep first duplicate row\n",
        "df[\"duration_s\"] = df.duration_ms.apply(lambda x : round(x/1000)) # add durartion in seconds\n",
        "df.drop(\"duration_ms\", axis=1, inplace=True) #remove duration in ms"
      ],
      "metadata": {
        "id": "SMKPEV8hYnLw"
      },
      "execution_count": 40,
      "outputs": []
    },
    {
      "cell_type": "code",
      "source": [
        "\n",
        "#Top Hits by Year\n",
        "songs_per_years = df['year'].value_counts().sort_index()\n",
        "\n",
        "iplot(px.bar(songs_per_years, \n",
        "       title='Songs per year', \n",
        "       text_auto='.2s',\n",
        "       labels=dict(index='year',value='number of songs'),\n",
        "       color_discrete_sequence=['#0055FF']\n",
        "      ).update_xaxes(type='category'))\n"
      ],
      "metadata": {
        "id": "c7VmmpOVV4wl"
      },
      "execution_count": null,
      "outputs": []
    },
    {
      "cell_type": "markdown",
      "source": [
        "Since the years 1998, 1999 and 2020 have few examples, we will be removing songs from those years.\n",
        "Also, we considered that the song **title** won't have any correlation with its popularity, so that column will be removed.\n",
        "\n",
        "\n",
        "```\n",
        "# This is formatted as code\n",
        "```\n",
        "\n"
      ],
      "metadata": {
        "id": "cHPtftjMYPc6"
      }
    },
    {
      "cell_type": "code",
      "source": [
        "df = df[(df.year >= 2000) & (df.year <= 2019)] \n",
        "df = df.drop(['song'], axis = 1) #removing song title column\n",
        "#df.head()\n"
      ],
      "metadata": {
        "id": "ElWisoEsSCZu"
      },
      "execution_count": 42,
      "outputs": []
    },
    {
      "cell_type": "code",
      "source": [
        "#df.info()"
      ],
      "metadata": {
        "id": "268NL_IdY8bM"
      },
      "execution_count": null,
      "outputs": []
    },
    {
      "cell_type": "markdown",
      "source": [
        "## Popularity classification\n",
        "First let's analise the popularity distribution, and try to indentify existing outliers "
      ],
      "metadata": {
        "id": "4JtqeT8Nec3S"
      }
    },
    {
      "cell_type": "code",
      "source": [
        "df.hist(column=('popularity'),bins=25, grid=False, figsize=(12,8), color='#86bf91', zorder=2, rwidth=0.9)\n"
      ],
      "metadata": {
        "id": "PtmukEaTdA1q",
        "outputId": "cca62428-26a3-4352-a878-a95a1a5bfa50",
        "colab": {
          "base_uri": "https://localhost:8080/",
          "height": 534
        }
      },
      "execution_count": 49,
      "outputs": [
        {
          "output_type": "execute_result",
          "data": {
            "text/plain": [
              "array([[<matplotlib.axes._subplots.AxesSubplot object at 0x7f4313429390>]],\n",
              "      dtype=object)"
            ]
          },
          "metadata": {},
          "execution_count": 49
        },
        {
          "output_type": "display_data",
          "data": {
            "text/plain": [
              "<Figure size 864x576 with 1 Axes>"
            ],
            "image/png": "[encoded data removed]"
          },
          "metadata": {
            "needs_background": "light"
          }
        }
      ]
    },
    {
      "cell_type": "markdown",
      "source": [
        "#### Removing entries \n",
        "While analising the histogram, we found strange that a lot of songs had the popularity equal to zero. \n",
        "After loooking through the data, we noticed that that most of those songs were undoubtedly misclassified. For example, songs like Hello by Adele, or Despacito by Luis Fonsi, among others, were classified with zero popularity even though they are known songs for beating selling and streaming records."
      ],
      "metadata": {
        "id": "0indyRIkidgq"
      }
    },
    {
      "cell_type": "code",
      "source": [
        "df = df[(df.popularity > 5)] "
      ],
      "metadata": {
        "id": "ALdMIfjjh5zb"
      },
      "execution_count": 60,
      "outputs": []
    },
    {
      "cell_type": "code",
      "source": [
        "df.hist(column=('popularity'),bins=25, grid=False, figsize=(12,8), color='#86bf91', zorder=2, rwidth=0.9)"
      ],
      "metadata": {
        "id": "CI_cw8PBiFSG",
        "outputId": "be6d18c1-18af-4b3d-e50f-105f562ddefc",
        "colab": {
          "base_uri": "https://localhost:8080/",
          "height": 534
        }
      },
      "execution_count": 62,
      "outputs": [
        {
          "output_type": "execute_result",
          "data": {
            "text/plain": [
              "array([[<matplotlib.axes._subplots.AxesSubplot object at 0x7f4312f6fcd0>]],\n",
              "      dtype=object)"
            ]
          },
          "metadata": {},
          "execution_count": 62
        },
        {
          "output_type": "display_data",
          "data": {
            "text/plain": [
              "<Figure size 864x576 with 1 Axes>"
            ],
            "image/png": "[encoded data removed]"
          },
          "metadata": {
            "needs_background": "light"
          }
        }
      ]
    },
    {
      "cell_type": "markdown",
      "source": [
        "### Discretization \n",
        "- 11-62 not popular\n",
        "- 62-72 semi-popular\n",
        "- 72-89 popular"
      ],
      "metadata": {
        "id": "w0Z-0MUClv8j"
      }
    },
    {
      "cell_type": "code",
      "source": [
        "pop, bins = pd.qcut(df.popularity, 3, labels=[\"not popular\", \"semi-popular\", \"popular\"], retbins = True)\n",
        "print(bins)\n",
        "pop.hist()"
      ],
      "metadata": {
        "id": "6JgNzkewmSvd",
        "outputId": "c7359dc9-2ef3-4b8c-eea5-2e5c5b61d44a",
        "colab": {
          "base_uri": "https://localhost:8080/",
          "height": 355
        }
      },
      "execution_count": 74,
      "outputs": [
        {
          "output_type": "stream",
          "name": "stdout",
          "text": [
            "[11. 62. 72. 89.]\n"
          ]
        },
        {
          "output_type": "execute_result",
          "data": {
            "text/plain": [
              "<matplotlib.axes._subplots.AxesSubplot at 0x7f4312bf93d0>"
            ]
          },
          "metadata": {},
          "execution_count": 74
        },
        {
          "output_type": "display_data",
          "data": {
            "text/plain": [
              "<Figure size 720x360 with 1 Axes>"
            ],
            "image/png": "[encoded data removed]"
          },
          "metadata": {
            "needs_background": "light"
          }
        }
      ]
    }
  ]
}