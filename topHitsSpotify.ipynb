{
 "cells": [
  {
   "cell_type": "code",
   "execution_count": 265,
   "metadata": {
    "id": "_KI7XRaON0ri",
    "pycharm": {
     "name": "#%%\n"
    }
   },
   "outputs": [],
   "source": [
    "import pandas as pd\n",
    "import numpy as np\n",
    "import matplotlib.pyplot as plt #visualization\n",
    "import plotly.express as px\n",
    "import seaborn as sns #visualization\n",
    "from plotly.offline import init_notebook_mode, iplot, plot"
   ]
  },
  {
   "cell_type": "markdown",
   "metadata": {
    "id": "3tOE2TPzRoAL",
    "pycharm": {
     "name": "#%% md\n"
    }
   },
   "source": [
    "Import Data"
   ]
  },
  {
   "cell_type": "code",
   "execution_count": 266,
   "metadata": {
    "colab": {
     "base_uri": "https://localhost:8080/",
     "height": 392
    },
    "id": "dP2pjszQRm6q",
    "outputId": "1c2b0f48-bc51-4b52-c178-4d95e871d1d2",
    "pycharm": {
     "name": "#%%\n"
    }
   },
   "outputs": [
    {
     "data": {
      "text/plain": "           artist                    song  duration_ms  explicit  year  \\\n0  Britney Spears  Oops!...I Did It Again       211160     False  2000   \n1       blink-182    All The Small Things       167066     False  1999   \n2      Faith Hill                 Breathe       250546     False  1999   \n3        Bon Jovi            It's My Life       224493     False  2000   \n4          *NSYNC             Bye Bye Bye       200560     False  2000   \n\n   popularity  danceability  energy  key  loudness  mode  speechiness  \\\n0          77         0.751   0.834    1    -5.444     0       0.0437   \n1          79         0.434   0.897    0    -4.918     1       0.0488   \n2          66         0.529   0.496    7    -9.007     1       0.0290   \n3          78         0.551   0.913    0    -4.063     0       0.0466   \n4          65         0.614   0.928    8    -4.806     0       0.0516   \n\n   acousticness  instrumentalness  liveness  valence    tempo         genre  \n0        0.3000          0.000018    0.3550    0.894   95.053           pop  \n1        0.0103          0.000000    0.6120    0.684  148.726     rock, pop  \n2        0.1730          0.000000    0.2510    0.278  136.859  pop, country  \n3        0.0263          0.000013    0.3470    0.544  119.992   rock, metal  \n4        0.0408          0.001040    0.0845    0.879  172.656           pop  ",
      "text/html": "<div>\n<style scoped>\n    .dataframe tbody tr th:only-of-type {\n        vertical-align: middle;\n    }\n\n    .dataframe tbody tr th {\n        vertical-align: top;\n    }\n\n    .dataframe thead th {\n        text-align: right;\n    }\n</style>\n<table border=\"1\" class=\"dataframe\">\n  <thead>\n    <tr style=\"text-align: right;\">\n      <th></th>\n      <th>artist</th>\n      <th>song</th>\n      <th>duration_ms</th>\n      <th>explicit</th>\n      <th>year</th>\n      <th>popularity</th>\n      <th>danceability</th>\n      <th>energy</th>\n      <th>key</th>\n      <th>loudness</th>\n      <th>mode</th>\n      <th>speechiness</th>\n      <th>acousticness</th>\n      <th>instrumentalness</th>\n      <th>liveness</th>\n      <th>valence</th>\n      <th>tempo</th>\n      <th>genre</th>\n    </tr>\n  </thead>\n  <tbody>\n    <tr>\n      <th>0</th>\n      <td>Britney Spears</td>\n      <td>Oops!...I Did It Again</td>\n      <td>211160</td>\n      <td>False</td>\n      <td>2000</td>\n      <td>77</td>\n      <td>0.751</td>\n      <td>0.834</td>\n      <td>1</td>\n      <td>-5.444</td>\n      <td>0</td>\n      <td>0.0437</td>\n      <td>0.3000</td>\n      <td>0.000018</td>\n      <td>0.3550</td>\n      <td>0.894</td>\n      <td>95.053</td>\n      <td>pop</td>\n    </tr>\n    <tr>\n      <th>1</th>\n      <td>blink-182</td>\n      <td>All The Small Things</td>\n      <td>167066</td>\n      <td>False</td>\n      <td>1999</td>\n      <td>79</td>\n      <td>0.434</td>\n      <td>0.897</td>\n      <td>0</td>\n      <td>-4.918</td>\n      <td>1</td>\n      <td>0.0488</td>\n      <td>0.0103</td>\n      <td>0.000000</td>\n      <td>0.6120</td>\n      <td>0.684</td>\n      <td>148.726</td>\n      <td>rock, pop</td>\n    </tr>\n    <tr>\n      <th>2</th>\n      <td>Faith Hill</td>\n      <td>Breathe</td>\n      <td>250546</td>\n      <td>False</td>\n      <td>1999</td>\n      <td>66</td>\n      <td>0.529</td>\n      <td>0.496</td>\n      <td>7</td>\n      <td>-9.007</td>\n      <td>1</td>\n      <td>0.0290</td>\n      <td>0.1730</td>\n      <td>0.000000</td>\n      <td>0.2510</td>\n      <td>0.278</td>\n      <td>136.859</td>\n      <td>pop, country</td>\n    </tr>\n    <tr>\n      <th>3</th>\n      <td>Bon Jovi</td>\n      <td>It's My Life</td>\n      <td>224493</td>\n      <td>False</td>\n      <td>2000</td>\n      <td>78</td>\n      <td>0.551</td>\n      <td>0.913</td>\n      <td>0</td>\n      <td>-4.063</td>\n      <td>0</td>\n      <td>0.0466</td>\n      <td>0.0263</td>\n      <td>0.000013</td>\n      <td>0.3470</td>\n      <td>0.544</td>\n      <td>119.992</td>\n      <td>rock, metal</td>\n    </tr>\n    <tr>\n      <th>4</th>\n      <td>*NSYNC</td>\n      <td>Bye Bye Bye</td>\n      <td>200560</td>\n      <td>False</td>\n      <td>2000</td>\n      <td>65</td>\n      <td>0.614</td>\n      <td>0.928</td>\n      <td>8</td>\n      <td>-4.806</td>\n      <td>0</td>\n      <td>0.0516</td>\n      <td>0.0408</td>\n      <td>0.001040</td>\n      <td>0.0845</td>\n      <td>0.879</td>\n      <td>172.656</td>\n      <td>pop</td>\n    </tr>\n  </tbody>\n</table>\n</div>"
     },
     "execution_count": 266,
     "metadata": {},
     "output_type": "execute_result"
    }
   ],
   "source": [
    "df = pd.read_csv('big_dataset.csv')\n",
    "df.head()"
   ]
  },
  {
   "cell_type": "markdown",
   "metadata": {
    "id": "IsqYiCYPTSWB",
    "pycharm": {
     "name": "#%% md\n"
    }
   },
   "source": [
    "## **Preprocessing data**\n",
    "\n",
    "The data set doesn't have any null values.\n",
    "It has some duplicate entries that will be removed.\n",
    "\n",
    "Also we can convert the songs duration to seconds for better readibilty."
   ]
  },
  {
   "cell_type": "code",
   "execution_count": 267,
   "metadata": {
    "colab": {
     "base_uri": "https://localhost:8080/"
    },
    "id": "SMKPEV8hYnLw",
    "outputId": "41577528-250e-4324-9eae-3391c0924a9f",
    "pycharm": {
     "name": "#%%\n"
    }
   },
   "outputs": [
    {
     "name": "stdout",
     "output_type": "stream",
     "text": [
      "Dropped  0  duplicate rows\n",
      "New dataset shape\n"
     ]
    },
    {
     "data": {
      "text/plain": "(15858, 18)"
     },
     "execution_count": 267,
     "metadata": {},
     "output_type": "execute_result"
    }
   ],
   "source": [
    "no_rows = df.shape[0]\n",
    "df = df.drop_duplicates() # keep first duplicate row\n",
    "df[\"duration_s\"] = df.duration_ms.apply(lambda x : round(x/1000)) # add duration in seconds\n",
    "df.drop(\"duration_ms\", axis=1, inplace=True) #remove duration in ms\n",
    "print(\"Dropped \", (no_rows-df.shape[0]), \" duplicate rows\" )\n",
    "print(\"New dataset shape\")\n",
    "df.shape"
   ]
  },
  {
   "cell_type": "code",
   "execution_count": 268,
   "metadata": {
    "colab": {
     "base_uri": "https://localhost:8080/",
     "height": 542
    },
    "id": "c7VmmpOVV4wl",
    "outputId": "2383269d-88f1-4c53-9f1b-5c0950f291e5",
    "pycharm": {
     "name": "#%%\n"
    }
   },
   "outputs": [
    {
     "data": {
      "application/vnd.plotly.v1+json": {
       "config": {
        "linkText": "Export to plot.ly",
        "plotlyServerURL": "https://plot.ly",
        "showLink": false
       },
       "data": [
        {
         "alignmentgroup": "True",
         "hovertemplate": "variable=year<br>year=%{x}<br>number of songs=%{y}<extra></extra>",
         "legendgroup": "year",
         "marker": {
          "color": "#0055FF"
         },
         "name": "year",
         "offsetgroup": "year",
         "orientation": "v",
         "showlegend": true,
         "textposition": "auto",
         "type": "bar",
         "x": [
          1967,
          1969,
          1970,
          1971,
          1972,
          1974,
          1975,
          1976,
          1978,
          1981,
          1982,
          1983,
          1985,
          1986,
          1988,
          1990,
          1992,
          1993,
          1994,
          1995,
          1996,
          1997,
          1998,
          1999,
          2000,
          2001,
          2002,
          2003,
          2004,
          2005,
          2006,
          2007,
          2008,
          2009,
          2010,
          2011,
          2012,
          2013,
          2014,
          2015,
          2016,
          2017,
          2018,
          2019,
          2020,
          2021,
          2022
         ],
         "xaxis": "x",
         "y": [
          20,
          8,
          8,
          30,
          20,
          26,
          39,
          17,
          25,
          12,
          30,
          32,
          15,
          24,
          18,
          10,
          70,
          21,
          41,
          12,
          24,
          20,
          11,
          118,
          643,
          637,
          476,
          631,
          647,
          680,
          661,
          585,
          773,
          960,
          678,
          717,
          648,
          687,
          978,
          728,
          796,
          726,
          633,
          752,
          177,
          406,
          588
         ],
         "yaxis": "y"
        }
       ],
       "layout": {
        "barmode": "relative",
        "legend": {
         "title": {
          "text": "variable"
         },
         "tracegroupgap": 0
        },
        "template": {
         "data": {
          "bar": [
           {
            "error_x": {
             "color": "#f2f5fa"
            },
            "error_y": {
             "color": "#f2f5fa"
            },
            "marker": {
             "line": {
              "color": "rgb(17,17,17)",
              "width": 0.5
             }
            },
            "type": "bar"
           }
          ],
          "barpolar": [
           {
            "marker": {
             "line": {
              "color": "rgb(17,17,17)",
              "width": 0.5
             }
            },
            "type": "barpolar"
           }
          ],
          "carpet": [
           {
            "aaxis": {
             "endlinecolor": "#A2B1C6",
             "gridcolor": "#506784",
             "linecolor": "#506784",
             "minorgridcolor": "#506784",
             "startlinecolor": "#A2B1C6"
            },
            "baxis": {
             "endlinecolor": "#A2B1C6",
             "gridcolor": "#506784",
             "linecolor": "#506784",
             "minorgridcolor": "#506784",
             "startlinecolor": "#A2B1C6"
            },
            "type": "carpet"
           }
          ],
          "choropleth": [
           {
            "colorbar": {
             "outlinewidth": 0,
             "ticks": ""
            },
            "type": "choropleth"
           }
          ],
          "contour": [
           {
            "colorbar": {
             "outlinewidth": 0,
             "ticks": ""
            },
            "colorscale": [
             [
              0.0,
              "#0d0887"
             ],
             [
              0.1111111111111111,
              "#46039f"
             ],
             [
              0.2222222222222222,
              "#7201a8"
             ],
             [
              0.3333333333333333,
              "#9c179e"
             ],
             [
              0.4444444444444444,
              "#bd3786"
             ],
             [
              0.5555555555555556,
              "#d8576b"
             ],
             [
              0.6666666666666666,
              "#ed7953"
             ],
             [
              0.7777777777777778,
              "#fb9f3a"
             ],
             [
              0.8888888888888888,
              "#fdca26"
             ],
             [
              1.0,
              "#f0f921"
             ]
            ],
            "type": "contour"
           }
          ],
          "contourcarpet": [
           {
            "colorbar": {
             "outlinewidth": 0,
             "ticks": ""
            },
            "type": "contourcarpet"
           }
          ],
          "heatmap": [
           {
            "colorbar": {
             "outlinewidth": 0,
             "ticks": ""
            },
            "colorscale": [
             [
              0.0,
              "#0d0887"
             ],
             [
              0.1111111111111111,
              "#46039f"
             ],
             [
              0.2222222222222222,
              "#7201a8"
             ],
             [
              0.3333333333333333,
              "#9c179e"
             ],
             [
              0.4444444444444444,
              "#bd3786"
             ],
             [
              0.5555555555555556,
              "#d8576b"
             ],
             [
              0.6666666666666666,
              "#ed7953"
             ],
             [
              0.7777777777777778,
              "#fb9f3a"
             ],
             [
              0.8888888888888888,
              "#fdca26"
             ],
             [
              1.0,
              "#f0f921"
             ]
            ],
            "type": "heatmap"
           }
          ],
          "heatmapgl": [
           {
            "colorbar": {
             "outlinewidth": 0,
             "ticks": ""
            },
            "colorscale": [
             [
              0.0,
              "#0d0887"
             ],
             [
              0.1111111111111111,
              "#46039f"
             ],
             [
              0.2222222222222222,
              "#7201a8"
             ],
             [
              0.3333333333333333,
              "#9c179e"
             ],
             [
              0.4444444444444444,
              "#bd3786"
             ],
             [
              0.5555555555555556,
              "#d8576b"
             ],
             [
              0.6666666666666666,
              "#ed7953"
             ],
             [
              0.7777777777777778,
              "#fb9f3a"
             ],
             [
              0.8888888888888888,
              "#fdca26"
             ],
             [
              1.0,
              "#f0f921"
             ]
            ],
            "type": "heatmapgl"
           }
          ],
          "histogram": [
           {
            "marker": {
             "colorbar": {
              "outlinewidth": 0,
              "ticks": ""
             }
            },
            "type": "histogram"
           }
          ],
          "histogram2d": [
           {
            "colorbar": {
             "outlinewidth": 0,
             "ticks": ""
            },
            "colorscale": [
             [
              0.0,
              "#0d0887"
             ],
             [
              0.1111111111111111,
              "#46039f"
             ],
             [
              0.2222222222222222,
              "#7201a8"
             ],
             [
              0.3333333333333333,
              "#9c179e"
             ],
             [
              0.4444444444444444,
              "#bd3786"
             ],
             [
              0.5555555555555556,
              "#d8576b"
             ],
             [
              0.6666666666666666,
              "#ed7953"
             ],
             [
              0.7777777777777778,
              "#fb9f3a"
             ],
             [
              0.8888888888888888,
              "#fdca26"
             ],
             [
              1.0,
              "#f0f921"
             ]
            ],
            "type": "histogram2d"
           }
          ],
          "histogram2dcontour": [
           {
            "colorbar": {
             "outlinewidth": 0,
             "ticks": ""
            },
            "colorscale": [
             [
              0.0,
              "#0d0887"
             ],
             [
              0.1111111111111111,
              "#46039f"
             ],
             [
              0.2222222222222222,
              "#7201a8"
             ],
             [
              0.3333333333333333,
              "#9c179e"
             ],
             [
              0.4444444444444444,
              "#bd3786"
             ],
             [
              0.5555555555555556,
              "#d8576b"
             ],
             [
              0.6666666666666666,
              "#ed7953"
             ],
             [
              0.7777777777777778,
              "#fb9f3a"
             ],
             [
              0.8888888888888888,
              "#fdca26"
             ],
             [
              1.0,
              "#f0f921"
             ]
            ],
            "type": "histogram2dcontour"
           }
          ],
          "mesh3d": [
           {
            "colorbar": {
             "outlinewidth": 0,
             "ticks": ""
            },
            "type": "mesh3d"
           }
          ],
          "parcoords": [
           {
            "line": {
             "colorbar": {
              "outlinewidth": 0,
              "ticks": ""
             }
            },
            "type": "parcoords"
           }
          ],
          "pie": [
           {
            "automargin": true,
            "type": "pie"
           }
          ],
          "scatter": [
           {
            "marker": {
             "line": {
              "color": "#283442"
             }
            },
            "type": "scatter"
           }
          ],
          "scatter3d": [
           {
            "line": {
             "colorbar": {
              "outlinewidth": 0,
              "ticks": ""
             }
            },
            "marker": {
             "colorbar": {
              "outlinewidth": 0,
              "ticks": ""
             }
            },
            "type": "scatter3d"
           }
          ],
          "scattercarpet": [
           {
            "marker": {
             "colorbar": {
              "outlinewidth": 0,
              "ticks": ""
             }
            },
            "type": "scattercarpet"
           }
          ],
          "scattergeo": [
           {
            "marker": {
             "colorbar": {
              "outlinewidth": 0,
              "ticks": ""
             }
            },
            "type": "scattergeo"
           }
          ],
          "scattergl": [
           {
            "marker": {
             "line": {
              "color": "#283442"
             }
            },
            "type": "scattergl"
           }
          ],
          "scattermapbox": [
           {
            "marker": {
             "colorbar": {
              "outlinewidth": 0,
              "ticks": ""
             }
            },
            "type": "scattermapbox"
           }
          ],
          "scatterpolar": [
           {
            "marker": {
             "colorbar": {
              "outlinewidth": 0,
              "ticks": ""
             }
            },
            "type": "scatterpolar"
           }
          ],
          "scatterpolargl": [
           {
            "marker": {
             "colorbar": {
              "outlinewidth": 0,
              "ticks": ""
             }
            },
            "type": "scatterpolargl"
           }
          ],
          "scatterternary": [
           {
            "marker": {
             "colorbar": {
              "outlinewidth": 0,
              "ticks": ""
             }
            },
            "type": "scatterternary"
           }
          ],
          "surface": [
           {
            "colorbar": {
             "outlinewidth": 0,
             "ticks": ""
            },
            "colorscale": [
             [
              0.0,
              "#0d0887"
             ],
             [
              0.1111111111111111,
              "#46039f"
             ],
             [
              0.2222222222222222,
              "#7201a8"
             ],
             [
              0.3333333333333333,
              "#9c179e"
             ],
             [
              0.4444444444444444,
              "#bd3786"
             ],
             [
              0.5555555555555556,
              "#d8576b"
             ],
             [
              0.6666666666666666,
              "#ed7953"
             ],
             [
              0.7777777777777778,
              "#fb9f3a"
             ],
             [
              0.8888888888888888,
              "#fdca26"
             ],
             [
              1.0,
              "#f0f921"
             ]
            ],
            "type": "surface"
           }
          ],
          "table": [
           {
            "cells": {
             "fill": {
              "color": "#506784"
             },
             "line": {
              "color": "rgb(17,17,17)"
             }
            },
            "header": {
             "fill": {
              "color": "#2a3f5f"
             },
             "line": {
              "color": "rgb(17,17,17)"
             }
            },
            "type": "table"
           }
          ]
         },
         "layout": {
          "annotationdefaults": {
           "arrowcolor": "#f2f5fa",
           "arrowhead": 0,
           "arrowwidth": 1
          },
          "autotypenumbers": "strict",
          "coloraxis": {
           "colorbar": {
            "outlinewidth": 0,
            "ticks": ""
           }
          },
          "colorscale": {
           "diverging": [
            [
             0,
             "#8e0152"
            ],
            [
             0.1,
             "#c51b7d"
            ],
            [
             0.2,
             "#de77ae"
            ],
            [
             0.3,
             "#f1b6da"
            ],
            [
             0.4,
             "#fde0ef"
            ],
            [
             0.5,
             "#f7f7f7"
            ],
            [
             0.6,
             "#e6f5d0"
            ],
            [
             0.7,
             "#b8e186"
            ],
            [
             0.8,
             "#7fbc41"
            ],
            [
             0.9,
             "#4d9221"
            ],
            [
             1,
             "#276419"
            ]
           ],
           "sequential": [
            [
             0.0,
             "#0d0887"
            ],
            [
             0.1111111111111111,
             "#46039f"
            ],
            [
             0.2222222222222222,
             "#7201a8"
            ],
            [
             0.3333333333333333,
             "#9c179e"
            ],
            [
             0.4444444444444444,
             "#bd3786"
            ],
            [
             0.5555555555555556,
             "#d8576b"
            ],
            [
             0.6666666666666666,
             "#ed7953"
            ],
            [
             0.7777777777777778,
             "#fb9f3a"
            ],
            [
             0.8888888888888888,
             "#fdca26"
            ],
            [
             1.0,
             "#f0f921"
            ]
           ],
           "sequentialminus": [
            [
             0.0,
             "#0d0887"
            ],
            [
             0.1111111111111111,
             "#46039f"
            ],
            [
             0.2222222222222222,
             "#7201a8"
            ],
            [
             0.3333333333333333,
             "#9c179e"
            ],
            [
             0.4444444444444444,
             "#bd3786"
            ],
            [
             0.5555555555555556,
             "#d8576b"
            ],
            [
             0.6666666666666666,
             "#ed7953"
            ],
            [
             0.7777777777777778,
             "#fb9f3a"
            ],
            [
             0.8888888888888888,
             "#fdca26"
            ],
            [
             1.0,
             "#f0f921"
            ]
           ]
          },
          "colorway": [
           "#636efa",
           "#EF553B",
           "#00cc96",
           "#ab63fa",
           "#FFA15A",
           "#19d3f3",
           "#FF6692",
           "#B6E880",
           "#FF97FF",
           "#FECB52"
          ],
          "font": {
           "color": "#f2f5fa"
          },
          "geo": {
           "bgcolor": "rgb(17,17,17)",
           "lakecolor": "rgb(17,17,17)",
           "landcolor": "rgb(17,17,17)",
           "showlakes": true,
           "showland": true,
           "subunitcolor": "#506784"
          },
          "hoverlabel": {
           "align": "left"
          },
          "hovermode": "closest",
          "mapbox": {
           "style": "dark"
          },
          "paper_bgcolor": "rgb(17,17,17)",
          "plot_bgcolor": "rgb(17,17,17)",
          "polar": {
           "angularaxis": {
            "gridcolor": "#506784",
            "linecolor": "#506784",
            "ticks": ""
           },
           "bgcolor": "rgb(17,17,17)",
           "radialaxis": {
            "gridcolor": "#506784",
            "linecolor": "#506784",
            "ticks": ""
           }
          },
          "scene": {
           "xaxis": {
            "backgroundcolor": "rgb(17,17,17)",
            "gridcolor": "#506784",
            "gridwidth": 2,
            "linecolor": "#506784",
            "showbackground": true,
            "ticks": "",
            "zerolinecolor": "#C8D4E3"
           },
           "yaxis": {
            "backgroundcolor": "rgb(17,17,17)",
            "gridcolor": "#506784",
            "gridwidth": 2,
            "linecolor": "#506784",
            "showbackground": true,
            "ticks": "",
            "zerolinecolor": "#C8D4E3"
           },
           "zaxis": {
            "backgroundcolor": "rgb(17,17,17)",
            "gridcolor": "#506784",
            "gridwidth": 2,
            "linecolor": "#506784",
            "showbackground": true,
            "ticks": "",
            "zerolinecolor": "#C8D4E3"
           }
          },
          "shapedefaults": {
           "line": {
            "color": "#f2f5fa"
           }
          },
          "sliderdefaults": {
           "bgcolor": "#C8D4E3",
           "bordercolor": "rgb(17,17,17)",
           "borderwidth": 1,
           "tickwidth": 0
          },
          "ternary": {
           "aaxis": {
            "gridcolor": "#506784",
            "linecolor": "#506784",
            "ticks": ""
           },
           "baxis": {
            "gridcolor": "#506784",
            "linecolor": "#506784",
            "ticks": ""
           },
           "bgcolor": "rgb(17,17,17)",
           "caxis": {
            "gridcolor": "#506784",
            "linecolor": "#506784",
            "ticks": ""
           }
          },
          "title": {
           "x": 0.05
          },
          "updatemenudefaults": {
           "bgcolor": "#506784",
           "borderwidth": 0
          },
          "xaxis": {
           "automargin": true,
           "gridcolor": "#283442",
           "linecolor": "#506784",
           "ticks": "",
           "title": {
            "standoff": 15
           },
           "zerolinecolor": "#283442",
           "zerolinewidth": 2
          },
          "yaxis": {
           "automargin": true,
           "gridcolor": "#283442",
           "linecolor": "#506784",
           "ticks": "",
           "title": {
            "standoff": 15
           },
           "zerolinecolor": "#283442",
           "zerolinewidth": 2
          }
         }
        },
        "title": {
         "text": "Songs per year"
        },
        "xaxis": {
         "anchor": "y",
         "domain": [
          0.0,
          1.0
         ],
         "title": {
          "text": "year"
         },
         "type": "category"
        },
        "yaxis": {
         "anchor": "x",
         "domain": [
          0.0,
          1.0
         ],
         "title": {
          "text": "number of songs"
         }
        }
       }
      },
      "text/html": "<div>                            <div id=\"e2c7ca1c-4d65-49ef-a775-a18826864381\" class=\"plotly-graph-div\" style=\"height:525px; width:100%;\"></div>            <script type=\"text/javascript\">                require([\"plotly\"], function(Plotly) {                    window.PLOTLYENV=window.PLOTLYENV || {};                                    if (document.getElementById(\"e2c7ca1c-4d65-49ef-a775-a18826864381\")) {                    Plotly.newPlot(                        \"e2c7ca1c-4d65-49ef-a775-a18826864381\",                        [{\"alignmentgroup\": \"True\", \"hovertemplate\": \"variable=year<br>year=%{x}<br>number of songs=%{y}<extra></extra>\", \"legendgroup\": \"year\", \"marker\": {\"color\": \"#0055FF\"}, \"name\": \"year\", \"offsetgroup\": \"year\", \"orientation\": \"v\", \"showlegend\": true, \"textposition\": \"auto\", \"type\": \"bar\", \"x\": [1967, 1969, 1970, 1971, 1972, 1974, 1975, 1976, 1978, 1981, 1982, 1983, 1985, 1986, 1988, 1990, 1992, 1993, 1994, 1995, 1996, 1997, 1998, 1999, 2000, 2001, 2002, 2003, 2004, 2005, 2006, 2007, 2008, 2009, 2010, 2011, 2012, 2013, 2014, 2015, 2016, 2017, 2018, 2019, 2020, 2021, 2022], \"xaxis\": \"x\", \"y\": [20, 8, 8, 30, 20, 26, 39, 17, 25, 12, 30, 32, 15, 24, 18, 10, 70, 21, 41, 12, 24, 20, 11, 118, 643, 637, 476, 631, 647, 680, 661, 585, 773, 960, 678, 717, 648, 687, 978, 728, 796, 726, 633, 752, 177, 406, 588], \"yaxis\": \"y\"}],                        {\"barmode\": \"relative\", \"legend\": {\"title\": {\"text\": \"variable\"}, \"tracegroupgap\": 0}, \"template\": {\"data\": {\"bar\": [{\"error_x\": {\"color\": \"#f2f5fa\"}, \"error_y\": {\"color\": \"#f2f5fa\"}, \"marker\": {\"line\": {\"color\": \"rgb(17,17,17)\", \"width\": 0.5}}, \"type\": \"bar\"}], \"barpolar\": [{\"marker\": {\"line\": {\"color\": \"rgb(17,17,17)\", \"width\": 0.5}}, \"type\": \"barpolar\"}], \"carpet\": [{\"aaxis\": {\"endlinecolor\": \"#A2B1C6\", \"gridcolor\": \"#506784\", \"linecolor\": \"#506784\", \"minorgridcolor\": \"#506784\", \"startlinecolor\": \"#A2B1C6\"}, \"baxis\": {\"endlinecolor\": \"#A2B1C6\", \"gridcolor\": \"#506784\", \"linecolor\": \"#506784\", \"minorgridcolor\": \"#506784\", \"startlinecolor\": \"#A2B1C6\"}, \"type\": \"carpet\"}], \"choropleth\": [{\"colorbar\": {\"outlinewidth\": 0, \"ticks\": \"\"}, \"type\": \"choropleth\"}], \"contour\": [{\"colorbar\": {\"outlinewidth\": 0, \"ticks\": \"\"}, \"colorscale\": [[0.0, \"#0d0887\"], [0.1111111111111111, \"#46039f\"], [0.2222222222222222, \"#7201a8\"], [0.3333333333333333, \"#9c179e\"], [0.4444444444444444, \"#bd3786\"], [0.5555555555555556, \"#d8576b\"], [0.6666666666666666, \"#ed7953\"], [0.7777777777777778, \"#fb9f3a\"], [0.8888888888888888, \"#fdca26\"], [1.0, \"#f0f921\"]], \"type\": \"contour\"}], \"contourcarpet\": [{\"colorbar\": {\"outlinewidth\": 0, \"ticks\": \"\"}, \"type\": \"contourcarpet\"}], \"heatmap\": [{\"colorbar\": {\"outlinewidth\": 0, \"ticks\": \"\"}, \"colorscale\": [[0.0, \"#0d0887\"], [0.1111111111111111, \"#46039f\"], [0.2222222222222222, \"#7201a8\"], [0.3333333333333333, \"#9c179e\"], [0.4444444444444444, \"#bd3786\"], [0.5555555555555556, \"#d8576b\"], [0.6666666666666666, \"#ed7953\"], [0.7777777777777778, \"#fb9f3a\"], [0.8888888888888888, \"#fdca26\"], [1.0, \"#f0f921\"]], \"type\": \"heatmap\"}], \"heatmapgl\": [{\"colorbar\": {\"outlinewidth\": 0, \"ticks\": \"\"}, \"colorscale\": [[0.0, \"#0d0887\"], [0.1111111111111111, \"#46039f\"], [0.2222222222222222, \"#7201a8\"], [0.3333333333333333, \"#9c179e\"], [0.4444444444444444, \"#bd3786\"], [0.5555555555555556, \"#d8576b\"], [0.6666666666666666, \"#ed7953\"], [0.7777777777777778, \"#fb9f3a\"], [0.8888888888888888, \"#fdca26\"], [1.0, \"#f0f921\"]], \"type\": \"heatmapgl\"}], \"histogram\": [{\"marker\": {\"colorbar\": {\"outlinewidth\": 0, \"ticks\": \"\"}}, \"type\": \"histogram\"}], \"histogram2d\": [{\"colorbar\": {\"outlinewidth\": 0, \"ticks\": \"\"}, \"colorscale\": [[0.0, \"#0d0887\"], [0.1111111111111111, \"#46039f\"], [0.2222222222222222, \"#7201a8\"], [0.3333333333333333, \"#9c179e\"], [0.4444444444444444, \"#bd3786\"], [0.5555555555555556, \"#d8576b\"], [0.6666666666666666, \"#ed7953\"], [0.7777777777777778, \"#fb9f3a\"], [0.8888888888888888, \"#fdca26\"], [1.0, \"#f0f921\"]], \"type\": \"histogram2d\"}], \"histogram2dcontour\": [{\"colorbar\": {\"outlinewidth\": 0, \"ticks\": \"\"}, \"colorscale\": [[0.0, \"#0d0887\"], [0.1111111111111111, \"#46039f\"], [0.2222222222222222, \"#7201a8\"], [0.3333333333333333, \"#9c179e\"], [0.4444444444444444, \"#bd3786\"], [0.5555555555555556, \"#d8576b\"], [0.6666666666666666, \"#ed7953\"], [0.7777777777777778, \"#fb9f3a\"], [0.8888888888888888, \"#fdca26\"], [1.0, \"#f0f921\"]], \"type\": \"histogram2dcontour\"}], \"mesh3d\": [{\"colorbar\": {\"outlinewidth\": 0, \"ticks\": \"\"}, \"type\": \"mesh3d\"}], \"parcoords\": [{\"line\": {\"colorbar\": {\"outlinewidth\": 0, \"ticks\": \"\"}}, \"type\": \"parcoords\"}], \"pie\": [{\"automargin\": true, \"type\": \"pie\"}], \"scatter\": [{\"marker\": {\"line\": {\"color\": \"#283442\"}}, \"type\": \"scatter\"}], \"scatter3d\": [{\"line\": {\"colorbar\": {\"outlinewidth\": 0, \"ticks\": \"\"}}, \"marker\": {\"colorbar\": {\"outlinewidth\": 0, \"ticks\": \"\"}}, \"type\": \"scatter3d\"}], \"scattercarpet\": [{\"marker\": {\"colorbar\": {\"outlinewidth\": 0, \"ticks\": \"\"}}, \"type\": \"scattercarpet\"}], \"scattergeo\": [{\"marker\": {\"colorbar\": {\"outlinewidth\": 0, \"ticks\": \"\"}}, \"type\": \"scattergeo\"}], \"scattergl\": [{\"marker\": {\"line\": {\"color\": \"#283442\"}}, \"type\": \"scattergl\"}], \"scattermapbox\": [{\"marker\": {\"colorbar\": {\"outlinewidth\": 0, \"ticks\": \"\"}}, \"type\": \"scattermapbox\"}], \"scatterpolar\": [{\"marker\": {\"colorbar\": {\"outlinewidth\": 0, \"ticks\": \"\"}}, \"type\": \"scatterpolar\"}], \"scatterpolargl\": [{\"marker\": {\"colorbar\": {\"outlinewidth\": 0, \"ticks\": \"\"}}, \"type\": \"scatterpolargl\"}], \"scatterternary\": [{\"marker\": {\"colorbar\": {\"outlinewidth\": 0, \"ticks\": \"\"}}, \"type\": \"scatterternary\"}], \"surface\": [{\"colorbar\": {\"outlinewidth\": 0, \"ticks\": \"\"}, \"colorscale\": [[0.0, \"#0d0887\"], [0.1111111111111111, \"#46039f\"], [0.2222222222222222, \"#7201a8\"], [0.3333333333333333, \"#9c179e\"], [0.4444444444444444, \"#bd3786\"], [0.5555555555555556, \"#d8576b\"], [0.6666666666666666, \"#ed7953\"], [0.7777777777777778, \"#fb9f3a\"], [0.8888888888888888, \"#fdca26\"], [1.0, \"#f0f921\"]], \"type\": \"surface\"}], \"table\": [{\"cells\": {\"fill\": {\"color\": \"#506784\"}, \"line\": {\"color\": \"rgb(17,17,17)\"}}, \"header\": {\"fill\": {\"color\": \"#2a3f5f\"}, \"line\": {\"color\": \"rgb(17,17,17)\"}}, \"type\": \"table\"}]}, \"layout\": {\"annotationdefaults\": {\"arrowcolor\": \"#f2f5fa\", \"arrowhead\": 0, \"arrowwidth\": 1}, \"autotypenumbers\": \"strict\", \"coloraxis\": {\"colorbar\": {\"outlinewidth\": 0, \"ticks\": \"\"}}, \"colorscale\": {\"diverging\": [[0, \"#8e0152\"], [0.1, \"#c51b7d\"], [0.2, \"#de77ae\"], [0.3, \"#f1b6da\"], [0.4, \"#fde0ef\"], [0.5, \"#f7f7f7\"], [0.6, \"#e6f5d0\"], [0.7, \"#b8e186\"], [0.8, \"#7fbc41\"], [0.9, \"#4d9221\"], [1, \"#276419\"]], \"sequential\": [[0.0, \"#0d0887\"], [0.1111111111111111, \"#46039f\"], [0.2222222222222222, \"#7201a8\"], [0.3333333333333333, \"#9c179e\"], [0.4444444444444444, \"#bd3786\"], [0.5555555555555556, \"#d8576b\"], [0.6666666666666666, \"#ed7953\"], [0.7777777777777778, \"#fb9f3a\"], [0.8888888888888888, \"#fdca26\"], [1.0, \"#f0f921\"]], \"sequentialminus\": [[0.0, \"#0d0887\"], [0.1111111111111111, \"#46039f\"], [0.2222222222222222, \"#7201a8\"], [0.3333333333333333, \"#9c179e\"], [0.4444444444444444, \"#bd3786\"], [0.5555555555555556, \"#d8576b\"], [0.6666666666666666, \"#ed7953\"], [0.7777777777777778, \"#fb9f3a\"], [0.8888888888888888, \"#fdca26\"], [1.0, \"#f0f921\"]]}, \"colorway\": [\"#636efa\", \"#EF553B\", \"#00cc96\", \"#ab63fa\", \"#FFA15A\", \"#19d3f3\", \"#FF6692\", \"#B6E880\", \"#FF97FF\", \"#FECB52\"], \"font\": {\"color\": \"#f2f5fa\"}, \"geo\": {\"bgcolor\": \"rgb(17,17,17)\", \"lakecolor\": \"rgb(17,17,17)\", \"landcolor\": \"rgb(17,17,17)\", \"showlakes\": true, \"showland\": true, \"subunitcolor\": \"#506784\"}, \"hoverlabel\": {\"align\": \"left\"}, \"hovermode\": \"closest\", \"mapbox\": {\"style\": \"dark\"}, \"paper_bgcolor\": \"rgb(17,17,17)\", \"plot_bgcolor\": \"rgb(17,17,17)\", \"polar\": {\"angularaxis\": {\"gridcolor\": \"#506784\", \"linecolor\": \"#506784\", \"ticks\": \"\"}, \"bgcolor\": \"rgb(17,17,17)\", \"radialaxis\": {\"gridcolor\": \"#506784\", \"linecolor\": \"#506784\", \"ticks\": \"\"}}, \"scene\": {\"xaxis\": {\"backgroundcolor\": \"rgb(17,17,17)\", \"gridcolor\": \"#506784\", \"gridwidth\": 2, \"linecolor\": \"#506784\", \"showbackground\": true, \"ticks\": \"\", \"zerolinecolor\": \"#C8D4E3\"}, \"yaxis\": {\"backgroundcolor\": \"rgb(17,17,17)\", \"gridcolor\": \"#506784\", \"gridwidth\": 2, \"linecolor\": \"#506784\", \"showbackground\": true, \"ticks\": \"\", \"zerolinecolor\": \"#C8D4E3\"}, \"zaxis\": {\"backgroundcolor\": \"rgb(17,17,17)\", \"gridcolor\": \"#506784\", \"gridwidth\": 2, \"linecolor\": \"#506784\", \"showbackground\": true, \"ticks\": \"\", \"zerolinecolor\": \"#C8D4E3\"}}, \"shapedefaults\": {\"line\": {\"color\": \"#f2f5fa\"}}, \"sliderdefaults\": {\"bgcolor\": \"#C8D4E3\", \"bordercolor\": \"rgb(17,17,17)\", \"borderwidth\": 1, \"tickwidth\": 0}, \"ternary\": {\"aaxis\": {\"gridcolor\": \"#506784\", \"linecolor\": \"#506784\", \"ticks\": \"\"}, \"baxis\": {\"gridcolor\": \"#506784\", \"linecolor\": \"#506784\", \"ticks\": \"\"}, \"bgcolor\": \"rgb(17,17,17)\", \"caxis\": {\"gridcolor\": \"#506784\", \"linecolor\": \"#506784\", \"ticks\": \"\"}}, \"title\": {\"x\": 0.05}, \"updatemenudefaults\": {\"bgcolor\": \"#506784\", \"borderwidth\": 0}, \"xaxis\": {\"automargin\": true, \"gridcolor\": \"#283442\", \"linecolor\": \"#506784\", \"ticks\": \"\", \"title\": {\"standoff\": 15}, \"zerolinecolor\": \"#283442\", \"zerolinewidth\": 2}, \"yaxis\": {\"automargin\": true, \"gridcolor\": \"#283442\", \"linecolor\": \"#506784\", \"ticks\": \"\", \"title\": {\"standoff\": 15}, \"zerolinecolor\": \"#283442\", \"zerolinewidth\": 2}}}, \"title\": {\"text\": \"Songs per year\"}, \"xaxis\": {\"anchor\": \"y\", \"domain\": [0.0, 1.0], \"title\": {\"text\": \"year\"}, \"type\": \"category\"}, \"yaxis\": {\"anchor\": \"x\", \"domain\": [0.0, 1.0], \"title\": {\"text\": \"number of songs\"}}},                        {\"responsive\": true}                    ).then(function(){\n                            \nvar gd = document.getElementById('e2c7ca1c-4d65-49ef-a775-a18826864381');\nvar x = new MutationObserver(function (mutations, observer) {{\n        var display = window.getComputedStyle(gd).display;\n        if (!display || display === 'none') {{\n            console.log([gd, 'removed!']);\n            Plotly.purge(gd);\n            observer.disconnect();\n        }}\n}});\n\n// Listen for the removal of the full notebook cells\nvar notebookContainer = gd.closest('#notebook-container');\nif (notebookContainer) {{\n    x.observe(notebookContainer, {childList: true});\n}}\n\n// Listen for the clearing of the current output cell\nvar outputEl = gd.closest('.output');\nif (outputEl) {{\n    x.observe(outputEl, {childList: true});\n}}\n\n                        })                };                });            </script>        </div>"
     },
     "metadata": {},
     "output_type": "display_data"
    }
   ],
   "source": [
    "\n",
    "#Top Hits by Year\n",
    "songs_per_years = df['year'].value_counts().sort_index()\n",
    "\n",
    "iplot(px.bar(songs_per_years, \n",
    "       title='Songs per year',\n",
    "       labels=dict(index='year',value='number of songs'),\n",
    "       color_discrete_sequence=['#0055FF']\n",
    "      ).update_xaxes(type='category'))\n"
   ]
  },
  {
   "cell_type": "markdown",
   "metadata": {
    "id": "cHPtftjMYPc6",
    "pycharm": {
     "name": "#%% md\n"
    }
   },
   "source": [
    "Since the years 1998, 1999 and 2020 have few examples, we will be removing songs from those years.\n",
    "Also, we considered that the song **title** won't have any correlation with its popularity, so that column will be removed.\n",
    "\n",
    "\n",
    "```\n",
    "# This is formatted as code\n",
    "```\n",
    "\n"
   ]
  },
  {
   "cell_type": "code",
   "execution_count": 269,
   "metadata": {
    "id": "ElWisoEsSCZu",
    "pycharm": {
     "name": "#%%\n"
    }
   },
   "outputs": [],
   "source": [
    "df = df[(df.year >= 2000) & (df.year <= 2019)] \n",
    "df = df.drop(['song'], axis = 1) #removing song title column\n",
    "#df.head()\n"
   ]
  },
  {
   "cell_type": "code",
   "execution_count": 270,
   "outputs": [
    {
     "data": {
      "application/vnd.plotly.v1+json": {
       "config": {
        "linkText": "Export to plot.ly",
        "plotlyServerURL": "https://plot.ly",
        "showLink": false
       },
       "data": [
        {
         "alignmentgroup": "True",
         "hovertemplate": "variable=year<br>year=%{x}<br>number of songs=%{y}<extra></extra>",
         "legendgroup": "year",
         "marker": {
          "color": "#0055FF"
         },
         "name": "year",
         "offsetgroup": "year",
         "orientation": "v",
         "showlegend": true,
         "textposition": "auto",
         "type": "bar",
         "x": [
          2000,
          2001,
          2002,
          2003,
          2004,
          2005,
          2006,
          2007,
          2008,
          2009,
          2010,
          2011,
          2012,
          2013,
          2014,
          2015,
          2016,
          2017,
          2018,
          2019
         ],
         "xaxis": "x",
         "y": [
          643,
          637,
          476,
          631,
          647,
          680,
          661,
          585,
          773,
          960,
          678,
          717,
          648,
          687,
          978,
          728,
          796,
          726,
          633,
          752
         ],
         "yaxis": "y"
        }
       ],
       "layout": {
        "barmode": "relative",
        "legend": {
         "title": {
          "text": "variable"
         },
         "tracegroupgap": 0
        },
        "template": {
         "data": {
          "bar": [
           {
            "error_x": {
             "color": "#f2f5fa"
            },
            "error_y": {
             "color": "#f2f5fa"
            },
            "marker": {
             "line": {
              "color": "rgb(17,17,17)",
              "width": 0.5
             }
            },
            "type": "bar"
           }
          ],
          "barpolar": [
           {
            "marker": {
             "line": {
              "color": "rgb(17,17,17)",
              "width": 0.5
             }
            },
            "type": "barpolar"
           }
          ],
          "carpet": [
           {
            "aaxis": {
             "endlinecolor": "#A2B1C6",
             "gridcolor": "#506784",
             "linecolor": "#506784",
             "minorgridcolor": "#506784",
             "startlinecolor": "#A2B1C6"
            },
            "baxis": {
             "endlinecolor": "#A2B1C6",
             "gridcolor": "#506784",
             "linecolor": "#506784",
             "minorgridcolor": "#506784",
             "startlinecolor": "#A2B1C6"
            },
            "type": "carpet"
           }
          ],
          "choropleth": [
           {
            "colorbar": {
             "outlinewidth": 0,
             "ticks": ""
            },
            "type": "choropleth"
           }
          ],
          "contour": [
           {
            "colorbar": {
             "outlinewidth": 0,
             "ticks": ""
            },
            "colorscale": [
             [
              0.0,
              "#0d0887"
             ],
             [
              0.1111111111111111,
              "#46039f"
             ],
             [
              0.2222222222222222,
              "#7201a8"
             ],
             [
              0.3333333333333333,
              "#9c179e"
             ],
             [
              0.4444444444444444,
              "#bd3786"
             ],
             [
              0.5555555555555556,
              "#d8576b"
             ],
             [
              0.6666666666666666,
              "#ed7953"
             ],
             [
              0.7777777777777778,
              "#fb9f3a"
             ],
             [
              0.8888888888888888,
              "#fdca26"
             ],
             [
              1.0,
              "#f0f921"
             ]
            ],
            "type": "contour"
           }
          ],
          "contourcarpet": [
           {
            "colorbar": {
             "outlinewidth": 0,
             "ticks": ""
            },
            "type": "contourcarpet"
           }
          ],
          "heatmap": [
           {
            "colorbar": {
             "outlinewidth": 0,
             "ticks": ""
            },
            "colorscale": [
             [
              0.0,
              "#0d0887"
             ],
             [
              0.1111111111111111,
              "#46039f"
             ],
             [
              0.2222222222222222,
              "#7201a8"
             ],
             [
              0.3333333333333333,
              "#9c179e"
             ],
             [
              0.4444444444444444,
              "#bd3786"
             ],
             [
              0.5555555555555556,
              "#d8576b"
             ],
             [
              0.6666666666666666,
              "#ed7953"
             ],
             [
              0.7777777777777778,
              "#fb9f3a"
             ],
             [
              0.8888888888888888,
              "#fdca26"
             ],
             [
              1.0,
              "#f0f921"
             ]
            ],
            "type": "heatmap"
           }
          ],
          "heatmapgl": [
           {
            "colorbar": {
             "outlinewidth": 0,
             "ticks": ""
            },
            "colorscale": [
             [
              0.0,
              "#0d0887"
             ],
             [
              0.1111111111111111,
              "#46039f"
             ],
             [
              0.2222222222222222,
              "#7201a8"
             ],
             [
              0.3333333333333333,
              "#9c179e"
             ],
             [
              0.4444444444444444,
              "#bd3786"
             ],
             [
              0.5555555555555556,
              "#d8576b"
             ],
             [
              0.6666666666666666,
              "#ed7953"
             ],
             [
              0.7777777777777778,
              "#fb9f3a"
             ],
             [
              0.8888888888888888,
              "#fdca26"
             ],
             [
              1.0,
              "#f0f921"
             ]
            ],
            "type": "heatmapgl"
           }
          ],
          "histogram": [
           {
            "marker": {
             "colorbar": {
              "outlinewidth": 0,
              "ticks": ""
             }
            },
            "type": "histogram"
           }
          ],
          "histogram2d": [
           {
            "colorbar": {
             "outlinewidth": 0,
             "ticks": ""
            },
            "colorscale": [
             [
              0.0,
              "#0d0887"
             ],
             [
              0.1111111111111111,
              "#46039f"
             ],
             [
              0.2222222222222222,
              "#7201a8"
             ],
             [
              0.3333333333333333,
              "#9c179e"
             ],
             [
              0.4444444444444444,
              "#bd3786"
             ],
             [
              0.5555555555555556,
              "#d8576b"
             ],
             [
              0.6666666666666666,
              "#ed7953"
             ],
             [
              0.7777777777777778,
              "#fb9f3a"
             ],
             [
              0.8888888888888888,
              "#fdca26"
             ],
             [
              1.0,
              "#f0f921"
             ]
            ],
            "type": "histogram2d"
           }
          ],
          "histogram2dcontour": [
           {
            "colorbar": {
             "outlinewidth": 0,
             "ticks": ""
            },
            "colorscale": [
             [
              0.0,
              "#0d0887"
             ],
             [
              0.1111111111111111,
              "#46039f"
             ],
             [
              0.2222222222222222,
              "#7201a8"
             ],
             [
              0.3333333333333333,
              "#9c179e"
             ],
             [
              0.4444444444444444,
              "#bd3786"
             ],
             [
              0.5555555555555556,
              "#d8576b"
             ],
             [
              0.6666666666666666,
              "#ed7953"
             ],
             [
              0.7777777777777778,
              "#fb9f3a"
             ],
             [
              0.8888888888888888,
              "#fdca26"
             ],
             [
              1.0,
              "#f0f921"
             ]
            ],
            "type": "histogram2dcontour"
           }
          ],
          "mesh3d": [
           {
            "colorbar": {
             "outlinewidth": 0,
             "ticks": ""
            },
            "type": "mesh3d"
           }
          ],
          "parcoords": [
           {
            "line": {
             "colorbar": {
              "outlinewidth": 0,
              "ticks": ""
             }
            },
            "type": "parcoords"
           }
          ],
          "pie": [
           {
            "automargin": true,
            "type": "pie"
           }
          ],
          "scatter": [
           {
            "marker": {
             "line": {
              "color": "#283442"
             }
            },
            "type": "scatter"
           }
          ],
          "scatter3d": [
           {
            "line": {
             "colorbar": {
              "outlinewidth": 0,
              "ticks": ""
             }
            },
            "marker": {
             "colorbar": {
              "outlinewidth": 0,
              "ticks": ""
             }
            },
            "type": "scatter3d"
           }
          ],
          "scattercarpet": [
           {
            "marker": {
             "colorbar": {
              "outlinewidth": 0,
              "ticks": ""
             }
            },
            "type": "scattercarpet"
           }
          ],
          "scattergeo": [
           {
            "marker": {
             "colorbar": {
              "outlinewidth": 0,
              "ticks": ""
             }
            },
            "type": "scattergeo"
           }
          ],
          "scattergl": [
           {
            "marker": {
             "line": {
              "color": "#283442"
             }
            },
            "type": "scattergl"
           }
          ],
          "scattermapbox": [
           {
            "marker": {
             "colorbar": {
              "outlinewidth": 0,
              "ticks": ""
             }
            },
            "type": "scattermapbox"
           }
          ],
          "scatterpolar": [
           {
            "marker": {
             "colorbar": {
              "outlinewidth": 0,
              "ticks": ""
             }
            },
            "type": "scatterpolar"
           }
          ],
          "scatterpolargl": [
           {
            "marker": {
             "colorbar": {
              "outlinewidth": 0,
              "ticks": ""
             }
            },
            "type": "scatterpolargl"
           }
          ],
          "scatterternary": [
           {
            "marker": {
             "colorbar": {
              "outlinewidth": 0,
              "ticks": ""
             }
            },
            "type": "scatterternary"
           }
          ],
          "surface": [
           {
            "colorbar": {
             "outlinewidth": 0,
             "ticks": ""
            },
            "colorscale": [
             [
              0.0,
              "#0d0887"
             ],
             [
              0.1111111111111111,
              "#46039f"
             ],
             [
              0.2222222222222222,
              "#7201a8"
             ],
             [
              0.3333333333333333,
              "#9c179e"
             ],
             [
              0.4444444444444444,
              "#bd3786"
             ],
             [
              0.5555555555555556,
              "#d8576b"
             ],
             [
              0.6666666666666666,
              "#ed7953"
             ],
             [
              0.7777777777777778,
              "#fb9f3a"
             ],
             [
              0.8888888888888888,
              "#fdca26"
             ],
             [
              1.0,
              "#f0f921"
             ]
            ],
            "type": "surface"
           }
          ],
          "table": [
           {
            "cells": {
             "fill": {
              "color": "#506784"
             },
             "line": {
              "color": "rgb(17,17,17)"
             }
            },
            "header": {
             "fill": {
              "color": "#2a3f5f"
             },
             "line": {
              "color": "rgb(17,17,17)"
             }
            },
            "type": "table"
           }
          ]
         },
         "layout": {
          "annotationdefaults": {
           "arrowcolor": "#f2f5fa",
           "arrowhead": 0,
           "arrowwidth": 1
          },
          "autotypenumbers": "strict",
          "coloraxis": {
           "colorbar": {
            "outlinewidth": 0,
            "ticks": ""
           }
          },
          "colorscale": {
           "diverging": [
            [
             0,
             "#8e0152"
            ],
            [
             0.1,
             "#c51b7d"
            ],
            [
             0.2,
             "#de77ae"
            ],
            [
             0.3,
             "#f1b6da"
            ],
            [
             0.4,
             "#fde0ef"
            ],
            [
             0.5,
             "#f7f7f7"
            ],
            [
             0.6,
             "#e6f5d0"
            ],
            [
             0.7,
             "#b8e186"
            ],
            [
             0.8,
             "#7fbc41"
            ],
            [
             0.9,
             "#4d9221"
            ],
            [
             1,
             "#276419"
            ]
           ],
           "sequential": [
            [
             0.0,
             "#0d0887"
            ],
            [
             0.1111111111111111,
             "#46039f"
            ],
            [
             0.2222222222222222,
             "#7201a8"
            ],
            [
             0.3333333333333333,
             "#9c179e"
            ],
            [
             0.4444444444444444,
             "#bd3786"
            ],
            [
             0.5555555555555556,
             "#d8576b"
            ],
            [
             0.6666666666666666,
             "#ed7953"
            ],
            [
             0.7777777777777778,
             "#fb9f3a"
            ],
            [
             0.8888888888888888,
             "#fdca26"
            ],
            [
             1.0,
             "#f0f921"
            ]
           ],
           "sequentialminus": [
            [
             0.0,
             "#0d0887"
            ],
            [
             0.1111111111111111,
             "#46039f"
            ],
            [
             0.2222222222222222,
             "#7201a8"
            ],
            [
             0.3333333333333333,
             "#9c179e"
            ],
            [
             0.4444444444444444,
             "#bd3786"
            ],
            [
             0.5555555555555556,
             "#d8576b"
            ],
            [
             0.6666666666666666,
             "#ed7953"
            ],
            [
             0.7777777777777778,
             "#fb9f3a"
            ],
            [
             0.8888888888888888,
             "#fdca26"
            ],
            [
             1.0,
             "#f0f921"
            ]
           ]
          },
          "colorway": [
           "#636efa",
           "#EF553B",
           "#00cc96",
           "#ab63fa",
           "#FFA15A",
           "#19d3f3",
           "#FF6692",
           "#B6E880",
           "#FF97FF",
           "#FECB52"
          ],
          "font": {
           "color": "#f2f5fa"
          },
          "geo": {
           "bgcolor": "rgb(17,17,17)",
           "lakecolor": "rgb(17,17,17)",
           "landcolor": "rgb(17,17,17)",
           "showlakes": true,
           "showland": true,
           "subunitcolor": "#506784"
          },
          "hoverlabel": {
           "align": "left"
          },
          "hovermode": "closest",
          "mapbox": {
           "style": "dark"
          },
          "paper_bgcolor": "rgb(17,17,17)",
          "plot_bgcolor": "rgb(17,17,17)",
          "polar": {
           "angularaxis": {
            "gridcolor": "#506784",
            "linecolor": "#506784",
            "ticks": ""
           },
           "bgcolor": "rgb(17,17,17)",
           "radialaxis": {
            "gridcolor": "#506784",
            "linecolor": "#506784",
            "ticks": ""
           }
          },
          "scene": {
           "xaxis": {
            "backgroundcolor": "rgb(17,17,17)",
            "gridcolor": "#506784",
            "gridwidth": 2,
            "linecolor": "#506784",
            "showbackground": true,
            "ticks": "",
            "zerolinecolor": "#C8D4E3"
           },
           "yaxis": {
            "backgroundcolor": "rgb(17,17,17)",
            "gridcolor": "#506784",
            "gridwidth": 2,
            "linecolor": "#506784",
            "showbackground": true,
            "ticks": "",
            "zerolinecolor": "#C8D4E3"
           },
           "zaxis": {
            "backgroundcolor": "rgb(17,17,17)",
            "gridcolor": "#506784",
            "gridwidth": 2,
            "linecolor": "#506784",
            "showbackground": true,
            "ticks": "",
            "zerolinecolor": "#C8D4E3"
           }
          },
          "shapedefaults": {
           "line": {
            "color": "#f2f5fa"
           }
          },
          "sliderdefaults": {
           "bgcolor": "#C8D4E3",
           "bordercolor": "rgb(17,17,17)",
           "borderwidth": 1,
           "tickwidth": 0
          },
          "ternary": {
           "aaxis": {
            "gridcolor": "#506784",
            "linecolor": "#506784",
            "ticks": ""
           },
           "baxis": {
            "gridcolor": "#506784",
            "linecolor": "#506784",
            "ticks": ""
           },
           "bgcolor": "rgb(17,17,17)",
           "caxis": {
            "gridcolor": "#506784",
            "linecolor": "#506784",
            "ticks": ""
           }
          },
          "title": {
           "x": 0.05
          },
          "updatemenudefaults": {
           "bgcolor": "#506784",
           "borderwidth": 0
          },
          "xaxis": {
           "automargin": true,
           "gridcolor": "#283442",
           "linecolor": "#506784",
           "ticks": "",
           "title": {
            "standoff": 15
           },
           "zerolinecolor": "#283442",
           "zerolinewidth": 2
          },
          "yaxis": {
           "automargin": true,
           "gridcolor": "#283442",
           "linecolor": "#506784",
           "ticks": "",
           "title": {
            "standoff": 15
           },
           "zerolinecolor": "#283442",
           "zerolinewidth": 2
          }
         }
        },
        "title": {
         "text": "Songs per year"
        },
        "xaxis": {
         "anchor": "y",
         "domain": [
          0.0,
          1.0
         ],
         "title": {
          "text": "year"
         },
         "type": "category"
        },
        "yaxis": {
         "anchor": "x",
         "domain": [
          0.0,
          1.0
         ],
         "title": {
          "text": "number of songs"
         }
        }
       }
      },
      "text/html": "<div>                            <div id=\"ecab073e-6d7d-4ef4-abaa-e7a817b59562\" class=\"plotly-graph-div\" style=\"height:525px; width:100%;\"></div>            <script type=\"text/javascript\">                require([\"plotly\"], function(Plotly) {                    window.PLOTLYENV=window.PLOTLYENV || {};                                    if (document.getElementById(\"ecab073e-6d7d-4ef4-abaa-e7a817b59562\")) {                    Plotly.newPlot(                        \"ecab073e-6d7d-4ef4-abaa-e7a817b59562\",                        [{\"alignmentgroup\": \"True\", \"hovertemplate\": \"variable=year<br>year=%{x}<br>number of songs=%{y}<extra></extra>\", \"legendgroup\": \"year\", \"marker\": {\"color\": \"#0055FF\"}, \"name\": \"year\", \"offsetgroup\": \"year\", \"orientation\": \"v\", \"showlegend\": true, \"textposition\": \"auto\", \"type\": \"bar\", \"x\": [2000, 2001, 2002, 2003, 2004, 2005, 2006, 2007, 2008, 2009, 2010, 2011, 2012, 2013, 2014, 2015, 2016, 2017, 2018, 2019], \"xaxis\": \"x\", \"y\": [643, 637, 476, 631, 647, 680, 661, 585, 773, 960, 678, 717, 648, 687, 978, 728, 796, 726, 633, 752], \"yaxis\": \"y\"}],                        {\"barmode\": \"relative\", \"legend\": {\"title\": {\"text\": \"variable\"}, \"tracegroupgap\": 0}, \"template\": {\"data\": {\"bar\": [{\"error_x\": {\"color\": \"#f2f5fa\"}, \"error_y\": {\"color\": \"#f2f5fa\"}, \"marker\": {\"line\": {\"color\": \"rgb(17,17,17)\", \"width\": 0.5}}, \"type\": \"bar\"}], \"barpolar\": [{\"marker\": {\"line\": {\"color\": \"rgb(17,17,17)\", \"width\": 0.5}}, \"type\": \"barpolar\"}], \"carpet\": [{\"aaxis\": {\"endlinecolor\": \"#A2B1C6\", \"gridcolor\": \"#506784\", \"linecolor\": \"#506784\", \"minorgridcolor\": \"#506784\", \"startlinecolor\": \"#A2B1C6\"}, \"baxis\": {\"endlinecolor\": \"#A2B1C6\", \"gridcolor\": \"#506784\", \"linecolor\": \"#506784\", \"minorgridcolor\": \"#506784\", \"startlinecolor\": \"#A2B1C6\"}, \"type\": \"carpet\"}], \"choropleth\": [{\"colorbar\": {\"outlinewidth\": 0, \"ticks\": \"\"}, \"type\": \"choropleth\"}], \"contour\": [{\"colorbar\": {\"outlinewidth\": 0, \"ticks\": \"\"}, \"colorscale\": [[0.0, \"#0d0887\"], [0.1111111111111111, \"#46039f\"], [0.2222222222222222, \"#7201a8\"], [0.3333333333333333, \"#9c179e\"], [0.4444444444444444, \"#bd3786\"], [0.5555555555555556, \"#d8576b\"], [0.6666666666666666, \"#ed7953\"], [0.7777777777777778, \"#fb9f3a\"], [0.8888888888888888, \"#fdca26\"], [1.0, \"#f0f921\"]], \"type\": \"contour\"}], \"contourcarpet\": [{\"colorbar\": {\"outlinewidth\": 0, \"ticks\": \"\"}, \"type\": \"contourcarpet\"}], \"heatmap\": [{\"colorbar\": {\"outlinewidth\": 0, \"ticks\": \"\"}, \"colorscale\": [[0.0, \"#0d0887\"], [0.1111111111111111, \"#46039f\"], [0.2222222222222222, \"#7201a8\"], [0.3333333333333333, \"#9c179e\"], [0.4444444444444444, \"#bd3786\"], [0.5555555555555556, \"#d8576b\"], [0.6666666666666666, \"#ed7953\"], [0.7777777777777778, \"#fb9f3a\"], [0.8888888888888888, \"#fdca26\"], [1.0, \"#f0f921\"]], \"type\": \"heatmap\"}], \"heatmapgl\": [{\"colorbar\": {\"outlinewidth\": 0, \"ticks\": \"\"}, \"colorscale\": [[0.0, \"#0d0887\"], [0.1111111111111111, \"#46039f\"], [0.2222222222222222, \"#7201a8\"], [0.3333333333333333, \"#9c179e\"], [0.4444444444444444, \"#bd3786\"], [0.5555555555555556, \"#d8576b\"], [0.6666666666666666, \"#ed7953\"], [0.7777777777777778, \"#fb9f3a\"], [0.8888888888888888, \"#fdca26\"], [1.0, \"#f0f921\"]], \"type\": \"heatmapgl\"}], \"histogram\": [{\"marker\": {\"colorbar\": {\"outlinewidth\": 0, \"ticks\": \"\"}}, \"type\": \"histogram\"}], \"histogram2d\": [{\"colorbar\": {\"outlinewidth\": 0, \"ticks\": \"\"}, \"colorscale\": [[0.0, \"#0d0887\"], [0.1111111111111111, \"#46039f\"], [0.2222222222222222, \"#7201a8\"], [0.3333333333333333, \"#9c179e\"], [0.4444444444444444, \"#bd3786\"], [0.5555555555555556, \"#d8576b\"], [0.6666666666666666, \"#ed7953\"], [0.7777777777777778, \"#fb9f3a\"], [0.8888888888888888, \"#fdca26\"], [1.0, \"#f0f921\"]], \"type\": \"histogram2d\"}], \"histogram2dcontour\": [{\"colorbar\": {\"outlinewidth\": 0, \"ticks\": \"\"}, \"colorscale\": [[0.0, \"#0d0887\"], [0.1111111111111111, \"#46039f\"], [0.2222222222222222, \"#7201a8\"], [0.3333333333333333, \"#9c179e\"], [0.4444444444444444, \"#bd3786\"], [0.5555555555555556, \"#d8576b\"], [0.6666666666666666, \"#ed7953\"], [0.7777777777777778, \"#fb9f3a\"], [0.8888888888888888, \"#fdca26\"], [1.0, \"#f0f921\"]], \"type\": \"histogram2dcontour\"}], \"mesh3d\": [{\"colorbar\": {\"outlinewidth\": 0, \"ticks\": \"\"}, \"type\": \"mesh3d\"}], \"parcoords\": [{\"line\": {\"colorbar\": {\"outlinewidth\": 0, \"ticks\": \"\"}}, \"type\": \"parcoords\"}], \"pie\": [{\"automargin\": true, \"type\": \"pie\"}], \"scatter\": [{\"marker\": {\"line\": {\"color\": \"#283442\"}}, \"type\": \"scatter\"}], \"scatter3d\": [{\"line\": {\"colorbar\": {\"outlinewidth\": 0, \"ticks\": \"\"}}, \"marker\": {\"colorbar\": {\"outlinewidth\": 0, \"ticks\": \"\"}}, \"type\": \"scatter3d\"}], \"scattercarpet\": [{\"marker\": {\"colorbar\": {\"outlinewidth\": 0, \"ticks\": \"\"}}, \"type\": \"scattercarpet\"}], \"scattergeo\": [{\"marker\": {\"colorbar\": {\"outlinewidth\": 0, \"ticks\": \"\"}}, \"type\": \"scattergeo\"}], \"scattergl\": [{\"marker\": {\"line\": {\"color\": \"#283442\"}}, \"type\": \"scattergl\"}], \"scattermapbox\": [{\"marker\": {\"colorbar\": {\"outlinewidth\": 0, \"ticks\": \"\"}}, \"type\": \"scattermapbox\"}], \"scatterpolar\": [{\"marker\": {\"colorbar\": {\"outlinewidth\": 0, \"ticks\": \"\"}}, \"type\": \"scatterpolar\"}], \"scatterpolargl\": [{\"marker\": {\"colorbar\": {\"outlinewidth\": 0, \"ticks\": \"\"}}, \"type\": \"scatterpolargl\"}], \"scatterternary\": [{\"marker\": {\"colorbar\": {\"outlinewidth\": 0, \"ticks\": \"\"}}, \"type\": \"scatterternary\"}], \"surface\": [{\"colorbar\": {\"outlinewidth\": 0, \"ticks\": \"\"}, \"colorscale\": [[0.0, \"#0d0887\"], [0.1111111111111111, \"#46039f\"], [0.2222222222222222, \"#7201a8\"], [0.3333333333333333, \"#9c179e\"], [0.4444444444444444, \"#bd3786\"], [0.5555555555555556, \"#d8576b\"], [0.6666666666666666, \"#ed7953\"], [0.7777777777777778, \"#fb9f3a\"], [0.8888888888888888, \"#fdca26\"], [1.0, \"#f0f921\"]], \"type\": \"surface\"}], \"table\": [{\"cells\": {\"fill\": {\"color\": \"#506784\"}, \"line\": {\"color\": \"rgb(17,17,17)\"}}, \"header\": {\"fill\": {\"color\": \"#2a3f5f\"}, \"line\": {\"color\": \"rgb(17,17,17)\"}}, \"type\": \"table\"}]}, \"layout\": {\"annotationdefaults\": {\"arrowcolor\": \"#f2f5fa\", \"arrowhead\": 0, \"arrowwidth\": 1}, \"autotypenumbers\": \"strict\", \"coloraxis\": {\"colorbar\": {\"outlinewidth\": 0, \"ticks\": \"\"}}, \"colorscale\": {\"diverging\": [[0, \"#8e0152\"], [0.1, \"#c51b7d\"], [0.2, \"#de77ae\"], [0.3, \"#f1b6da\"], [0.4, \"#fde0ef\"], [0.5, \"#f7f7f7\"], [0.6, \"#e6f5d0\"], [0.7, \"#b8e186\"], [0.8, \"#7fbc41\"], [0.9, \"#4d9221\"], [1, \"#276419\"]], \"sequential\": [[0.0, \"#0d0887\"], [0.1111111111111111, \"#46039f\"], [0.2222222222222222, \"#7201a8\"], [0.3333333333333333, \"#9c179e\"], [0.4444444444444444, \"#bd3786\"], [0.5555555555555556, \"#d8576b\"], [0.6666666666666666, \"#ed7953\"], [0.7777777777777778, \"#fb9f3a\"], [0.8888888888888888, \"#fdca26\"], [1.0, \"#f0f921\"]], \"sequentialminus\": [[0.0, \"#0d0887\"], [0.1111111111111111, \"#46039f\"], [0.2222222222222222, \"#7201a8\"], [0.3333333333333333, \"#9c179e\"], [0.4444444444444444, \"#bd3786\"], [0.5555555555555556, \"#d8576b\"], [0.6666666666666666, \"#ed7953\"], [0.7777777777777778, \"#fb9f3a\"], [0.8888888888888888, \"#fdca26\"], [1.0, \"#f0f921\"]]}, \"colorway\": [\"#636efa\", \"#EF553B\", \"#00cc96\", \"#ab63fa\", \"#FFA15A\", \"#19d3f3\", \"#FF6692\", \"#B6E880\", \"#FF97FF\", \"#FECB52\"], \"font\": {\"color\": \"#f2f5fa\"}, \"geo\": {\"bgcolor\": \"rgb(17,17,17)\", \"lakecolor\": \"rgb(17,17,17)\", \"landcolor\": \"rgb(17,17,17)\", \"showlakes\": true, \"showland\": true, \"subunitcolor\": \"#506784\"}, \"hoverlabel\": {\"align\": \"left\"}, \"hovermode\": \"closest\", \"mapbox\": {\"style\": \"dark\"}, \"paper_bgcolor\": \"rgb(17,17,17)\", \"plot_bgcolor\": \"rgb(17,17,17)\", \"polar\": {\"angularaxis\": {\"gridcolor\": \"#506784\", \"linecolor\": \"#506784\", \"ticks\": \"\"}, \"bgcolor\": \"rgb(17,17,17)\", \"radialaxis\": {\"gridcolor\": \"#506784\", \"linecolor\": \"#506784\", \"ticks\": \"\"}}, \"scene\": {\"xaxis\": {\"backgroundcolor\": \"rgb(17,17,17)\", \"gridcolor\": \"#506784\", \"gridwidth\": 2, \"linecolor\": \"#506784\", \"showbackground\": true, \"ticks\": \"\", \"zerolinecolor\": \"#C8D4E3\"}, \"yaxis\": {\"backgroundcolor\": \"rgb(17,17,17)\", \"gridcolor\": \"#506784\", \"gridwidth\": 2, \"linecolor\": \"#506784\", \"showbackground\": true, \"ticks\": \"\", \"zerolinecolor\": \"#C8D4E3\"}, \"zaxis\": {\"backgroundcolor\": \"rgb(17,17,17)\", \"gridcolor\": \"#506784\", \"gridwidth\": 2, \"linecolor\": \"#506784\", \"showbackground\": true, \"ticks\": \"\", \"zerolinecolor\": \"#C8D4E3\"}}, \"shapedefaults\": {\"line\": {\"color\": \"#f2f5fa\"}}, \"sliderdefaults\": {\"bgcolor\": \"#C8D4E3\", \"bordercolor\": \"rgb(17,17,17)\", \"borderwidth\": 1, \"tickwidth\": 0}, \"ternary\": {\"aaxis\": {\"gridcolor\": \"#506784\", \"linecolor\": \"#506784\", \"ticks\": \"\"}, \"baxis\": {\"gridcolor\": \"#506784\", \"linecolor\": \"#506784\", \"ticks\": \"\"}, \"bgcolor\": \"rgb(17,17,17)\", \"caxis\": {\"gridcolor\": \"#506784\", \"linecolor\": \"#506784\", \"ticks\": \"\"}}, \"title\": {\"x\": 0.05}, \"updatemenudefaults\": {\"bgcolor\": \"#506784\", \"borderwidth\": 0}, \"xaxis\": {\"automargin\": true, \"gridcolor\": \"#283442\", \"linecolor\": \"#506784\", \"ticks\": \"\", \"title\": {\"standoff\": 15}, \"zerolinecolor\": \"#283442\", \"zerolinewidth\": 2}, \"yaxis\": {\"automargin\": true, \"gridcolor\": \"#283442\", \"linecolor\": \"#506784\", \"ticks\": \"\", \"title\": {\"standoff\": 15}, \"zerolinecolor\": \"#283442\", \"zerolinewidth\": 2}}}, \"title\": {\"text\": \"Songs per year\"}, \"xaxis\": {\"anchor\": \"y\", \"domain\": [0.0, 1.0], \"title\": {\"text\": \"year\"}, \"type\": \"category\"}, \"yaxis\": {\"anchor\": \"x\", \"domain\": [0.0, 1.0], \"title\": {\"text\": \"number of songs\"}}},                        {\"responsive\": true}                    ).then(function(){\n                            \nvar gd = document.getElementById('ecab073e-6d7d-4ef4-abaa-e7a817b59562');\nvar x = new MutationObserver(function (mutations, observer) {{\n        var display = window.getComputedStyle(gd).display;\n        if (!display || display === 'none') {{\n            console.log([gd, 'removed!']);\n            Plotly.purge(gd);\n            observer.disconnect();\n        }}\n}});\n\n// Listen for the removal of the full notebook cells\nvar notebookContainer = gd.closest('#notebook-container');\nif (notebookContainer) {{\n    x.observe(notebookContainer, {childList: true});\n}}\n\n// Listen for the clearing of the current output cell\nvar outputEl = gd.closest('.output');\nif (outputEl) {{\n    x.observe(outputEl, {childList: true});\n}}\n\n                        })                };                });            </script>        </div>"
     },
     "metadata": {},
     "output_type": "display_data"
    }
   ],
   "source": [
    "songs_per_years = df['year'].value_counts().sort_index()\n",
    "\n",
    "iplot(px.bar(songs_per_years,\n",
    "       title='Songs per year',\n",
    "       labels=dict(index='year',value='number of songs'),\n",
    "       color_discrete_sequence=['#0055FF']\n",
    "      ).update_xaxes(type='category'))"
   ],
   "metadata": {
    "collapsed": false,
    "pycharm": {
     "name": "#%%\n"
    }
   }
  },
  {
   "cell_type": "markdown",
   "metadata": {
    "id": "4JtqeT8Nec3S",
    "pycharm": {
     "name": "#%% md\n"
    }
   },
   "source": [
    "## Popularity classification\n",
    "First let's analise the popularity distribution, and try to indentify existing outliers "
   ]
  },
  {
   "cell_type": "code",
   "execution_count": 271,
   "metadata": {
    "colab": {
     "base_uri": "https://localhost:8080/",
     "height": 534
    },
    "id": "PtmukEaTdA1q",
    "outputId": "c1308751-61f6-4ba5-c963-8f5053a1b0b8",
    "pycharm": {
     "name": "#%%\n"
    }
   },
   "outputs": [
    {
     "data": {
      "text/plain": "array([[<AxesSubplot:title={'center':'popularity'}>]], dtype=object)"
     },
     "execution_count": 271,
     "metadata": {},
     "output_type": "execute_result"
    },
    {
     "data": {
      "text/plain": "<Figure size 864x576 with 1 Axes>",
      "image/png": "[encoded data removed]"
     },
     "metadata": {},
     "output_type": "display_data"
    }
   ],
   "source": [
    "df.hist(column=('popularity'),bins=25, grid=False, figsize=(12,8), color='#86bf91', zorder=2, rwidth=0.9)\n"
   ]
  },
  {
   "cell_type": "code",
   "execution_count": 272,
   "metadata": {
    "id": "ALdMIfjjh5zb",
    "pycharm": {
     "name": "#%%\n"
    }
   },
   "outputs": [],
   "source": [
    "df = df[(df.popularity > 5)]"
   ]
  },
  {
   "cell_type": "code",
   "execution_count": 273,
   "metadata": {
    "colab": {
     "base_uri": "https://localhost:8080/",
     "height": 534
    },
    "id": "CI_cw8PBiFSG",
    "outputId": "4a017792-6b94-42e9-ad17-2fc7d59145d0",
    "pycharm": {
     "name": "#%%\n"
    }
   },
   "outputs": [
    {
     "data": {
      "text/plain": "array([[<AxesSubplot:title={'center':'popularity'}>]], dtype=object)"
     },
     "execution_count": 273,
     "metadata": {},
     "output_type": "execute_result"
    },
    {
     "data": {
      "text/plain": "<Figure size 864x576 with 1 Axes>",
      "image/png": "[encoded data removed]"
     },
     "metadata": {},
     "output_type": "display_data"
    }
   ],
   "source": [
    "df.hist(column=('popularity'),bins=25, grid=False, figsize=(12,8), color='#86bf91', zorder=2, rwidth=0.9)"
   ]
  },
  {
   "cell_type": "markdown",
   "metadata": {
    "id": "w0Z-0MUClv8j",
    "pycharm": {
     "name": "#%% md\n"
    }
   },
   "source": [
    "### Discretization \n",
    "- 11-62 not popular\n",
    "- 62-72 semi-popular\n",
    "- 72-89 popular"
   ]
  },
  {
   "cell_type": "code",
   "execution_count": 274,
   "metadata": {
    "colab": {
     "base_uri": "https://localhost:8080/",
     "height": 300
    },
    "id": "6JgNzkewmSvd",
    "outputId": "aec31d70-dfdd-4549-a3c6-978cd4d28aa6",
    "pycharm": {
     "name": "#%%\n"
    }
   },
   "outputs": [
    {
     "name": "stdout",
     "output_type": "stream",
     "text": [
      "Bins:  [ 6. 59. 68. 89.]\n"
     ]
    },
    {
     "data": {
      "text/plain": "<AxesSubplot:>"
     },
     "execution_count": 274,
     "metadata": {},
     "output_type": "execute_result"
    },
    {
     "data": {
      "text/plain": "<Figure size 432x288 with 1 Axes>",
      "image/png": "[encoded data removed]"
     },
     "metadata": {},
     "output_type": "display_data"
    }
   ],
   "source": [
    "pop, bins = pd.qcut(df.popularity, 3, labels=[\"not popular\", \"semi-popular\", \"popular\"], retbins = True)\n",
    "\n",
    "print(\"Bins: \", bins)\n",
    "pop.hist()"
   ]
  },
  {
   "cell_type": "markdown",
   "metadata": {
    "id": "ujYEydtAj7w7",
    "pycharm": {
     "name": "#%% md\n"
    }
   },
   "source": [
    "Adding the new class, **popularity_class**, based on popularity values"
   ]
  },
  {
   "cell_type": "code",
   "execution_count": 275,
   "metadata": {
    "id": "IXk1C_HdiVNE",
    "pycharm": {
     "name": "#%%\n"
    }
   },
   "outputs": [],
   "source": [
    "conditions = [\n",
    "    (df['popularity'] <= 62),\n",
    "    (df['popularity'] > 62) & (df['popularity'] <= 72),\n",
    "    (df['popularity'] > 72)\n",
    "    ]\n",
    "\n",
    "labels = [\"not popular\", \"semi-popular\", \"popular\"]\n",
    "\n",
    "#creating a new column\n",
    "df['popularity_class'] = np.select(conditions, labels)\n"
   ]
  },
  {
   "cell_type": "code",
   "execution_count": 276,
   "metadata": {
    "colab": {
     "base_uri": "https://localhost:8080/",
     "height": 340
    },
    "id": "lQBLBoYmjlzT",
    "outputId": "d3884946-5bf5-496a-ba6b-2aa86626ff86",
    "pycharm": {
     "name": "#%%\n"
    }
   },
   "outputs": [
    {
     "data": {
      "text/plain": "            artist  explicit  year  popularity  danceability  energy  key  \\\n0   Britney Spears     False  2000          77         0.751   0.834    1   \n3         Bon Jovi     False  2000          78         0.551   0.913    0   \n4           *NSYNC     False  2000          65         0.614   0.928    8   \n6           Eminem      True  2000          86         0.949   0.661    5   \n7  Robbie Williams     False  2000          68         0.708   0.772    7   \n\n   loudness  mode  speechiness  acousticness  instrumentalness  liveness  \\\n0    -5.444     0       0.0437        0.3000          0.000018    0.3550   \n3    -4.063     0       0.0466        0.0263          0.000013    0.3470   \n4    -4.806     0       0.0516        0.0408          0.001040    0.0845   \n6    -4.244     0       0.0572        0.0302          0.000000    0.0454   \n7    -4.264     1       0.0322        0.0267          0.000000    0.4670   \n\n   valence    tempo        genre  duration_s popularity_class  \n0    0.894   95.053          pop         211          popular  \n3    0.544  119.992  rock, metal         224          popular  \n4    0.879  172.656          pop         201     semi-popular  \n6    0.760  104.504      hip hop         284          popular  \n7    0.861  103.035    pop, rock         259     semi-popular  ",
      "text/html": "<div>\n<style scoped>\n    .dataframe tbody tr th:only-of-type {\n        vertical-align: middle;\n    }\n\n    .dataframe tbody tr th {\n        vertical-align: top;\n    }\n\n    .dataframe thead th {\n        text-align: right;\n    }\n</style>\n<table border=\"1\" class=\"dataframe\">\n  <thead>\n    <tr style=\"text-align: right;\">\n      <th></th>\n      <th>artist</th>\n      <th>explicit</th>\n      <th>year</th>\n      <th>popularity</th>\n      <th>danceability</th>\n      <th>energy</th>\n      <th>key</th>\n      <th>loudness</th>\n      <th>mode</th>\n      <th>speechiness</th>\n      <th>acousticness</th>\n      <th>instrumentalness</th>\n      <th>liveness</th>\n      <th>valence</th>\n      <th>tempo</th>\n      <th>genre</th>\n      <th>duration_s</th>\n      <th>popularity_class</th>\n    </tr>\n  </thead>\n  <tbody>\n    <tr>\n      <th>0</th>\n      <td>Britney Spears</td>\n      <td>False</td>\n      <td>2000</td>\n      <td>77</td>\n      <td>0.751</td>\n      <td>0.834</td>\n      <td>1</td>\n      <td>-5.444</td>\n      <td>0</td>\n      <td>0.0437</td>\n      <td>0.3000</td>\n      <td>0.000018</td>\n      <td>0.3550</td>\n      <td>0.894</td>\n      <td>95.053</td>\n      <td>pop</td>\n      <td>211</td>\n      <td>popular</td>\n    </tr>\n    <tr>\n      <th>3</th>\n      <td>Bon Jovi</td>\n      <td>False</td>\n      <td>2000</td>\n      <td>78</td>\n      <td>0.551</td>\n      <td>0.913</td>\n      <td>0</td>\n      <td>-4.063</td>\n      <td>0</td>\n      <td>0.0466</td>\n      <td>0.0263</td>\n      <td>0.000013</td>\n      <td>0.3470</td>\n      <td>0.544</td>\n      <td>119.992</td>\n      <td>rock, metal</td>\n      <td>224</td>\n      <td>popular</td>\n    </tr>\n    <tr>\n      <th>4</th>\n      <td>*NSYNC</td>\n      <td>False</td>\n      <td>2000</td>\n      <td>65</td>\n      <td>0.614</td>\n      <td>0.928</td>\n      <td>8</td>\n      <td>-4.806</td>\n      <td>0</td>\n      <td>0.0516</td>\n      <td>0.0408</td>\n      <td>0.001040</td>\n      <td>0.0845</td>\n      <td>0.879</td>\n      <td>172.656</td>\n      <td>pop</td>\n      <td>201</td>\n      <td>semi-popular</td>\n    </tr>\n    <tr>\n      <th>6</th>\n      <td>Eminem</td>\n      <td>True</td>\n      <td>2000</td>\n      <td>86</td>\n      <td>0.949</td>\n      <td>0.661</td>\n      <td>5</td>\n      <td>-4.244</td>\n      <td>0</td>\n      <td>0.0572</td>\n      <td>0.0302</td>\n      <td>0.000000</td>\n      <td>0.0454</td>\n      <td>0.760</td>\n      <td>104.504</td>\n      <td>hip hop</td>\n      <td>284</td>\n      <td>popular</td>\n    </tr>\n    <tr>\n      <th>7</th>\n      <td>Robbie Williams</td>\n      <td>False</td>\n      <td>2000</td>\n      <td>68</td>\n      <td>0.708</td>\n      <td>0.772</td>\n      <td>7</td>\n      <td>-4.264</td>\n      <td>1</td>\n      <td>0.0322</td>\n      <td>0.0267</td>\n      <td>0.000000</td>\n      <td>0.4670</td>\n      <td>0.861</td>\n      <td>103.035</td>\n      <td>pop, rock</td>\n      <td>259</td>\n      <td>semi-popular</td>\n    </tr>\n  </tbody>\n</table>\n</div>"
     },
     "execution_count": 276,
     "metadata": {},
     "output_type": "execute_result"
    }
   ],
   "source": [
    "df.head()"
   ]
  },
  {
   "cell_type": "markdown",
   "metadata": {
    "id": "-P0BLNzuoYer",
    "pycharm": {
     "name": "#%% md\n"
    }
   },
   "source": [
    "\n",
    "#### Pairplot\n",
    "Para nos ajudar a ver possíveis erros nos dados, e se existe alguma correlação óbvia entre as diferentes colunas"
   ]
  },
  {
   "cell_type": "code",
   "execution_count": 277,
   "metadata": {
    "id": "4RCmfklSkG38",
    "pycharm": {
     "name": "#%%\n"
    }
   },
   "outputs": [],
   "source": [
    "df['popularity_class'].unique()\n",
    "num_var= ['year', 'danceability', 'energy', 'key','speechiness', 'acousticness', 'instrumentalness', 'liveness', 'valence', 'tempo', 'duration_s']\n",
    "\n",
    "#sns.pairplot(df, hue = 'popularity_class', vars= num_var)"
   ]
  },
  {
   "cell_type": "markdown",
   "metadata": {
    "id": "e_gX6Og7o-hp",
    "pycharm": {
     "name": "#%% md\n"
    }
   },
   "source": [
    "## Análise exploratória\n",
    "\n",
    "- Como é que os dados estão distribuídos\n",
    "- Existem correlações nos dados, e o porquê de estas existirem\n",
    "\n",
    "Para verificar possíveis correlações vamos usar um heatmap"
   ]
  },
  {
   "cell_type": "code",
   "execution_count": 278,
   "metadata": {
    "colab": {
     "base_uri": "https://localhost:8080/",
     "height": 363
    },
    "id": "6A-sPqXaqMPp",
    "outputId": "78f292a0-ed94-4b10-d802-e6b2469ec4e2",
    "pycharm": {
     "name": "#%%\n"
    }
   },
   "outputs": [
    {
     "data": {
      "text/plain": "<AxesSubplot:>"
     },
     "execution_count": 278,
     "metadata": {},
     "output_type": "execute_result"
    },
    {
     "data": {
      "text/plain": "<Figure size 432x288 with 2 Axes>",
      "image/png": "[encoded data removed]"
     },
     "metadata": {},
     "output_type": "display_data"
    }
   ],
   "source": [
    "# Correlation between features\n",
    "corr = df.corr()\n",
    "#Heatmap\n",
    "sns.heatmap(corr, cmap=\"vlag\")\n"
   ]
  },
  {
   "cell_type": "markdown",
   "metadata": {
    "id": "TFT96pX_qwvw",
    "pycharm": {
     "name": "#%% md\n"
    }
   },
   "source": [
    "Observando o mapa, verificamos algumas correlações positivas entre:\n",
    "- Loudness e Energy - quanto mais alta a música mais energia tem\n",
    "- Valence e Danceability - músicas mais positivas tendem a ser mais dançáveis\n",
    "\n",
    "Correlações negativas:\n",
    "- Energy and Acousticness - músicas acústicas têm menos energia\n",
    "- Year and Duration - ao longo dos anos as músicas tendem a ser mais curtas"
   ]
  },
  {
   "cell_type": "markdown",
   "metadata": {
    "id": "fXgM7c1LtKCc",
    "pycharm": {
     "name": "#%% md\n"
    }
   },
   "source": [
    "## Classificação\n",
    "\n",
    "Since some of the columns have string data, it's necessary to encode it"
   ]
  },
  {
   "cell_type": "code",
   "execution_count": 279,
   "metadata": {
    "colab": {
     "base_uri": "https://localhost:8080/",
     "height": 288
    },
    "id": "PLKGBfiEtmvj",
    "outputId": "d239635b-bdaa-487b-85b0-a62d017d083e",
    "pycharm": {
     "name": "#%%\n"
    }
   },
   "outputs": [
    {
     "name": "stdout",
     "output_type": "stream",
     "text": [
      "Encoded data:\n"
     ]
    },
    {
     "data": {
      "text/plain": "   artist  explicit  year  popularity  danceability  energy  key  loudness  \\\n0     197     False  2000          77         0.751   0.834    1    -5.444   \n3     182     False  2000          78         0.551   0.913    0    -4.063   \n4       2     False  2000          65         0.614   0.928    8    -4.806   \n6     421      True  2000          86         0.949   0.661    5    -4.244   \n7    1108     False  2000          68         0.708   0.772    7    -4.264   \n\n   mode  speechiness  acousticness  instrumentalness  liveness  valence  \\\n0     0       0.0437        0.3000          0.000018    0.3550    0.894   \n3     0       0.0466        0.0263          0.000013    0.3470    0.544   \n4     0       0.0516        0.0408          0.001040    0.0845    0.879   \n6     0       0.0572        0.0302          0.000000    0.0454    0.760   \n7     1       0.0322        0.0267          0.000000    0.4670    0.861   \n\n     tempo  genre  duration_s popularity_class  \n0   95.053    297         211          popular  \n3  119.992    336         224          popular  \n4  172.656    297         201     semi-popular  \n6  104.504    216         284          popular  \n7  103.035    312         259     semi-popular  ",
      "text/html": "<div>\n<style scoped>\n    .dataframe tbody tr th:only-of-type {\n        vertical-align: middle;\n    }\n\n    .dataframe tbody tr th {\n        vertical-align: top;\n    }\n\n    .dataframe thead th {\n        text-align: right;\n    }\n</style>\n<table border=\"1\" class=\"dataframe\">\n  <thead>\n    <tr style=\"text-align: right;\">\n      <th></th>\n      <th>artist</th>\n      <th>explicit</th>\n      <th>year</th>\n      <th>popularity</th>\n      <th>danceability</th>\n      <th>energy</th>\n      <th>key</th>\n      <th>loudness</th>\n      <th>mode</th>\n      <th>speechiness</th>\n      <th>acousticness</th>\n      <th>instrumentalness</th>\n      <th>liveness</th>\n      <th>valence</th>\n      <th>tempo</th>\n      <th>genre</th>\n      <th>duration_s</th>\n      <th>popularity_class</th>\n    </tr>\n  </thead>\n  <tbody>\n    <tr>\n      <th>0</th>\n      <td>197</td>\n      <td>False</td>\n      <td>2000</td>\n      <td>77</td>\n      <td>0.751</td>\n      <td>0.834</td>\n      <td>1</td>\n      <td>-5.444</td>\n      <td>0</td>\n      <td>0.0437</td>\n      <td>0.3000</td>\n      <td>0.000018</td>\n      <td>0.3550</td>\n      <td>0.894</td>\n      <td>95.053</td>\n      <td>297</td>\n      <td>211</td>\n      <td>popular</td>\n    </tr>\n    <tr>\n      <th>3</th>\n      <td>182</td>\n      <td>False</td>\n      <td>2000</td>\n      <td>78</td>\n      <td>0.551</td>\n      <td>0.913</td>\n      <td>0</td>\n      <td>-4.063</td>\n      <td>0</td>\n      <td>0.0466</td>\n      <td>0.0263</td>\n      <td>0.000013</td>\n      <td>0.3470</td>\n      <td>0.544</td>\n      <td>119.992</td>\n      <td>336</td>\n      <td>224</td>\n      <td>popular</td>\n    </tr>\n    <tr>\n      <th>4</th>\n      <td>2</td>\n      <td>False</td>\n      <td>2000</td>\n      <td>65</td>\n      <td>0.614</td>\n      <td>0.928</td>\n      <td>8</td>\n      <td>-4.806</td>\n      <td>0</td>\n      <td>0.0516</td>\n      <td>0.0408</td>\n      <td>0.001040</td>\n      <td>0.0845</td>\n      <td>0.879</td>\n      <td>172.656</td>\n      <td>297</td>\n      <td>201</td>\n      <td>semi-popular</td>\n    </tr>\n    <tr>\n      <th>6</th>\n      <td>421</td>\n      <td>True</td>\n      <td>2000</td>\n      <td>86</td>\n      <td>0.949</td>\n      <td>0.661</td>\n      <td>5</td>\n      <td>-4.244</td>\n      <td>0</td>\n      <td>0.0572</td>\n      <td>0.0302</td>\n      <td>0.000000</td>\n      <td>0.0454</td>\n      <td>0.760</td>\n      <td>104.504</td>\n      <td>216</td>\n      <td>284</td>\n      <td>popular</td>\n    </tr>\n    <tr>\n      <th>7</th>\n      <td>1108</td>\n      <td>False</td>\n      <td>2000</td>\n      <td>68</td>\n      <td>0.708</td>\n      <td>0.772</td>\n      <td>7</td>\n      <td>-4.264</td>\n      <td>1</td>\n      <td>0.0322</td>\n      <td>0.0267</td>\n      <td>0.000000</td>\n      <td>0.4670</td>\n      <td>0.861</td>\n      <td>103.035</td>\n      <td>312</td>\n      <td>259</td>\n      <td>semi-popular</td>\n    </tr>\n  </tbody>\n</table>\n</div>"
     },
     "execution_count": 279,
     "metadata": {},
     "output_type": "execute_result"
    }
   ],
   "source": [
    "from sklearn.model_selection import train_test_split\n",
    "from sklearn import preprocessing\n",
    "\n",
    "#all colums except popularity and popularity_class\n",
    "le = preprocessing.LabelEncoder()\n",
    "le.fit(df.artist)\n",
    "encoded = df\n",
    "encoded['artist'] = le.transform(df.artist)\n",
    "\n",
    "le = preprocessing.LabelEncoder()\n",
    "le.fit(df.genre)\n",
    "encoded = df\n",
    "encoded['genre'] = le.transform(df.genre)\n",
    "\n",
    "cols = (encoded.columns.values.tolist())\n",
    "cols.remove('popularity')\n",
    "cols.remove('popularity_class')\n",
    "\n",
    "#all inputs\n",
    "inputs =df[cols].values\n",
    "\n",
    "#all popularity_class labels\n",
    "all_labels = df['popularity_class'].values\n",
    "\n",
    "print(\"Encoded data:\")\n",
    "df.head()"
   ]
  },
  {
   "cell_type": "markdown",
   "metadata": {
    "id": "9LU17Ocuvl42",
    "pycharm": {
     "name": "#%% md\n"
    }
   },
   "source": [
    "The data is ready to be divided into training and testing sets."
   ]
  },
  {
   "cell_type": "code",
   "execution_count": 280,
   "metadata": {
    "id": "Pz1YH8D2vpqV",
    "pycharm": {
     "name": "#%%\n"
    }
   },
   "outputs": [],
   "source": [
    "(training_inputs,\n",
    " testing_inputs,\n",
    " training_classes,\n",
    " testing_classes) = train_test_split(inputs, all_labels, test_size=0.25, random_state=1)"
   ]
  },
  {
   "cell_type": "markdown",
   "metadata": {
    "id": "uBKREwPnv61w",
    "pycharm": {
     "name": "#%% md\n"
    }
   },
   "source": [
    "## Decision Tree\n",
    "Para já vamos usar um classificador básico, ou seja, sem nenhuns ajustes nos parâmetros"
   ]
  },
  {
   "cell_type": "code",
   "execution_count": 281,
   "metadata": {
    "id": "U3iTOG2qQ-Ti",
    "pycharm": {
     "name": "#%%\n"
    }
   },
   "outputs": [],
   "source": [
    "from sklearn.tree import DecisionTreeClassifier\n",
    "from sklearn.model_selection import GridSearchCV\n",
    "from sklearn.model_selection import StratifiedKFold\n",
    "import time\n",
    "\n",
    "dt_classifier = DecisionTreeClassifier()\n",
    "\n",
    "parameter_grid = {\n",
    "                'criterion': ['gini'],\n",
    "                'splitter': ['best','random'],\n",
    "                'random_state': [None,1],\n",
    "                }\n",
    "\n",
    "cross_validation = StratifiedKFold(n_splits=3)\n",
    "\n",
    "grid_search = GridSearchCV(dt_classifier,\n",
    "                           param_grid=parameter_grid,\n",
    "                           cv=cross_validation)\n",
    "\n",
    "# start_time = time.time()\n",
    "# grid_search.fit(inputs, all_labels)\n",
    "# print('Best score: {}'.format(grid_search.best_score_))\n",
    "# print('Best parameters: {}'.format(grid_search.best_params_))\n",
    "# print(\"Time to train: %s seconds\" % (time.time() - start_time))"
   ]
  },
  {
   "cell_type": "code",
   "execution_count": 282,
   "metadata": {
    "colab": {
     "base_uri": "https://localhost:8080/"
    },
    "id": "LMhspH_rQ-Ti",
    "outputId": "15e9319b-e1cf-4747-dcd9-fab0ad4abbf5",
    "pycharm": {
     "name": "#%%\n"
    }
   },
   "outputs": [
    {
     "data": {
      "text/plain": "0.6591848789131719"
     },
     "execution_count": 282,
     "metadata": {},
     "output_type": "execute_result"
    }
   ],
   "source": [
    "# Create the classifier\n",
    "dt_classifier = DecisionTreeClassifier(criterion='gini',random_state=None, splitter='random')\n",
    "\n",
    "# Train the classifier on the training set\n",
    "dt_classifier.fit(training_inputs, training_classes)\n",
    "\n",
    "# Validate the classifier on the testing set using classification accuracy\n",
    "dt_classifier.score(testing_inputs, testing_classes)"
   ]
  },
  {
   "cell_type": "markdown",
   "metadata": {
    "id": "NNSfGHCxQ-Tj",
    "pycharm": {
     "name": "#%% md\n"
    }
   },
   "source": [
    "## LinearSVC"
   ]
  },
  {
   "cell_type": "code",
   "execution_count": 283,
   "metadata": {
    "colab": {
     "base_uri": "https://localhost:8080/"
    },
    "id": "-rWCVO0hQ-Tj",
    "outputId": "bc62f3b5-6cac-45dd-aa71-463aa9d0884e",
    "pycharm": {
     "name": "#%%\n"
    }
   },
   "outputs": [
    {
     "data": {
      "text/plain": "0.5316007088009451"
     },
     "execution_count": 283,
     "metadata": {},
     "output_type": "execute_result"
    }
   ],
   "source": [
    "from sklearn.svm import LinearSVC\n",
    "from sklearn.pipeline import make_pipeline\n",
    "from sklearn.preprocessing import StandardScaler\n",
    "\n",
    "linearSVC_classifier = make_pipeline(StandardScaler(),\n",
    "                     LinearSVC(random_state=0, tol=1e-5, max_iter=10e5))\n",
    "\n",
    "linearSVC_classifier.fit(training_inputs, training_classes)\n",
    "linearSVC_classifier.score(testing_inputs,testing_classes)"
   ]
  },
  {
   "cell_type": "markdown",
   "metadata": {
    "id": "Oeb-GKLJQ-Tk",
    "pycharm": {
     "name": "#%% md\n"
    }
   },
   "source": [
    "## K Nearest Neighbors"
   ]
  },
  {
   "cell_type": "code",
   "execution_count": 284,
   "metadata": {
    "colab": {
     "base_uri": "https://localhost:8080/"
    },
    "id": "C7BsCuwwQ-Tk",
    "outputId": "00f12ac7-4024-45db-f9b3-86f8e4990cc7",
    "pycharm": {
     "name": "#%%\n"
    }
   },
   "outputs": [],
   "source": [
    "from sklearn.neighbors import KNeighborsClassifier\n",
    "from sklearn.model_selection import GridSearchCV\n",
    "from sklearn.model_selection import StratifiedKFold\n",
    "import time\n",
    "\n",
    "\n",
    "knn_classifier = KNeighborsClassifier()\n",
    "\n",
    "parameter_grid = {\n",
    "                'n_neighbors': [x for x in range(5,40,5)],\n",
    "                'weights': ['uniform','distance'],\n",
    "                'algorithm': ['auto','ball_tree','kd_tree','brute'],\n",
    "                'leaf_size': [x for x in range(20,40,5)],\n",
    "                'p': [1,2],\n",
    "                'n_jobs': [-1],\n",
    "                }\n",
    "\n",
    "cross_validation = StratifiedKFold(n_splits=10)\n",
    "\n",
    "grid_search = GridSearchCV(knn_classifier,\n",
    "                           param_grid=parameter_grid,\n",
    "                           cv=cross_validation)\n",
    "\n",
    "# start_time = time.time()\n",
    "# grid_search.fit(inputs, all_labels)\n",
    "# print('Best score: {}'.format(grid_search.best_score_))\n",
    "# print('Best parameters: {}'.format(grid_search.best_params_))\n",
    "# print(\"Time to train: %s seconds\" % (time.time() - start_time))"
   ]
  },
  {
   "cell_type": "code",
   "execution_count": 285,
   "metadata": {
    "colab": {
     "base_uri": "https://localhost:8080/"
    },
    "id": "ErVtK02HQ-Tl",
    "outputId": "be9a954f-d263-4504-fd2d-be95d14dde27",
    "pycharm": {
     "name": "#%%\n"
    }
   },
   "outputs": [
    {
     "data": {
      "text/plain": "0.7014176018901358"
     },
     "execution_count": 285,
     "metadata": {},
     "output_type": "execute_result"
    }
   ],
   "source": [
    "knn_classifier = KNeighborsClassifier(algorithm='ball_tree', leaf_size=20,n_jobs=-1,n_neighbors=10,p=1,weights='distance')\n",
    "knn_classifier.fit(training_inputs,training_classes)\n",
    "knn_classifier.score(testing_inputs,testing_classes)"
   ]
  },
  {
   "cell_type": "markdown",
   "metadata": {
    "id": "L7rHttrAQ-Tl",
    "pycharm": {
     "name": "#%% md\n"
    }
   },
   "source": [
    "## SVC"
   ]
  },
  {
   "cell_type": "code",
   "execution_count": 286,
   "metadata": {
    "colab": {
     "base_uri": "https://localhost:8080/"
    },
    "id": "dF-jrMZfQ-Tm",
    "outputId": "1545c116-95d8-4790-8c85-f1eb1c1beded",
    "pycharm": {
     "name": "#%%\n"
    }
   },
   "outputs": [
    {
     "data": {
      "text/plain": "0.6482520925652387"
     },
     "execution_count": 286,
     "metadata": {},
     "output_type": "execute_result"
    }
   ],
   "source": [
    "from sklearn.pipeline import make_pipeline\n",
    "from sklearn.preprocessing import StandardScaler\n",
    "from sklearn.svm import SVC\n",
    "SVC_classifier = make_pipeline(StandardScaler(), SVC(gamma='auto'))\n",
    "SVC_classifier.fit(training_inputs, training_classes)\n",
    "SVC_classifier.score(training_inputs,training_classes)"
   ]
  },
  {
   "cell_type": "markdown",
   "metadata": {
    "id": "KX9sK5m9Q-Tm",
    "pycharm": {
     "name": "#%% md\n"
    }
   },
   "source": [
    "## Random Forest"
   ]
  },
  {
   "cell_type": "code",
   "execution_count": 287,
   "metadata": {
    "colab": {
     "base_uri": "https://localhost:8080/"
    },
    "id": "P6Dj-0r_Q-Tm",
    "outputId": "3f86e90a-7617-4089-c863-be2f802827d0",
    "pycharm": {
     "name": "#%%\n"
    }
   },
   "outputs": [
    {
     "data": {
      "text/plain": "0.753987005316007"
     },
     "execution_count": 287,
     "metadata": {},
     "output_type": "execute_result"
    }
   ],
   "source": [
    "from sklearn.ensemble import RandomForestClassifier\n",
    "\n",
    "random_forest_classifier = RandomForestClassifier()\n",
    "random_forest_classifier.fit(training_inputs,training_classes)\n",
    "random_forest_classifier.score(testing_inputs,testing_classes)"
   ]
  },
  {
   "cell_type": "markdown",
   "metadata": {
    "id": "EekgW9TKQ-Tm",
    "pycharm": {
     "name": "#%% md\n"
    }
   },
   "source": [
    "## Voting Classifier"
   ]
  },
  {
   "cell_type": "code",
   "execution_count": 288,
   "metadata": {
    "colab": {
     "base_uri": "https://localhost:8080/"
    },
    "id": "gO_vrcG5Q-Tn",
    "outputId": "bf8953cf-d303-4385-b244-f0a34c160cee",
    "pycharm": {
     "name": "#%%\n"
    }
   },
   "outputs": [
    {
     "data": {
      "text/plain": "0.716774955699941"
     },
     "execution_count": 288,
     "metadata": {},
     "output_type": "execute_result"
    }
   ],
   "source": [
    "from sklearn.ensemble import RandomForestClassifier, VotingClassifier\n",
    "\n",
    "random_forest_classifier = RandomForestClassifier()\n",
    "SVC_classifier = make_pipeline(StandardScaler(), SVC(gamma='auto'))\n",
    "decision_tree_classifier = DecisionTreeClassifier(criterion='gini',random_state=None, splitter='random')\n",
    "\n",
    "voting_classifier = VotingClassifier(estimators=[\n",
    "         ('rf_classifier',random_forest_classifier),('svc', SVC_classifier),('dtc', decision_tree_classifier)], voting='hard')\n",
    "voting_classifier.fit(training_inputs, training_classes)\n",
    "voting_classifier.score(testing_inputs,testing_classes)"
   ]
  },
  {
   "cell_type": "markdown",
   "metadata": {
    "id": "CzjY5zefQ-Tn",
    "pycharm": {
     "name": "#%% md\n"
    }
   },
   "source": [
    "## Neural Networks\n"
   ]
  },
  {
   "cell_type": "code",
   "execution_count": 289,
   "metadata": {
    "id": "Sh82lwhzQ-Tn",
    "pycharm": {
     "name": "#%%\n"
    }
   },
   "outputs": [],
   "source": [
    "from sklearn import preprocessing\n",
    "scaler = preprocessing.StandardScaler().fit(inputs)\n",
    "scaled_inputs = scaler.transform(inputs)\n",
    "scaled_training_inputs = scaler.transform(training_inputs)\n",
    "scaled_testing_inputs = scaler.transform(testing_inputs)"
   ]
  },
  {
   "cell_type": "code",
   "execution_count": 290,
   "metadata": {
    "id": "UHx1h5UUQ-Tn",
    "pycharm": {
     "name": "#%%\n"
    }
   },
   "outputs": [],
   "source": [
    "from sklearn.neural_network import MLPClassifier\n",
    "from sklearn.model_selection import GridSearchCV\n",
    "from sklearn.model_selection import StratifiedKFold\n",
    "import time\n",
    "\n",
    "\n",
    "nt_classifier = MLPClassifier()\n",
    "\n",
    "parameter_grid = {\n",
    "                'hidden_layer_sizes':   ([tuple([100 for y in range(0,x)]) for x in range(1,6)]),\n",
    "                'activation': ['identity','logistic','relu','tanh'],\n",
    "                'solver': ['lbfgs'],\n",
    "                'random_state': [None],\n",
    "                'alpha': [1e-5],\n",
    "                'learning_rate': ['constant','invscaling','adaptive'],\n",
    "                'max_iter': [10e50],\n",
    "                'early_stopping': [True]\n",
    "                }\n",
    "\n",
    "cross_validation = StratifiedKFold(n_splits=10)\n",
    "\n",
    "grid_search = GridSearchCV(nt_classifier,\n",
    "                           param_grid=parameter_grid,\n",
    "                           cv=cross_validation)\n",
    "\n",
    "# start_time = time.time()\n",
    "# grid_search.fit(scaled_inputs, all_labels)\n",
    "# print('Best score: {}'.format(grid_search.best_score_))\n",
    "# print('Best parameters: {}'.format(grid_search.best_params_))\n",
    "# print(\"Time to train: %s seconds\" % (time.time() - start_time))"
   ]
  },
  {
   "cell_type": "code",
   "execution_count": 291,
   "metadata": {
    "colab": {
     "base_uri": "https://localhost:8080/"
    },
    "id": "2h5MY972Q-To",
    "outputId": "44894e11-1803-4db0-ba0c-63e3827e20b9",
    "pycharm": {
     "name": "#%%\n"
    }
   },
   "outputs": [
    {
     "data": {
      "text/plain": "0.5318960425280567"
     },
     "execution_count": 291,
     "metadata": {},
     "output_type": "execute_result"
    }
   ],
   "source": [
    "nt_classifier = MLPClassifier(activation='identity', alpha=1e-05, early_stopping=False, hidden_layer_sizes=(50,),learning_rate='constant',max_iter=10e100,random_state=None,solver='lbfgs')\n",
    "nt_classifier.fit(scaled_training_inputs,training_classes)\n",
    "nt_classifier.score(scaled_testing_inputs,testing_classes)"
   ]
  },
  {
   "cell_type": "markdown",
   "metadata": {
    "id": "5S3ogpJkQ-To",
    "pycharm": {
     "name": "#%% md\n"
    }
   },
   "source": [
    "## Neural Networks with Tensorflow"
   ],
   "outputs": [
    {
     "name": "stdout",
     "output_type": "stream",
     "text": [
      " 45/117 [==========>...................] - ETA: 0s - loss: 0.7471 - accuracy: 0.6544"
     ]
    }
   ]
  },
  {
   "cell_type": "code",
   "execution_count": 304,
   "metadata": {
    "colab": {
     "base_uri": "https://localhost:8080/"
    },
    "id": "jaRT3RdyQ-Tp",
    "outputId": "b0be1f8b-8f07-49de-9f68-990356086636",
    "pycharm": {
     "name": "#%%\n"
    }
   },
   "outputs": [
    {
     "name": "stdout",
     "output_type": "stream",
     "text": [
      "Epoch 1/300\n",
      "127/127 [==============================] - 2s 9ms/step - loss: 0.9734 - accuracy: 0.4942 - val_loss: 0.9334 - val_accuracy: 0.5242\n",
      "Epoch 2/300\n",
      "127/127 [==============================] - 1s 6ms/step - loss: 0.9137 - accuracy: 0.5414 - val_loss: 0.9164 - val_accuracy: 0.5381\n",
      "Epoch 3/300\n",
      "127/127 [==============================] - 1s 6ms/step - loss: 0.8924 - accuracy: 0.5554 - val_loss: 0.9013 - val_accuracy: 0.5576\n",
      "Epoch 4/300\n",
      "127/127 [==============================] - 1s 6ms/step - loss: 0.8774 - accuracy: 0.5693 - val_loss: 0.8931 - val_accuracy: 0.5588\n",
      "Epoch 5/300\n",
      "127/127 [==============================] - 1s 6ms/step - loss: 0.8626 - accuracy: 0.5767 - val_loss: 0.8895 - val_accuracy: 0.5676\n",
      "Epoch 6/300\n",
      "127/127 [==============================] - 1s 6ms/step - loss: 0.8517 - accuracy: 0.5881 - val_loss: 0.8767 - val_accuracy: 0.5759\n",
      "Epoch 7/300\n",
      "127/127 [==============================] - 1s 6ms/step - loss: 0.8364 - accuracy: 0.5973 - val_loss: 0.8798 - val_accuracy: 0.5712\n",
      "Epoch 8/300\n",
      "127/127 [==============================] - 1s 6ms/step - loss: 0.8222 - accuracy: 0.6099 - val_loss: 0.8726 - val_accuracy: 0.5851\n",
      "Epoch 9/300\n",
      "127/127 [==============================] - 1s 6ms/step - loss: 0.8154 - accuracy: 0.6105 - val_loss: 0.8590 - val_accuracy: 0.5859\n",
      "Epoch 10/300\n",
      "127/127 [==============================] - 1s 6ms/step - loss: 0.8039 - accuracy: 0.6241 - val_loss: 0.8576 - val_accuracy: 0.5898\n",
      "Epoch 11/300\n",
      "127/127 [==============================] - 1s 6ms/step - loss: 0.7924 - accuracy: 0.6342 - val_loss: 0.8475 - val_accuracy: 0.5901\n",
      "Epoch 12/300\n",
      "127/127 [==============================] - 1s 6ms/step - loss: 0.7798 - accuracy: 0.6332 - val_loss: 0.8515 - val_accuracy: 0.5921\n",
      "Epoch 13/300\n",
      "127/127 [==============================] - 1s 6ms/step - loss: 0.7696 - accuracy: 0.6448 - val_loss: 0.8560 - val_accuracy: 0.6040\n",
      "Epoch 14/300\n",
      "127/127 [==============================] - 1s 6ms/step - loss: 0.7670 - accuracy: 0.6384 - val_loss: 0.8599 - val_accuracy: 0.5815\n",
      "Epoch 15/300\n",
      "127/127 [==============================] - 1s 6ms/step - loss: 0.7547 - accuracy: 0.6492 - val_loss: 0.8551 - val_accuracy: 0.5833\n",
      "Epoch 16/300\n",
      "127/127 [==============================] - 1s 6ms/step - loss: 0.7430 - accuracy: 0.6544 - val_loss: 0.8548 - val_accuracy: 0.5910\n",
      "Epoch 17/300\n",
      "127/127 [==============================] - 1s 6ms/step - loss: 0.7287 - accuracy: 0.6658 - val_loss: 0.8399 - val_accuracy: 0.6113\n",
      "Epoch 18/300\n",
      "127/127 [==============================] - 1s 6ms/step - loss: 0.7254 - accuracy: 0.6694 - val_loss: 0.8424 - val_accuracy: 0.6040\n",
      "Epoch 19/300\n",
      "127/127 [==============================] - 1s 6ms/step - loss: 0.7161 - accuracy: 0.6704 - val_loss: 0.8595 - val_accuracy: 0.5874\n",
      "Epoch 20/300\n",
      "127/127 [==============================] - 1s 6ms/step - loss: 0.7051 - accuracy: 0.6812 - val_loss: 0.8488 - val_accuracy: 0.6184\n",
      "Epoch 21/300\n",
      "127/127 [==============================] - 1s 6ms/step - loss: 0.6922 - accuracy: 0.6853 - val_loss: 0.8381 - val_accuracy: 0.6155\n",
      "Epoch 22/300\n",
      "127/127 [==============================] - 1s 6ms/step - loss: 0.6803 - accuracy: 0.6946 - val_loss: 0.8725 - val_accuracy: 0.6060\n",
      "Epoch 23/300\n",
      "127/127 [==============================] - 1s 6ms/step - loss: 0.6745 - accuracy: 0.6987 - val_loss: 0.8702 - val_accuracy: 0.5978\n",
      "Epoch 24/300\n",
      "127/127 [==============================] - 1s 6ms/step - loss: 0.6693 - accuracy: 0.7000 - val_loss: 0.8700 - val_accuracy: 0.6072\n",
      "Epoch 25/300\n",
      "127/127 [==============================] - 1s 6ms/step - loss: 0.6441 - accuracy: 0.7132 - val_loss: 0.8812 - val_accuracy: 0.6152\n",
      "Epoch 26/300\n",
      "127/127 [==============================] - 1s 6ms/step - loss: 0.6360 - accuracy: 0.7149 - val_loss: 0.8696 - val_accuracy: 0.6001\n",
      "Epoch 27/300\n",
      "127/127 [==============================] - 1s 6ms/step - loss: 0.6290 - accuracy: 0.7237 - val_loss: 0.8550 - val_accuracy: 0.6172\n",
      "Epoch 28/300\n",
      "127/127 [==============================] - 1s 6ms/step - loss: 0.6191 - accuracy: 0.7255 - val_loss: 0.8779 - val_accuracy: 0.6057\n",
      "Epoch 29/300\n",
      "127/127 [==============================] - 1s 6ms/step - loss: 0.6072 - accuracy: 0.7357 - val_loss: 0.8816 - val_accuracy: 0.6164\n",
      "Epoch 30/300\n",
      "127/127 [==============================] - 1s 6ms/step - loss: 0.5933 - accuracy: 0.7417 - val_loss: 0.8851 - val_accuracy: 0.6119\n",
      "Epoch 31/300\n",
      "127/127 [==============================] - 1s 6ms/step - loss: 0.5778 - accuracy: 0.7490 - val_loss: 0.8806 - val_accuracy: 0.6267\n",
      "Epoch 32/300\n",
      "127/127 [==============================] - 1s 6ms/step - loss: 0.5633 - accuracy: 0.7588 - val_loss: 0.9036 - val_accuracy: 0.6181\n",
      "Epoch 33/300\n",
      "127/127 [==============================] - 1s 6ms/step - loss: 0.5536 - accuracy: 0.7595 - val_loss: 0.9130 - val_accuracy: 0.6205\n",
      "Epoch 34/300\n",
      "127/127 [==============================] - 1s 6ms/step - loss: 0.5348 - accuracy: 0.7696 - val_loss: 0.9910 - val_accuracy: 0.6122\n",
      "Epoch 35/300\n",
      "127/127 [==============================] - 1s 6ms/step - loss: 0.5355 - accuracy: 0.7671 - val_loss: 0.9630 - val_accuracy: 0.6196\n",
      "Epoch 36/300\n",
      "127/127 [==============================] - 1s 6ms/step - loss: 0.5291 - accuracy: 0.7741 - val_loss: 0.9536 - val_accuracy: 0.6214\n",
      "Epoch 37/300\n",
      "127/127 [==============================] - 1s 6ms/step - loss: 0.5040 - accuracy: 0.7909 - val_loss: 0.9892 - val_accuracy: 0.6040\n",
      "Epoch 38/300\n",
      "127/127 [==============================] - 1s 6ms/step - loss: 0.5064 - accuracy: 0.7841 - val_loss: 0.9692 - val_accuracy: 0.6164\n",
      "Epoch 39/300\n",
      "127/127 [==============================] - 1s 6ms/step - loss: 0.4877 - accuracy: 0.7882 - val_loss: 1.0004 - val_accuracy: 0.6075\n",
      "Epoch 40/300\n",
      "127/127 [==============================] - 1s 6ms/step - loss: 0.4803 - accuracy: 0.7977 - val_loss: 1.0289 - val_accuracy: 0.6152\n",
      "Epoch 41/300\n",
      "127/127 [==============================] - 1s 6ms/step - loss: 0.4835 - accuracy: 0.7944 - val_loss: 1.0109 - val_accuracy: 0.6128\n",
      "Epoch 42/300\n",
      "127/127 [==============================] - 1s 6ms/step - loss: 0.4534 - accuracy: 0.8103 - val_loss: 1.0461 - val_accuracy: 0.6016\n",
      "Epoch 43/300\n",
      "127/127 [==============================] - 1s 6ms/step - loss: 0.4664 - accuracy: 0.8028 - val_loss: 1.0312 - val_accuracy: 0.6125\n",
      "Epoch 44/300\n",
      "127/127 [==============================] - 1s 6ms/step - loss: 0.4458 - accuracy: 0.8150 - val_loss: 1.0622 - val_accuracy: 0.6199\n",
      "Epoch 45/300\n",
      "127/127 [==============================] - 1s 6ms/step - loss: 0.4496 - accuracy: 0.8108 - val_loss: 1.0601 - val_accuracy: 0.6102\n",
      "Epoch 46/300\n",
      "127/127 [==============================] - 1s 6ms/step - loss: 0.4187 - accuracy: 0.8232 - val_loss: 1.0685 - val_accuracy: 0.6161\n",
      "Epoch 47/300\n",
      "127/127 [==============================] - 1s 6ms/step - loss: 0.4109 - accuracy: 0.8295 - val_loss: 1.0879 - val_accuracy: 0.6205\n",
      "Epoch 48/300\n",
      "127/127 [==============================] - 1s 6ms/step - loss: 0.3938 - accuracy: 0.8376 - val_loss: 1.1462 - val_accuracy: 0.6066\n",
      "Epoch 49/300\n",
      "127/127 [==============================] - 1s 6ms/step - loss: 0.3887 - accuracy: 0.8400 - val_loss: 1.1160 - val_accuracy: 0.6146\n",
      "Epoch 50/300\n",
      "127/127 [==============================] - 1s 6ms/step - loss: 0.3802 - accuracy: 0.8412 - val_loss: 1.1740 - val_accuracy: 0.6099\n",
      "Epoch 51/300\n",
      "127/127 [==============================] - 1s 6ms/step - loss: 0.3912 - accuracy: 0.8402 - val_loss: 1.1728 - val_accuracy: 0.6187\n",
      "Epoch 52/300\n",
      "127/127 [==============================] - 1s 6ms/step - loss: 0.3766 - accuracy: 0.8453 - val_loss: 1.2187 - val_accuracy: 0.6113\n",
      "Epoch 53/300\n",
      "127/127 [==============================] - 1s 6ms/step - loss: 0.3655 - accuracy: 0.8481 - val_loss: 1.2634 - val_accuracy: 0.6069\n",
      "Epoch 54/300\n",
      "127/127 [==============================] - 1s 6ms/step - loss: 0.3495 - accuracy: 0.8549 - val_loss: 1.2949 - val_accuracy: 0.6261\n",
      "Epoch 55/300\n",
      "127/127 [==============================] - 1s 6ms/step - loss: 0.3755 - accuracy: 0.8485 - val_loss: 1.2775 - val_accuracy: 0.6028\n",
      "Epoch 56/300\n",
      "127/127 [==============================] - 1s 6ms/step - loss: 0.3514 - accuracy: 0.8581 - val_loss: 1.2463 - val_accuracy: 0.6096\n",
      "Epoch 57/300\n",
      "127/127 [==============================] - 1s 6ms/step - loss: 0.3425 - accuracy: 0.8601 - val_loss: 1.2586 - val_accuracy: 0.6211\n",
      "Epoch 58/300\n",
      "127/127 [==============================] - 1s 6ms/step - loss: 0.3226 - accuracy: 0.8684 - val_loss: 1.3195 - val_accuracy: 0.6184\n",
      "Epoch 59/300\n",
      "127/127 [==============================] - 1s 6ms/step - loss: 0.3266 - accuracy: 0.8683 - val_loss: 1.3233 - val_accuracy: 0.6205\n",
      "Epoch 60/300\n",
      "127/127 [==============================] - 1s 6ms/step - loss: 0.2957 - accuracy: 0.8812 - val_loss: 1.3806 - val_accuracy: 0.6122\n",
      "Epoch 61/300\n",
      "127/127 [==============================] - 1s 6ms/step - loss: 0.2849 - accuracy: 0.8901 - val_loss: 1.3182 - val_accuracy: 0.6205\n",
      "Epoch 62/300\n",
      "127/127 [==============================] - 1s 6ms/step - loss: 0.2974 - accuracy: 0.8815 - val_loss: 1.3779 - val_accuracy: 0.6045\n",
      "Epoch 63/300\n",
      "127/127 [==============================] - 1s 6ms/step - loss: 0.2708 - accuracy: 0.8918 - val_loss: 1.4604 - val_accuracy: 0.6137\n",
      "Epoch 64/300\n",
      "127/127 [==============================] - 1s 6ms/step - loss: 0.2849 - accuracy: 0.8897 - val_loss: 1.3742 - val_accuracy: 0.6075\n",
      "Epoch 65/300\n",
      "127/127 [==============================] - 1s 6ms/step - loss: 0.2752 - accuracy: 0.8933 - val_loss: 1.4397 - val_accuracy: 0.6172\n",
      "Epoch 66/300\n",
      "127/127 [==============================] - 1s 6ms/step - loss: 0.2833 - accuracy: 0.8890 - val_loss: 1.4861 - val_accuracy: 0.6116\n",
      "Epoch 67/300\n",
      "127/127 [==============================] - 1s 7ms/step - loss: 0.2608 - accuracy: 0.8996 - val_loss: 1.5169 - val_accuracy: 0.6022\n",
      "Epoch 68/300\n",
      "127/127 [==============================] - 1s 6ms/step - loss: 0.2758 - accuracy: 0.8920 - val_loss: 1.4983 - val_accuracy: 0.6031\n",
      "Epoch 69/300\n",
      "127/127 [==============================] - 1s 6ms/step - loss: 0.2609 - accuracy: 0.8973 - val_loss: 1.5043 - val_accuracy: 0.6102\n",
      "Epoch 70/300\n",
      "127/127 [==============================] - 1s 6ms/step - loss: 0.2691 - accuracy: 0.8987 - val_loss: 1.4858 - val_accuracy: 0.6116\n",
      "Epoch 71/300\n",
      "127/127 [==============================] - 1s 6ms/step - loss: 0.2654 - accuracy: 0.8964 - val_loss: 1.4973 - val_accuracy: 0.6246\n",
      "Epoch 72/300\n",
      "127/127 [==============================] - 1s 6ms/step - loss: 0.2452 - accuracy: 0.9085 - val_loss: 1.4503 - val_accuracy: 0.6172\n",
      "Epoch 73/300\n",
      "127/127 [==============================] - 1s 7ms/step - loss: 0.2216 - accuracy: 0.9181 - val_loss: 1.5540 - val_accuracy: 0.6146\n",
      "Epoch 74/300\n",
      "127/127 [==============================] - 1s 6ms/step - loss: 0.2218 - accuracy: 0.9136 - val_loss: 1.5311 - val_accuracy: 0.6043\n",
      "Epoch 75/300\n",
      "127/127 [==============================] - 1s 6ms/step - loss: 0.2419 - accuracy: 0.9065 - val_loss: 1.5546 - val_accuracy: 0.6131\n",
      "Epoch 76/300\n",
      "127/127 [==============================] - 1s 6ms/step - loss: 0.2219 - accuracy: 0.9138 - val_loss: 1.6236 - val_accuracy: 0.6110\n",
      "Epoch 77/300\n",
      "127/127 [==============================] - 1s 6ms/step - loss: 0.2182 - accuracy: 0.9174 - val_loss: 1.6699 - val_accuracy: 0.6110\n",
      "Epoch 78/300\n",
      "127/127 [==============================] - 1s 6ms/step - loss: 0.2175 - accuracy: 0.9186 - val_loss: 1.6611 - val_accuracy: 0.6134\n",
      "Epoch 79/300\n",
      "127/127 [==============================] - 1s 6ms/step - loss: 0.2006 - accuracy: 0.9273 - val_loss: 1.7285 - val_accuracy: 0.6119\n",
      "Epoch 80/300\n",
      "127/127 [==============================] - 1s 6ms/step - loss: 0.2409 - accuracy: 0.9110 - val_loss: 1.6723 - val_accuracy: 0.6090\n",
      "Epoch 81/300\n",
      "127/127 [==============================] - 1s 6ms/step - loss: 0.2028 - accuracy: 0.9235 - val_loss: 1.6944 - val_accuracy: 0.6187\n",
      "Epoch 82/300\n",
      "127/127 [==============================] - 1s 7ms/step - loss: 0.2027 - accuracy: 0.9212 - val_loss: 1.7436 - val_accuracy: 0.6037\n",
      "Epoch 83/300\n",
      "127/127 [==============================] - 1s 8ms/step - loss: 0.1866 - accuracy: 0.9303 - val_loss: 1.6597 - val_accuracy: 0.6164\n",
      "Epoch 84/300\n",
      "127/127 [==============================] - 1s 9ms/step - loss: 0.1668 - accuracy: 0.9357 - val_loss: 1.6903 - val_accuracy: 0.6043\n",
      "Epoch 85/300\n",
      "127/127 [==============================] - 1s 8ms/step - loss: 0.1650 - accuracy: 0.9392 - val_loss: 1.7130 - val_accuracy: 0.6361\n",
      "Epoch 86/300\n",
      "127/127 [==============================] - 1s 8ms/step - loss: 0.1575 - accuracy: 0.9404 - val_loss: 1.7503 - val_accuracy: 0.6329\n",
      "Epoch 87/300\n",
      "127/127 [==============================] - 1s 8ms/step - loss: 0.1823 - accuracy: 0.9323 - val_loss: 1.8437 - val_accuracy: 0.6051\n",
      "Epoch 88/300\n",
      "127/127 [==============================] - 1s 8ms/step - loss: 0.1971 - accuracy: 0.9270 - val_loss: 1.6964 - val_accuracy: 0.6249\n",
      "Epoch 89/300\n",
      "127/127 [==============================] - 1s 8ms/step - loss: 0.1837 - accuracy: 0.9301 - val_loss: 1.7879 - val_accuracy: 0.6090\n",
      "Epoch 90/300\n",
      "127/127 [==============================] - 1s 8ms/step - loss: 0.1859 - accuracy: 0.9315 - val_loss: 1.8481 - val_accuracy: 0.6152\n",
      "Epoch 91/300\n",
      "127/127 [==============================] - 1s 8ms/step - loss: 0.2231 - accuracy: 0.9208 - val_loss: 1.7250 - val_accuracy: 0.6034\n",
      "Epoch 92/300\n",
      "127/127 [==============================] - 1s 8ms/step - loss: 0.2211 - accuracy: 0.9188 - val_loss: 1.7032 - val_accuracy: 0.6167\n",
      "Epoch 93/300\n",
      "127/127 [==============================] - 1s 8ms/step - loss: 0.1918 - accuracy: 0.9265 - val_loss: 1.7714 - val_accuracy: 0.6048\n",
      "Epoch 94/300\n",
      "127/127 [==============================] - 1s 10ms/step - loss: 0.1725 - accuracy: 0.9349 - val_loss: 1.7679 - val_accuracy: 0.6137\n",
      "Epoch 95/300\n",
      "127/127 [==============================] - 1s 8ms/step - loss: 0.1699 - accuracy: 0.9372 - val_loss: 1.7785 - val_accuracy: 0.6261\n",
      "Epoch 96/300\n",
      "127/127 [==============================] - 1s 7ms/step - loss: 0.1519 - accuracy: 0.9459 - val_loss: 1.8334 - val_accuracy: 0.6081\n",
      "Epoch 97/300\n",
      "127/127 [==============================] - 1s 8ms/step - loss: 0.1581 - accuracy: 0.9421 - val_loss: 1.9153 - val_accuracy: 0.6078\n",
      "Epoch 98/300\n",
      "127/127 [==============================] - 1s 6ms/step - loss: 0.1524 - accuracy: 0.9408 - val_loss: 1.8405 - val_accuracy: 0.6134\n",
      "Epoch 99/300\n",
      "127/127 [==============================] - 1s 8ms/step - loss: 0.1575 - accuracy: 0.9406 - val_loss: 1.8429 - val_accuracy: 0.6172\n",
      "Epoch 100/300\n",
      "127/127 [==============================] - 2s 16ms/step - loss: 0.1359 - accuracy: 0.9493 - val_loss: 1.9585 - val_accuracy: 0.6193\n",
      "Epoch 101/300\n",
      "127/127 [==============================] - 1s 11ms/step - loss: 0.1238 - accuracy: 0.9538 - val_loss: 1.9496 - val_accuracy: 0.6237\n",
      "Epoch 102/300\n",
      "127/127 [==============================] - 1s 7ms/step - loss: 0.1272 - accuracy: 0.9529 - val_loss: 1.9069 - val_accuracy: 0.6240\n",
      "Epoch 103/300\n",
      "127/127 [==============================] - 1s 6ms/step - loss: 0.1348 - accuracy: 0.9501 - val_loss: 1.8767 - val_accuracy: 0.6113\n",
      "Epoch 104/300\n",
      "127/127 [==============================] - 1s 6ms/step - loss: 0.1600 - accuracy: 0.9391 - val_loss: 1.8172 - val_accuracy: 0.6155\n",
      "Epoch 105/300\n",
      "127/127 [==============================] - 1s 8ms/step - loss: 0.1392 - accuracy: 0.9492 - val_loss: 1.9471 - val_accuracy: 0.6249\n",
      "Epoch 106/300\n",
      "127/127 [==============================] - 1s 7ms/step - loss: 0.1329 - accuracy: 0.9485 - val_loss: 1.9405 - val_accuracy: 0.6140\n",
      "Epoch 107/300\n",
      "127/127 [==============================] - 1s 6ms/step - loss: 0.1310 - accuracy: 0.9503 - val_loss: 1.9480 - val_accuracy: 0.6149\n",
      "Epoch 108/300\n",
      "127/127 [==============================] - 1s 6ms/step - loss: 0.1207 - accuracy: 0.9565 - val_loss: 1.9537 - val_accuracy: 0.6202\n",
      "Epoch 109/300\n",
      "127/127 [==============================] - 1s 8ms/step - loss: 0.1205 - accuracy: 0.9530 - val_loss: 1.9302 - val_accuracy: 0.6202\n",
      "Epoch 110/300\n",
      "127/127 [==============================] - 1s 8ms/step - loss: 0.1304 - accuracy: 0.9520 - val_loss: 1.9471 - val_accuracy: 0.6031\n",
      "Epoch 111/300\n",
      "127/127 [==============================] - 1s 6ms/step - loss: 0.1172 - accuracy: 0.9537 - val_loss: 1.9093 - val_accuracy: 0.6199\n",
      "Epoch 112/300\n",
      "127/127 [==============================] - 1s 6ms/step - loss: 0.1127 - accuracy: 0.9567 - val_loss: 2.0282 - val_accuracy: 0.6199\n",
      "Epoch 113/300\n",
      "127/127 [==============================] - 1s 6ms/step - loss: 0.1191 - accuracy: 0.9540 - val_loss: 1.9357 - val_accuracy: 0.6211\n",
      "Epoch 114/300\n",
      "127/127 [==============================] - 1s 6ms/step - loss: 0.1076 - accuracy: 0.9585 - val_loss: 2.0073 - val_accuracy: 0.6276\n",
      "Epoch 115/300\n",
      "127/127 [==============================] - 1s 6ms/step - loss: 0.1247 - accuracy: 0.9547 - val_loss: 2.0185 - val_accuracy: 0.6113\n",
      "Epoch 116/300\n",
      "127/127 [==============================] - 1s 6ms/step - loss: 0.1356 - accuracy: 0.9491 - val_loss: 1.9469 - val_accuracy: 0.6131\n",
      "Epoch 117/300\n",
      "127/127 [==============================] - 1s 6ms/step - loss: 0.1410 - accuracy: 0.9465 - val_loss: 1.9964 - val_accuracy: 0.6108\n",
      "Epoch 118/300\n",
      "127/127 [==============================] - 1s 6ms/step - loss: 0.1381 - accuracy: 0.9501 - val_loss: 1.9124 - val_accuracy: 0.6167\n",
      "Epoch 119/300\n",
      "127/127 [==============================] - 1s 6ms/step - loss: 0.1168 - accuracy: 0.9555 - val_loss: 2.0250 - val_accuracy: 0.6054\n",
      "Epoch 120/300\n",
      "127/127 [==============================] - 1s 6ms/step - loss: 0.1140 - accuracy: 0.9558 - val_loss: 2.0226 - val_accuracy: 0.6108\n",
      "Epoch 121/300\n",
      "127/127 [==============================] - 1s 6ms/step - loss: 0.1086 - accuracy: 0.9581 - val_loss: 1.9357 - val_accuracy: 0.6288\n",
      "Epoch 122/300\n",
      "127/127 [==============================] - 1s 7ms/step - loss: 0.1007 - accuracy: 0.9608 - val_loss: 2.0028 - val_accuracy: 0.6131\n",
      "Epoch 123/300\n",
      "127/127 [==============================] - 1s 6ms/step - loss: 0.0993 - accuracy: 0.9605 - val_loss: 2.0286 - val_accuracy: 0.6196\n",
      "Epoch 124/300\n",
      "127/127 [==============================] - 1s 6ms/step - loss: 0.0985 - accuracy: 0.9624 - val_loss: 2.0598 - val_accuracy: 0.6108\n",
      "Epoch 125/300\n",
      "127/127 [==============================] - 1s 6ms/step - loss: 0.0926 - accuracy: 0.9636 - val_loss: 2.0275 - val_accuracy: 0.6237\n",
      "Epoch 126/300\n",
      "127/127 [==============================] - 1s 6ms/step - loss: 0.0832 - accuracy: 0.9653 - val_loss: 1.9791 - val_accuracy: 0.6255\n",
      "Epoch 127/300\n",
      "127/127 [==============================] - 1s 6ms/step - loss: 0.0851 - accuracy: 0.9650 - val_loss: 2.0188 - val_accuracy: 0.6199\n",
      "Epoch 128/300\n",
      "127/127 [==============================] - 1s 6ms/step - loss: 0.0866 - accuracy: 0.9648 - val_loss: 2.0597 - val_accuracy: 0.6220\n",
      "Epoch 129/300\n",
      "127/127 [==============================] - 1s 6ms/step - loss: 0.0829 - accuracy: 0.9642 - val_loss: 2.0169 - val_accuracy: 0.6246\n",
      "Epoch 130/300\n",
      "127/127 [==============================] - 1s 6ms/step - loss: 0.0792 - accuracy: 0.9662 - val_loss: 2.0452 - val_accuracy: 0.6234\n",
      "Epoch 131/300\n",
      "127/127 [==============================] - 1s 6ms/step - loss: 0.0848 - accuracy: 0.9636 - val_loss: 1.9965 - val_accuracy: 0.6152\n",
      "Epoch 132/300\n",
      "127/127 [==============================] - 1s 6ms/step - loss: 0.0838 - accuracy: 0.9653 - val_loss: 2.0269 - val_accuracy: 0.6232\n",
      "Epoch 133/300\n",
      "127/127 [==============================] - 1s 6ms/step - loss: 0.0760 - accuracy: 0.9670 - val_loss: 2.0248 - val_accuracy: 0.6234\n",
      "Epoch 134/300\n",
      "127/127 [==============================] - 1s 6ms/step - loss: 0.0744 - accuracy: 0.9665 - val_loss: 2.0352 - val_accuracy: 0.6208\n",
      "Epoch 135/300\n",
      "127/127 [==============================] - 1s 6ms/step - loss: 0.0775 - accuracy: 0.9652 - val_loss: 2.0976 - val_accuracy: 0.6234\n",
      "Epoch 136/300\n",
      "127/127 [==============================] - 1s 6ms/step - loss: 0.0795 - accuracy: 0.9649 - val_loss: 2.0196 - val_accuracy: 0.6232\n",
      "Epoch 137/300\n",
      "127/127 [==============================] - 1s 6ms/step - loss: 0.0745 - accuracy: 0.9668 - val_loss: 2.0476 - val_accuracy: 0.6172\n",
      "Epoch 138/300\n",
      "127/127 [==============================] - 1s 6ms/step - loss: 0.0730 - accuracy: 0.9682 - val_loss: 2.0679 - val_accuracy: 0.6178\n",
      "Epoch 139/300\n",
      "127/127 [==============================] - 1s 6ms/step - loss: 0.1021 - accuracy: 0.9603 - val_loss: 2.1033 - val_accuracy: 0.6264\n",
      "Epoch 140/300\n",
      "127/127 [==============================] - 1s 6ms/step - loss: 0.1165 - accuracy: 0.9546 - val_loss: 1.9254 - val_accuracy: 0.6090\n",
      "Epoch 141/300\n",
      "127/127 [==============================] - 1s 6ms/step - loss: 0.1213 - accuracy: 0.9539 - val_loss: 1.9929 - val_accuracy: 0.6164\n",
      "Epoch 142/300\n",
      "127/127 [==============================] - 1s 6ms/step - loss: 0.0961 - accuracy: 0.9597 - val_loss: 2.0644 - val_accuracy: 0.6237\n",
      "Epoch 143/300\n",
      "127/127 [==============================] - 1s 6ms/step - loss: 0.0859 - accuracy: 0.9655 - val_loss: 2.0333 - val_accuracy: 0.6246\n",
      "Epoch 144/300\n",
      "127/127 [==============================] - 1s 6ms/step - loss: 0.0768 - accuracy: 0.9661 - val_loss: 2.0739 - val_accuracy: 0.6229\n",
      "Epoch 145/300\n",
      "127/127 [==============================] - 1s 6ms/step - loss: 0.0788 - accuracy: 0.9652 - val_loss: 2.0690 - val_accuracy: 0.6255\n",
      "Epoch 146/300\n",
      "127/127 [==============================] - 1s 6ms/step - loss: 0.0784 - accuracy: 0.9653 - val_loss: 2.0803 - val_accuracy: 0.6211\n",
      "Epoch 147/300\n",
      "127/127 [==============================] - 1s 6ms/step - loss: 0.0746 - accuracy: 0.9664 - val_loss: 2.0973 - val_accuracy: 0.6270\n",
      "Epoch 148/300\n",
      "127/127 [==============================] - 1s 6ms/step - loss: 0.0681 - accuracy: 0.9690 - val_loss: 2.0743 - val_accuracy: 0.6273\n",
      "Epoch 149/300\n",
      "127/127 [==============================] - 1s 6ms/step - loss: 0.0681 - accuracy: 0.9688 - val_loss: 2.1039 - val_accuracy: 0.6255\n",
      "Epoch 150/300\n",
      "127/127 [==============================] - 1s 6ms/step - loss: 0.0669 - accuracy: 0.9679 - val_loss: 2.1109 - val_accuracy: 0.6279\n",
      "Epoch 151/300\n",
      "127/127 [==============================] - 1s 6ms/step - loss: 0.0691 - accuracy: 0.9683 - val_loss: 2.0798 - val_accuracy: 0.6202\n",
      "Epoch 152/300\n",
      "127/127 [==============================] - 1s 6ms/step - loss: 0.0678 - accuracy: 0.9669 - val_loss: 2.0904 - val_accuracy: 0.6214\n",
      "Epoch 153/300\n",
      "127/127 [==============================] - 1s 6ms/step - loss: 0.0683 - accuracy: 0.9668 - val_loss: 2.1035 - val_accuracy: 0.6208\n",
      "Epoch 154/300\n",
      "127/127 [==============================] - 3s 26ms/step - loss: 0.0644 - accuracy: 0.9691 - val_loss: 2.0543 - val_accuracy: 0.6353\n",
      "Epoch 155/300\n",
      "127/127 [==============================] - 2s 12ms/step - loss: 0.0636 - accuracy: 0.9687 - val_loss: 2.0896 - val_accuracy: 0.6258\n",
      "Epoch 156/300\n",
      "127/127 [==============================] - 1s 6ms/step - loss: 0.0647 - accuracy: 0.9680 - val_loss: 2.0663 - val_accuracy: 0.6217\n",
      "Epoch 157/300\n",
      "127/127 [==============================] - 1s 6ms/step - loss: 0.0645 - accuracy: 0.9689 - val_loss: 2.0840 - val_accuracy: 0.6234\n",
      "Epoch 158/300\n",
      "127/127 [==============================] - 1s 6ms/step - loss: 0.0640 - accuracy: 0.9681 - val_loss: 2.0620 - val_accuracy: 0.6279\n",
      "Epoch 159/300\n",
      "127/127 [==============================] - 1s 6ms/step - loss: 0.0578 - accuracy: 0.9692 - val_loss: 2.1330 - val_accuracy: 0.6288\n",
      "Epoch 160/300\n",
      "127/127 [==============================] - 1s 6ms/step - loss: 0.0597 - accuracy: 0.9683 - val_loss: 2.1396 - val_accuracy: 0.6214\n",
      "Epoch 161/300\n",
      "127/127 [==============================] - 1s 6ms/step - loss: 0.0601 - accuracy: 0.9699 - val_loss: 2.1566 - val_accuracy: 0.6264\n",
      "Epoch 162/300\n",
      "127/127 [==============================] - 1s 7ms/step - loss: 0.0623 - accuracy: 0.9690 - val_loss: 2.1621 - val_accuracy: 0.6305\n",
      "Epoch 163/300\n",
      "127/127 [==============================] - 1s 6ms/step - loss: 0.0591 - accuracy: 0.9688 - val_loss: 2.1012 - val_accuracy: 0.6285\n",
      "Epoch 164/300\n",
      "127/127 [==============================] - 1s 6ms/step - loss: 0.0586 - accuracy: 0.9688 - val_loss: 2.1426 - val_accuracy: 0.6267\n",
      "Epoch 165/300\n",
      "127/127 [==============================] - 3s 27ms/step - loss: 0.0611 - accuracy: 0.9662 - val_loss: 2.0794 - val_accuracy: 0.6172\n",
      "Epoch 166/300\n",
      "127/127 [==============================] - 1s 6ms/step - loss: 0.0599 - accuracy: 0.9665 - val_loss: 2.1112 - val_accuracy: 0.6335\n",
      "Epoch 167/300\n",
      "127/127 [==============================] - 1s 6ms/step - loss: 0.0564 - accuracy: 0.9696 - val_loss: 2.0641 - val_accuracy: 0.6273\n",
      "Epoch 168/300\n",
      "127/127 [==============================] - 1s 6ms/step - loss: 0.0569 - accuracy: 0.9685 - val_loss: 2.0828 - val_accuracy: 0.6294\n",
      "Epoch 169/300\n",
      "127/127 [==============================] - 1s 6ms/step - loss: 0.0587 - accuracy: 0.9679 - val_loss: 2.1687 - val_accuracy: 0.6237\n",
      "Epoch 170/300\n",
      "127/127 [==============================] - 1s 6ms/step - loss: 0.0569 - accuracy: 0.9693 - val_loss: 2.1543 - val_accuracy: 0.6279\n",
      "Epoch 171/300\n",
      "127/127 [==============================] - 1s 6ms/step - loss: 0.0564 - accuracy: 0.9692 - val_loss: 2.0926 - val_accuracy: 0.6285\n",
      "Epoch 172/300\n",
      "127/127 [==============================] - 1s 6ms/step - loss: 0.0556 - accuracy: 0.9711 - val_loss: 2.1795 - val_accuracy: 0.6249\n",
      "Epoch 173/300\n",
      "127/127 [==============================] - 1s 6ms/step - loss: 0.0561 - accuracy: 0.9700 - val_loss: 2.0895 - val_accuracy: 0.6329\n",
      "Epoch 174/300\n",
      "127/127 [==============================] - 1s 6ms/step - loss: 0.0550 - accuracy: 0.9697 - val_loss: 2.1431 - val_accuracy: 0.6258\n",
      "Epoch 175/300\n",
      "127/127 [==============================] - 1s 6ms/step - loss: 0.0559 - accuracy: 0.9690 - val_loss: 2.1198 - val_accuracy: 0.6199\n",
      "Epoch 176/300\n",
      "127/127 [==============================] - 1s 6ms/step - loss: 0.0551 - accuracy: 0.9698 - val_loss: 2.0807 - val_accuracy: 0.6249\n",
      "Epoch 177/300\n",
      "127/127 [==============================] - 1s 6ms/step - loss: 0.0556 - accuracy: 0.9684 - val_loss: 2.0923 - val_accuracy: 0.6297\n",
      "Epoch 178/300\n",
      "127/127 [==============================] - 1s 6ms/step - loss: 0.0531 - accuracy: 0.9694 - val_loss: 2.1315 - val_accuracy: 0.6214\n",
      "Epoch 179/300\n",
      "127/127 [==============================] - 1s 6ms/step - loss: 0.0525 - accuracy: 0.9694 - val_loss: 2.1232 - val_accuracy: 0.6291\n",
      "Epoch 180/300\n",
      "127/127 [==============================] - 3s 24ms/step - loss: 0.0543 - accuracy: 0.9702 - val_loss: 2.0785 - val_accuracy: 0.6276\n",
      "Epoch 181/300\n",
      "127/127 [==============================] - 1s 6ms/step - loss: 0.0526 - accuracy: 0.9697 - val_loss: 2.0848 - val_accuracy: 0.6311\n",
      "Epoch 182/300\n",
      "127/127 [==============================] - 1s 6ms/step - loss: 0.0554 - accuracy: 0.9681 - val_loss: 2.0875 - val_accuracy: 0.6285\n",
      "Epoch 183/300\n",
      "127/127 [==============================] - 1s 6ms/step - loss: 0.0517 - accuracy: 0.9707 - val_loss: 2.1019 - val_accuracy: 0.6308\n",
      "Epoch 184/300\n",
      "127/127 [==============================] - 1s 6ms/step - loss: 0.0485 - accuracy: 0.9700 - val_loss: 2.1352 - val_accuracy: 0.6329\n",
      "Epoch 185/300\n",
      "127/127 [==============================] - 1s 7ms/step - loss: 0.0513 - accuracy: 0.9695 - val_loss: 2.1708 - val_accuracy: 0.6258\n",
      "Epoch 186/300\n",
      "127/127 [==============================] - 1s 7ms/step - loss: 0.0513 - accuracy: 0.9702 - val_loss: 2.1881 - val_accuracy: 0.6320\n",
      "Epoch 187/300\n",
      "127/127 [==============================] - 1s 7ms/step - loss: 0.0507 - accuracy: 0.9688 - val_loss: 2.1678 - val_accuracy: 0.6305\n",
      "Epoch 188/300\n",
      "127/127 [==============================] - 1s 6ms/step - loss: 0.0504 - accuracy: 0.9689 - val_loss: 2.0977 - val_accuracy: 0.6320\n",
      "Epoch 189/300\n",
      "127/127 [==============================] - 1s 6ms/step - loss: 0.0491 - accuracy: 0.9697 - val_loss: 2.1583 - val_accuracy: 0.6329\n",
      "Epoch 190/300\n",
      "127/127 [==============================] - 1s 6ms/step - loss: 0.0494 - accuracy: 0.9697 - val_loss: 2.1381 - val_accuracy: 0.6226\n",
      "Epoch 191/300\n",
      "127/127 [==============================] - 1s 7ms/step - loss: 0.0486 - accuracy: 0.9702 - val_loss: 2.1346 - val_accuracy: 0.6285\n",
      "Epoch 192/300\n",
      "127/127 [==============================] - 1s 7ms/step - loss: 0.0474 - accuracy: 0.9702 - val_loss: 2.1823 - val_accuracy: 0.6270\n",
      "Epoch 193/300\n",
      "127/127 [==============================] - 1s 6ms/step - loss: 0.0490 - accuracy: 0.9704 - val_loss: 2.1836 - val_accuracy: 0.6223\n",
      "Epoch 194/300\n",
      "127/127 [==============================] - 1s 7ms/step - loss: 0.0483 - accuracy: 0.9697 - val_loss: 2.1952 - val_accuracy: 0.6276\n",
      "Epoch 195/300\n",
      "127/127 [==============================] - 1s 9ms/step - loss: 0.0490 - accuracy: 0.9695 - val_loss: 2.1524 - val_accuracy: 0.6279\n",
      "Epoch 196/300\n",
      "127/127 [==============================] - 1s 7ms/step - loss: 0.0494 - accuracy: 0.9686 - val_loss: 2.1979 - val_accuracy: 0.6252\n",
      "Epoch 197/300\n",
      "127/127 [==============================] - 1s 6ms/step - loss: 0.0494 - accuracy: 0.9696 - val_loss: 2.1587 - val_accuracy: 0.6270\n",
      "Epoch 198/300\n",
      "127/127 [==============================] - 1s 6ms/step - loss: 0.0497 - accuracy: 0.9692 - val_loss: 2.1708 - val_accuracy: 0.6270\n",
      "Epoch 199/300\n",
      "127/127 [==============================] - 1s 9ms/step - loss: 0.0471 - accuracy: 0.9716 - val_loss: 2.1764 - val_accuracy: 0.6314\n",
      "Epoch 200/300\n",
      "127/127 [==============================] - 1s 11ms/step - loss: 0.0479 - accuracy: 0.9718 - val_loss: 2.1619 - val_accuracy: 0.6252\n",
      "Epoch 201/300\n",
      "127/127 [==============================] - 1s 7ms/step - loss: 0.0473 - accuracy: 0.9706 - val_loss: 2.2145 - val_accuracy: 0.6311\n",
      "Epoch 202/300\n",
      "127/127 [==============================] - 1s 6ms/step - loss: 0.0473 - accuracy: 0.9700 - val_loss: 2.1726 - val_accuracy: 0.6291\n",
      "Epoch 203/300\n",
      "127/127 [==============================] - 1s 6ms/step - loss: 0.0479 - accuracy: 0.9703 - val_loss: 2.1936 - val_accuracy: 0.6276\n",
      "Epoch 204/300\n",
      "127/127 [==============================] - 1s 7ms/step - loss: 0.0475 - accuracy: 0.9687 - val_loss: 2.1561 - val_accuracy: 0.6243\n",
      "Epoch 205/300\n",
      "127/127 [==============================] - 1s 8ms/step - loss: 0.0468 - accuracy: 0.9696 - val_loss: 2.2000 - val_accuracy: 0.6202\n",
      "Epoch 206/300\n",
      "127/127 [==============================] - 1s 6ms/step - loss: 0.0483 - accuracy: 0.9694 - val_loss: 2.1944 - val_accuracy: 0.6264\n",
      "Epoch 207/300\n",
      "127/127 [==============================] - 1s 7ms/step - loss: 0.0506 - accuracy: 0.9688 - val_loss: 2.1974 - val_accuracy: 0.6291\n",
      "Epoch 208/300\n",
      "127/127 [==============================] - 1s 7ms/step - loss: 0.0481 - accuracy: 0.9698 - val_loss: 2.1553 - val_accuracy: 0.6273\n",
      "Epoch 209/300\n",
      "127/127 [==============================] - 1s 6ms/step - loss: 0.0480 - accuracy: 0.9690 - val_loss: 2.1769 - val_accuracy: 0.6232\n",
      "Epoch 210/300\n",
      "127/127 [==============================] - 1s 7ms/step - loss: 0.0474 - accuracy: 0.9699 - val_loss: 2.2028 - val_accuracy: 0.6294\n",
      "Epoch 211/300\n",
      "127/127 [==============================] - 1s 6ms/step - loss: 0.0471 - accuracy: 0.9695 - val_loss: 2.2100 - val_accuracy: 0.6282\n",
      "Epoch 212/300\n",
      "127/127 [==============================] - 1s 6ms/step - loss: 0.0459 - accuracy: 0.9695 - val_loss: 2.2502 - val_accuracy: 0.6338\n",
      "Epoch 213/300\n",
      "127/127 [==============================] - 1s 7ms/step - loss: 0.0461 - accuracy: 0.9707 - val_loss: 2.1834 - val_accuracy: 0.6255\n",
      "Epoch 214/300\n",
      "127/127 [==============================] - 1s 8ms/step - loss: 0.0481 - accuracy: 0.9687 - val_loss: 2.2186 - val_accuracy: 0.6249\n",
      "Epoch 215/300\n",
      "127/127 [==============================] - 1s 8ms/step - loss: 0.0456 - accuracy: 0.9709 - val_loss: 2.2632 - val_accuracy: 0.6240\n",
      "Epoch 216/300\n",
      "127/127 [==============================] - 1s 8ms/step - loss: 0.0459 - accuracy: 0.9695 - val_loss: 2.1713 - val_accuracy: 0.6229\n",
      "Epoch 217/300\n",
      "127/127 [==============================] - 1s 9ms/step - loss: 0.0458 - accuracy: 0.9696 - val_loss: 2.2369 - val_accuracy: 0.6270\n",
      "Epoch 218/300\n",
      "127/127 [==============================] - 1s 8ms/step - loss: 0.0452 - accuracy: 0.9716 - val_loss: 2.2003 - val_accuracy: 0.6299\n",
      "Epoch 219/300\n",
      "127/127 [==============================] - 1s 7ms/step - loss: 0.0450 - accuracy: 0.9700 - val_loss: 2.2773 - val_accuracy: 0.6302\n",
      "Epoch 220/300\n",
      "127/127 [==============================] - 1s 8ms/step - loss: 0.0461 - accuracy: 0.9707 - val_loss: 2.2659 - val_accuracy: 0.6276\n",
      "Epoch 221/300\n",
      "127/127 [==============================] - 1s 8ms/step - loss: 0.0468 - accuracy: 0.9699 - val_loss: 2.1997 - val_accuracy: 0.6314\n",
      "Epoch 222/300\n",
      "127/127 [==============================] - 1s 8ms/step - loss: 0.0450 - accuracy: 0.9703 - val_loss: 2.2032 - val_accuracy: 0.6279\n",
      "Epoch 223/300\n",
      "127/127 [==============================] - 1s 8ms/step - loss: 0.0459 - accuracy: 0.9692 - val_loss: 2.2037 - val_accuracy: 0.6317\n",
      "Epoch 224/300\n",
      "127/127 [==============================] - 1s 7ms/step - loss: 0.0457 - accuracy: 0.9702 - val_loss: 2.2477 - val_accuracy: 0.6314\n",
      "Epoch 225/300\n",
      "127/127 [==============================] - 1s 6ms/step - loss: 0.0459 - accuracy: 0.9681 - val_loss: 2.2066 - val_accuracy: 0.6282\n",
      "Epoch 226/300\n",
      "127/127 [==============================] - 1s 6ms/step - loss: 0.0462 - accuracy: 0.9699 - val_loss: 2.2237 - val_accuracy: 0.6252\n",
      "Epoch 227/300\n",
      "127/127 [==============================] - 1s 7ms/step - loss: 0.0445 - accuracy: 0.9710 - val_loss: 2.2208 - val_accuracy: 0.6217\n",
      "Epoch 228/300\n",
      "127/127 [==============================] - 1s 6ms/step - loss: 0.0453 - accuracy: 0.9708 - val_loss: 2.2433 - val_accuracy: 0.6267\n",
      "Epoch 229/300\n",
      "127/127 [==============================] - 1s 6ms/step - loss: 0.0470 - accuracy: 0.9705 - val_loss: 2.2283 - val_accuracy: 0.6282\n",
      "Epoch 230/300\n",
      "127/127 [==============================] - 1s 7ms/step - loss: 0.0482 - accuracy: 0.9698 - val_loss: 2.1836 - val_accuracy: 0.6288\n",
      "Epoch 231/300\n",
      "127/127 [==============================] - 1s 6ms/step - loss: 0.0463 - accuracy: 0.9708 - val_loss: 2.2327 - val_accuracy: 0.6273\n",
      "Epoch 232/300\n",
      "127/127 [==============================] - 1s 6ms/step - loss: 0.0465 - accuracy: 0.9722 - val_loss: 2.2214 - val_accuracy: 0.6273\n",
      "Epoch 233/300\n",
      "127/127 [==============================] - 1s 6ms/step - loss: 0.0474 - accuracy: 0.9700 - val_loss: 2.2431 - val_accuracy: 0.6246\n",
      "Epoch 234/300\n",
      "127/127 [==============================] - 1s 6ms/step - loss: 0.0478 - accuracy: 0.9701 - val_loss: 2.2113 - val_accuracy: 0.6270\n",
      "Epoch 235/300\n",
      "127/127 [==============================] - 1s 6ms/step - loss: 0.0463 - accuracy: 0.9698 - val_loss: 2.2885 - val_accuracy: 0.6220\n",
      "Epoch 236/300\n",
      "127/127 [==============================] - 1s 6ms/step - loss: 0.0452 - accuracy: 0.9720 - val_loss: 2.2601 - val_accuracy: 0.6232\n",
      "Epoch 237/300\n",
      "127/127 [==============================] - 1s 6ms/step - loss: 0.0455 - accuracy: 0.9713 - val_loss: 2.2683 - val_accuracy: 0.6252\n",
      "Epoch 238/300\n",
      "127/127 [==============================] - 1s 6ms/step - loss: 0.0455 - accuracy: 0.9710 - val_loss: 2.3156 - val_accuracy: 0.6258\n",
      "Epoch 239/300\n",
      "127/127 [==============================] - 1s 6ms/step - loss: 0.0457 - accuracy: 0.9707 - val_loss: 2.2718 - val_accuracy: 0.6261\n",
      "Epoch 240/300\n",
      "127/127 [==============================] - 1s 6ms/step - loss: 0.0452 - accuracy: 0.9699 - val_loss: 2.2719 - val_accuracy: 0.6223\n",
      "Epoch 241/300\n",
      "127/127 [==============================] - 1s 6ms/step - loss: 0.0462 - accuracy: 0.9703 - val_loss: 2.2336 - val_accuracy: 0.6276\n",
      "Epoch 242/300\n",
      "127/127 [==============================] - 1s 6ms/step - loss: 0.0467 - accuracy: 0.9701 - val_loss: 2.2570 - val_accuracy: 0.6249\n",
      "Epoch 243/300\n",
      "127/127 [==============================] - 1s 6ms/step - loss: 0.0456 - accuracy: 0.9687 - val_loss: 2.2336 - val_accuracy: 0.6314\n",
      "Epoch 244/300\n",
      "127/127 [==============================] - 1s 6ms/step - loss: 0.0465 - accuracy: 0.9718 - val_loss: 2.2220 - val_accuracy: 0.6234\n",
      "Epoch 245/300\n",
      "127/127 [==============================] - 1s 6ms/step - loss: 0.0433 - accuracy: 0.9710 - val_loss: 2.2507 - val_accuracy: 0.6335\n",
      "Epoch 246/300\n",
      "127/127 [==============================] - 1s 6ms/step - loss: 0.0460 - accuracy: 0.9695 - val_loss: 2.2305 - val_accuracy: 0.6326\n",
      "Epoch 247/300\n",
      "127/127 [==============================] - 1s 6ms/step - loss: 0.0438 - accuracy: 0.9694 - val_loss: 2.2755 - val_accuracy: 0.6288\n",
      "Epoch 248/300\n",
      "127/127 [==============================] - 1s 6ms/step - loss: 0.0443 - accuracy: 0.9710 - val_loss: 2.2644 - val_accuracy: 0.6258\n",
      "Epoch 249/300\n",
      "127/127 [==============================] - 1s 6ms/step - loss: 0.0444 - accuracy: 0.9680 - val_loss: 2.2587 - val_accuracy: 0.6246\n",
      "Epoch 250/300\n",
      "127/127 [==============================] - 1s 6ms/step - loss: 0.0441 - accuracy: 0.9692 - val_loss: 2.2793 - val_accuracy: 0.6249\n",
      "Epoch 251/300\n",
      "127/127 [==============================] - 1s 6ms/step - loss: 0.0437 - accuracy: 0.9704 - val_loss: 2.2477 - val_accuracy: 0.6258\n",
      "Epoch 252/300\n",
      "127/127 [==============================] - 1s 6ms/step - loss: 0.0428 - accuracy: 0.9709 - val_loss: 2.2768 - val_accuracy: 0.6308\n",
      "Epoch 253/300\n",
      "127/127 [==============================] - 1s 6ms/step - loss: 0.0440 - accuracy: 0.9701 - val_loss: 2.2806 - val_accuracy: 0.6311\n",
      "Epoch 254/300\n",
      "127/127 [==============================] - 1s 6ms/step - loss: 0.0426 - accuracy: 0.9703 - val_loss: 2.2742 - val_accuracy: 0.6252\n",
      "Epoch 255/300\n",
      "127/127 [==============================] - 1s 6ms/step - loss: 0.0427 - accuracy: 0.9701 - val_loss: 2.2687 - val_accuracy: 0.6359\n",
      "Epoch 256/300\n",
      "127/127 [==============================] - 1s 6ms/step - loss: 0.0434 - accuracy: 0.9707 - val_loss: 2.2864 - val_accuracy: 0.6305\n",
      "Epoch 257/300\n",
      "127/127 [==============================] - 1s 6ms/step - loss: 0.0437 - accuracy: 0.9707 - val_loss: 2.2485 - val_accuracy: 0.6261\n",
      "Epoch 258/300\n",
      "127/127 [==============================] - 1s 6ms/step - loss: 0.0433 - accuracy: 0.9715 - val_loss: 2.3204 - val_accuracy: 0.6335\n",
      "Epoch 259/300\n",
      "127/127 [==============================] - 1s 6ms/step - loss: 0.0430 - accuracy: 0.9705 - val_loss: 2.2760 - val_accuracy: 0.6305\n",
      "Epoch 260/300\n",
      "127/127 [==============================] - 1s 6ms/step - loss: 0.0453 - accuracy: 0.9693 - val_loss: 2.2736 - val_accuracy: 0.6356\n",
      "Epoch 261/300\n",
      "127/127 [==============================] - 1s 6ms/step - loss: 0.0443 - accuracy: 0.9705 - val_loss: 2.2549 - val_accuracy: 0.6261\n",
      "Epoch 262/300\n",
      "127/127 [==============================] - 1s 6ms/step - loss: 0.0482 - accuracy: 0.9702 - val_loss: 2.2760 - val_accuracy: 0.6249\n",
      "Epoch 263/300\n",
      "127/127 [==============================] - 1s 6ms/step - loss: 0.0434 - accuracy: 0.9713 - val_loss: 2.2961 - val_accuracy: 0.6329\n",
      "Epoch 264/300\n",
      "127/127 [==============================] - 1s 6ms/step - loss: 0.0426 - accuracy: 0.9706 - val_loss: 2.2977 - val_accuracy: 0.6285\n",
      "Epoch 265/300\n",
      "127/127 [==============================] - 1s 6ms/step - loss: 0.0417 - accuracy: 0.9706 - val_loss: 2.3041 - val_accuracy: 0.6261\n",
      "Epoch 266/300\n",
      "127/127 [==============================] - 1s 6ms/step - loss: 0.0434 - accuracy: 0.9709 - val_loss: 2.2883 - val_accuracy: 0.6267\n",
      "Epoch 267/300\n",
      "127/127 [==============================] - 1s 6ms/step - loss: 0.0443 - accuracy: 0.9707 - val_loss: 2.2616 - val_accuracy: 0.6240\n",
      "Epoch 268/300\n",
      "127/127 [==============================] - 1s 6ms/step - loss: 0.0432 - accuracy: 0.9707 - val_loss: 2.2566 - val_accuracy: 0.6285\n",
      "Epoch 269/300\n",
      "127/127 [==============================] - 1s 6ms/step - loss: 0.0413 - accuracy: 0.9713 - val_loss: 2.3429 - val_accuracy: 0.6294\n",
      "Epoch 270/300\n",
      "127/127 [==============================] - 1s 6ms/step - loss: 0.0426 - accuracy: 0.9710 - val_loss: 2.3109 - val_accuracy: 0.6291\n",
      "Epoch 271/300\n",
      "127/127 [==============================] - 1s 6ms/step - loss: 0.0423 - accuracy: 0.9714 - val_loss: 2.3232 - val_accuracy: 0.6299\n",
      "Epoch 272/300\n",
      "127/127 [==============================] - 1s 6ms/step - loss: 0.0421 - accuracy: 0.9707 - val_loss: 2.2888 - val_accuracy: 0.6279\n",
      "Epoch 273/300\n",
      "127/127 [==============================] - 1s 7ms/step - loss: 0.0423 - accuracy: 0.9700 - val_loss: 2.3642 - val_accuracy: 0.6326\n",
      "Epoch 274/300\n",
      "127/127 [==============================] - 1s 6ms/step - loss: 0.0417 - accuracy: 0.9708 - val_loss: 2.3530 - val_accuracy: 0.6196\n",
      "Epoch 275/300\n",
      "127/127 [==============================] - 1s 6ms/step - loss: 0.0441 - accuracy: 0.9698 - val_loss: 2.3283 - val_accuracy: 0.6261\n",
      "Epoch 276/300\n",
      "127/127 [==============================] - 1s 6ms/step - loss: 0.0436 - accuracy: 0.9712 - val_loss: 2.3125 - val_accuracy: 0.6193\n",
      "Epoch 277/300\n",
      "127/127 [==============================] - 1s 6ms/step - loss: 0.0444 - accuracy: 0.9704 - val_loss: 2.3476 - val_accuracy: 0.6299\n",
      "Epoch 278/300\n",
      "127/127 [==============================] - 1s 6ms/step - loss: 0.0455 - accuracy: 0.9698 - val_loss: 2.3213 - val_accuracy: 0.6341\n",
      "Epoch 279/300\n",
      "127/127 [==============================] - 1s 6ms/step - loss: 0.0427 - accuracy: 0.9712 - val_loss: 2.3310 - val_accuracy: 0.6305\n",
      "Epoch 280/300\n",
      "127/127 [==============================] - 1s 6ms/step - loss: 0.0425 - accuracy: 0.9705 - val_loss: 2.3686 - val_accuracy: 0.6234\n",
      "Epoch 281/300\n",
      "127/127 [==============================] - 1s 6ms/step - loss: 0.0415 - accuracy: 0.9711 - val_loss: 2.3277 - val_accuracy: 0.6338\n",
      "Epoch 282/300\n",
      "127/127 [==============================] - 1s 6ms/step - loss: 0.0416 - accuracy: 0.9700 - val_loss: 2.3251 - val_accuracy: 0.6276\n",
      "Epoch 283/300\n",
      "127/127 [==============================] - 1s 6ms/step - loss: 0.0400 - accuracy: 0.9718 - val_loss: 2.3265 - val_accuracy: 0.6314\n",
      "Epoch 284/300\n",
      "127/127 [==============================] - 1s 6ms/step - loss: 0.0419 - accuracy: 0.9707 - val_loss: 2.2912 - val_accuracy: 0.6246\n",
      "Epoch 285/300\n",
      "127/127 [==============================] - 1s 6ms/step - loss: 0.0409 - accuracy: 0.9699 - val_loss: 2.3327 - val_accuracy: 0.6285\n",
      "Epoch 286/300\n",
      "127/127 [==============================] - 1s 6ms/step - loss: 0.0417 - accuracy: 0.9710 - val_loss: 2.3495 - val_accuracy: 0.6282\n",
      "Epoch 287/300\n",
      "127/127 [==============================] - 1s 6ms/step - loss: 0.0412 - accuracy: 0.9707 - val_loss: 2.4062 - val_accuracy: 0.6249\n",
      "Epoch 288/300\n",
      "127/127 [==============================] - 1s 6ms/step - loss: 0.0415 - accuracy: 0.9695 - val_loss: 2.3809 - val_accuracy: 0.6273\n",
      "Epoch 289/300\n",
      "127/127 [==============================] - 1s 6ms/step - loss: 0.0422 - accuracy: 0.9713 - val_loss: 2.3450 - val_accuracy: 0.6279\n",
      "Epoch 290/300\n",
      "127/127 [==============================] - 1s 7ms/step - loss: 0.0415 - accuracy: 0.9704 - val_loss: 2.3646 - val_accuracy: 0.6299\n",
      "Epoch 291/300\n",
      "127/127 [==============================] - 1s 8ms/step - loss: 0.0406 - accuracy: 0.9703 - val_loss: 2.3396 - val_accuracy: 0.6267\n",
      "Epoch 292/300\n",
      "127/127 [==============================] - 1s 7ms/step - loss: 0.0422 - accuracy: 0.9699 - val_loss: 2.3634 - val_accuracy: 0.6282\n",
      "Epoch 293/300\n",
      "127/127 [==============================] - 1s 6ms/step - loss: 0.0426 - accuracy: 0.9694 - val_loss: 2.3327 - val_accuracy: 0.6279\n",
      "Epoch 294/300\n",
      "127/127 [==============================] - 1s 6ms/step - loss: 0.0412 - accuracy: 0.9709 - val_loss: 2.3531 - val_accuracy: 0.6297\n",
      "Epoch 295/300\n",
      "127/127 [==============================] - 1s 7ms/step - loss: 0.0415 - accuracy: 0.9702 - val_loss: 2.3101 - val_accuracy: 0.6302\n",
      "Epoch 296/300\n",
      "127/127 [==============================] - 1s 6ms/step - loss: 0.0412 - accuracy: 0.9685 - val_loss: 2.3737 - val_accuracy: 0.6234\n",
      "Epoch 297/300\n",
      "127/127 [==============================] - 1s 6ms/step - loss: 0.0423 - accuracy: 0.9696 - val_loss: 2.3549 - val_accuracy: 0.6341\n",
      "Epoch 298/300\n",
      "127/127 [==============================] - 1s 7ms/step - loss: 0.0410 - accuracy: 0.9709 - val_loss: 2.3564 - val_accuracy: 0.6294\n",
      "Epoch 299/300\n",
      "127/127 [==============================] - 1s 7ms/step - loss: 0.0402 - accuracy: 0.9726 - val_loss: 2.3801 - val_accuracy: 0.6320\n",
      "Epoch 300/300\n",
      "127/127 [==============================] - 1s 7ms/step - loss: 0.0410 - accuracy: 0.9706 - val_loss: 2.3456 - val_accuracy: 0.6317\n",
      "106/106 - 0s - loss: 2.3456 - accuracy: 0.6317 - 261ms/epoch - 2ms/step\n",
      "\n",
      "Test accuracy: 0.6317188143730164\n"
     ]
    }
   ],
   "source": [
    "import tensorflow as tf\n",
    "from sklearn import preprocessing\n",
    "\n",
    "#all colums except popularity and popularity_class\n",
    "le = preprocessing.LabelEncoder()\n",
    "le.fit(all_labels)\n",
    "encoded_training_classes = le.transform(training_classes)\n",
    "encoded_testing_classes = le.transform(testing_classes)\n",
    "\n",
    "tf.random.set_seed(42)\n",
    "activation = \"elu\"\n",
    "neurons = 128\n",
    "\n",
    "model = tf.keras.Sequential([\n",
    "    tf.keras.layers.Dense(16,input_shape=(16,)),\n",
    "    tf.keras.layers.Dense(neurons, activation=activation),\n",
    "    tf.keras.layers.Dense(neurons, activation=activation),\n",
    "    tf.keras.layers.Dense(neurons, activation=activation),\n",
    "    tf.keras.layers.Dense(neurons, activation=\"relu\"),\n",
    "    tf.keras.layers.Dense(neurons, activation=\"relu\"),\n",
    "    tf.keras.layers.Dense(neurons, activation=\"relu\"),\n",
    "    tf.keras.layers.Dense(3, activation='softmax'),\n",
    "    #tf.keras.layers.Dense(3, kernel_initializer='he_uniform', activation='sigmoid')\n",
    "])\n",
    "\n",
    "\n",
    "opt = tf.keras.optimizers.SGD(learning_rate=0.01, momentum=0.8)\n",
    "model.compile(optimizer=opt, #SGD\n",
    "              loss=tf.keras.losses.SparseCategoricalCrossentropy(from_logits=False),\n",
    "              metrics=['accuracy'])\n",
    "\n",
    "model.fit(scaled_training_inputs,\n",
    "          encoded_training_classes,\n",
    "          batch_size=80,\n",
    "          epochs=300,\n",
    "          validation_data=(scaled_testing_inputs, encoded_testing_classes))\n",
    "\n",
    "test_loss, test_acc = model.evaluate(scaled_testing_inputs,\n",
    "                                     encoded_testing_classes, verbose=2)\n",
    "\n",
    "print('\\nTest accuracy:', test_acc)\n",
    "#Best: 0.332851 using {'batch_size': 80, 'epochs': 100}\n",
    "#Best: 0.327004 using {'optimizer': 'SGD'}\n",
    "#Best: 0.331731 using {'learn_rate': 0.01, 'momentum': 0.8}\n",
    "#Best: 0.330343 using {'init_mode': 'he_uniform'}\n",
    "#Best: 0.344265 using {'activation': 'linear'}"
   ]
  },
  {
   "cell_type": "markdown",
   "metadata": {
    "id": "uqyRYDEVRBn2",
    "pycharm": {
     "name": "#%% md\n"
    }
   },
   "source": [
    "## Tuning Batch Size and Number of Epochs"
   ],
   "outputs": [
    {
     "name": "stdout",
     "output_type": "stream",
     "text": [
      "117/117 [==============================] - 0s 4ms/step - loss: 0.7428 - accuracy: 0.6663 - val_loss: 0.8576 - val_accuracy: 0.6008\n",
      "Epoch 37/100\n",
      " 45/117 [==========>...................] - ETA: 0s - loss: 0.7021 - accuracy: 0.6869"
     ]
    }
   ]
  },
  {
   "cell_type": "code",
   "execution_count": 293,
   "metadata": {
    "colab": {
     "base_uri": "https://localhost:8080/"
    },
    "id": "1w6l614JRBn2",
    "outputId": "9a92ddf9-3f60-49fd-e017-917562bd54d9",
    "pycharm": {
     "name": "#%%\n"
    }
   },
   "outputs": [
    {
     "name": "stderr",
     "output_type": "stream",
     "text": [
      "/tmp/ipykernel_12242/3062746682.py:18: DeprecationWarning:\n",
      "\n",
      "KerasClassifier is deprecated, use Sci-Keras (https://github.com/adriangb/scikeras) instead. See https://www.adriangb.com/scikeras/stable/migration.html for help migrating.\n",
      "\n"
     ]
    }
   ],
   "source": [
    "import numpy\n",
    "from sklearn.model_selection import GridSearchCV\n",
    "from keras.models import Sequential\n",
    "from keras.layers import Dense\n",
    "from keras.wrappers.scikit_learn import KerasClassifier\n",
    "# Function to create model, required for KerasClassifier\n",
    "def create_model():\n",
    "\t# create model\n",
    "\tmodel = Sequential()\n",
    "\tmodel.add(Dense(12, input_dim=inputs.shape[1], activation='relu'))\n",
    "\tmodel.add(Dense(1, activation='sigmoid'))\n",
    "\t# Compile model\n",
    "\tmodel.compile(loss='binary_crossentropy', optimizer='adam', metrics=['accuracy'])\n",
    "\treturn model\n",
    "\n",
    "numpy.random.seed(7)\n",
    "\n",
    "model = KerasClassifier(build_fn=create_model, verbose=0)\n",
    "\n",
    "# define the grid search parameters\n",
    "batch_size = [10, 20, 40, 60, 80, 100]\n",
    "epochs = [10, 50, 100]\n",
    "param_grid = dict(batch_size=batch_size, epochs=epochs)\n",
    "grid = GridSearchCV(estimator=model, param_grid=param_grid, n_jobs=-1, cv=3)\n",
    "\n",
    "# grid_result = grid.fit(scaled_inputs, all_labels)\n",
    "\n",
    "# # summarize results\n",
    "# print(\"Best: %f using %s\" % (grid_result.best_score_, grid_result.best_params_))\n",
    "# means = grid_result.cv_results_['mean_test_score']\n",
    "# stds = grid_result.cv_results_['std_test_score']\n",
    "# params = grid_result.cv_results_['params']\n",
    "# for mean, stdev, param in zip(means, stds, params):\n",
    "#     print(\"%f (%f) with: %r\" % (mean, stdev, param))"
   ]
  },
  {
   "cell_type": "markdown",
   "metadata": {
    "id": "iA-C3NfVTjb2",
    "pycharm": {
     "name": "#%% md\n"
    }
   },
   "source": [
    "## Tuning the Training Optimization Algorithm"
   ]
  },
  {
   "cell_type": "code",
   "execution_count": 294,
   "metadata": {
    "colab": {
     "base_uri": "https://localhost:8080/"
    },
    "id": "52jBfPFqToGC",
    "outputId": "e7876401-412f-4a45-82ab-e0498ad7c857",
    "pycharm": {
     "name": "#%%\n"
    }
   },
   "outputs": [
    {
     "name": "stderr",
     "output_type": "stream",
     "text": [
      "/tmp/ipykernel_12242/312224298.py:20: DeprecationWarning:\n",
      "\n",
      "KerasClassifier is deprecated, use Sci-Keras (https://github.com/adriangb/scikeras) instead. See https://www.adriangb.com/scikeras/stable/migration.html for help migrating.\n",
      "\n"
     ]
    }
   ],
   "source": [
    "import numpy\n",
    "from sklearn.model_selection import GridSearchCV\n",
    "from keras.models import Sequential\n",
    "from keras.layers import Dense\n",
    "from keras.wrappers.scikit_learn import KerasClassifier\n",
    "# Function to create model, required for KerasClassifier\n",
    "def create_model(optimizer='adam'):\n",
    "\t# create model\n",
    "\tmodel = Sequential()\n",
    "\tmodel.add(Dense(12, input_dim=inputs.shape[1], activation='relu'))\n",
    "\tmodel.add(Dense(1, activation='sigmoid'))\n",
    "\t# Compile model\n",
    "\tmodel.compile(loss='binary_crossentropy', optimizer=optimizer, metrics=['accuracy'])\n",
    "\treturn model\n",
    "# fix random seed for reproducibility\n",
    "seed = 7\n",
    "numpy.random.seed(seed)\n",
    "\n",
    "# create model\n",
    "model = KerasClassifier(build_fn=create_model, epochs=100, batch_size=10, verbose=0)\n",
    "# define the grid search parameters\n",
    "optimizer = ['SGD', 'RMSprop', 'Adagrad', 'Adadelta', 'Adam', 'Adamax', 'Nadam']\n",
    "param_grid = dict(optimizer=optimizer)\n",
    "grid = GridSearchCV(estimator=model, param_grid=param_grid, n_jobs=-1, cv=3)\n",
    "# grid_result = grid.fit(scaled_inputs, all_labels)\n",
    "# # summarize results\n",
    "# print(\"Best: %f using %s\" % (grid_result.best_score_, grid_result.best_params_))\n",
    "# means = grid_result.cv_results_['mean_test_score']\n",
    "# stds = grid_result.cv_results_['std_test_score']\n",
    "# params = grid_result.cv_results_['params']\n",
    "# for mean, stdev, param in zip(means, stds, params):\n",
    "#     print(\"%f (%f) with: %r\" % (mean, stdev, param))"
   ]
  },
  {
   "cell_type": "markdown",
   "metadata": {
    "id": "0DrdbnO5T9ZK",
    "pycharm": {
     "name": "#%% md\n"
    }
   },
   "source": [
    "# Tuning Learning Rate and Momentum"
   ]
  },
  {
   "cell_type": "code",
   "execution_count": 295,
   "metadata": {
    "colab": {
     "base_uri": "https://localhost:8080/"
    },
    "id": "olkXfn3fT9GW",
    "outputId": "3e24185a-e6c8-4901-fd2e-95d47978b70a",
    "pycharm": {
     "name": "#%%\n"
    }
   },
   "outputs": [
    {
     "name": "stderr",
     "output_type": "stream",
     "text": [
      "/tmp/ipykernel_12242/492850810.py:20: DeprecationWarning:\n",
      "\n",
      "KerasClassifier is deprecated, use Sci-Keras (https://github.com/adriangb/scikeras) instead. See https://www.adriangb.com/scikeras/stable/migration.html for help migrating.\n",
      "\n"
     ]
    }
   ],
   "source": [
    "import numpy\n",
    "from sklearn.model_selection import GridSearchCV\n",
    "from keras.models import Sequential\n",
    "from keras.layers import Dense\n",
    "from keras.wrappers.scikit_learn import KerasClassifier\n",
    "# Function to create model, required for KerasClassifier\n",
    "def create_model(learn_rate=0.01, momentum=0):\n",
    "\t# create model\n",
    "\tmodel = Sequential()\n",
    "\tmodel.add(Dense(12, input_dim=inputs.shape[1], activation='relu'))\n",
    "\tmodel.add(Dense(1, activation='sigmoid'))\n",
    "\t# Compile model\n",
    "\tmodel.compile(loss='binary_crossentropy', optimizer='adam', metrics=['accuracy'])\n",
    "\treturn model\n",
    "# fix random seed for reproducibility\n",
    "seed = 7\n",
    "numpy.random.seed(seed)\n",
    "\n",
    "# create model\n",
    "model = KerasClassifier(build_fn=create_model, epochs=100, batch_size=10, verbose=0)\n",
    "# define the grid search parameters\n",
    "learn_rate = [0.001, 0.01, 0.1, 0.2, 0.3]\n",
    "momentum = [0.0, 0.2, 0.4, 0.6, 0.8, 0.9]\n",
    "param_grid = dict(learn_rate=learn_rate, momentum=momentum)\n",
    "grid = GridSearchCV(estimator=model, param_grid=param_grid, n_jobs=-1, cv=3)\n",
    "# grid_result = grid.fit(scaled_inputs, all_labels)\n",
    "# # summarize results\n",
    "# print(\"Best: %f using %s\" % (grid_result.best_score_, grid_result.best_params_))\n",
    "# means = grid_result.cv_results_['mean_test_score']\n",
    "# stds = grid_result.cv_results_['std_test_score']\n",
    "# params = grid_result.cv_results_['params']\n",
    "# for mean, stdev, param in zip(means, stds, params):\n",
    "#     print(\"%f (%f) with: %r\" % (mean, stdev, param))"
   ]
  },
  {
   "cell_type": "markdown",
   "metadata": {
    "id": "G0OK7bxXUUG3",
    "pycharm": {
     "name": "#%% md\n"
    }
   },
   "source": [
    "# Tuning Network Weight Initialization"
   ]
  },
  {
   "cell_type": "code",
   "execution_count": 296,
   "metadata": {
    "colab": {
     "base_uri": "https://localhost:8080/",
     "height": 472
    },
    "id": "tGgI_kK6UVsb",
    "outputId": "59ecf331-d602-40bf-cd56-cde6273b2dfd",
    "pycharm": {
     "name": "#%%\n"
    }
   },
   "outputs": [
    {
     "name": "stderr",
     "output_type": "stream",
     "text": [
      "/tmp/ipykernel_12242/2128442220.py:20: DeprecationWarning:\n",
      "\n",
      "KerasClassifier is deprecated, use Sci-Keras (https://github.com/adriangb/scikeras) instead. See https://www.adriangb.com/scikeras/stable/migration.html for help migrating.\n",
      "\n"
     ]
    }
   ],
   "source": [
    "import numpy\n",
    "from sklearn.model_selection import GridSearchCV\n",
    "from keras.models import Sequential\n",
    "from keras.layers import Dense\n",
    "from keras.wrappers.scikit_learn import KerasClassifier\n",
    "# Function to create model, required for KerasClassifier\n",
    "def create_model(init_mode='uniform'):\n",
    "\t# create model\n",
    "\tmodel = Sequential()\n",
    "\tmodel.add(Dense(12, input_dim=inputs.shape[1], kernel_initializer=init_mode, activation='relu'))\n",
    "\tmodel.add(Dense(1, kernel_initializer=init_mode, activation='sigmoid'))\n",
    "\t# Compile model\n",
    "\tmodel.compile(loss='binary_crossentropy', optimizer='adam', metrics=['accuracy'])\n",
    "\treturn model\n",
    "# fix random seed for reproducibility\n",
    "seed = 7\n",
    "numpy.random.seed(seed)\n",
    "\n",
    "# create model\n",
    "model = KerasClassifier(build_fn=create_model, epochs=100, batch_size=10, verbose=0)\n",
    "# define the grid search parameters\n",
    "init_mode = ['uniform', 'lecun_uniform', 'normal', 'zero', 'glorot_normal', 'glorot_uniform', 'he_normal', 'he_uniform']\n",
    "param_grid = dict(init_mode=init_mode)\n",
    "grid = GridSearchCV(estimator=model, param_grid=param_grid, n_jobs=-1, cv=3)\n",
    "# grid_result = grid.fit(scaled_inputs, all_labels)\n",
    "# # summarize results\n",
    "# print(\"Best: %f using %s\" % (grid_result.best_score_, grid_result.best_params_))\n",
    "# means = grid_result.cv_results_['mean_test_score']\n",
    "# stds = grid_result.cv_results_['std_test_score']\n",
    "# params = grid_result.cv_results_['params']\n",
    "# for mean, stdev, param in zip(means, stds, params):\n",
    "#     print(\"%f (%f) with: %r\" % (mean, stdev, param))"
   ]
  },
  {
   "cell_type": "markdown",
   "metadata": {
    "id": "xJv1ZoaKUeWY",
    "pycharm": {
     "name": "#%% md\n"
    }
   },
   "source": [
    "# Tuning the Neuron Activation Function"
   ]
  },
  {
   "cell_type": "code",
   "execution_count": 297,
   "metadata": {
    "id": "CJASsZNVUf6F",
    "pycharm": {
     "name": "#%%\n"
    }
   },
   "outputs": [
    {
     "name": "stderr",
     "output_type": "stream",
     "text": [
      "/tmp/ipykernel_12242/1150191583.py:20: DeprecationWarning:\n",
      "\n",
      "KerasClassifier is deprecated, use Sci-Keras (https://github.com/adriangb/scikeras) instead. See https://www.adriangb.com/scikeras/stable/migration.html for help migrating.\n",
      "\n"
     ]
    }
   ],
   "source": [
    "import numpy\n",
    "from sklearn.model_selection import GridSearchCV\n",
    "from keras.models import Sequential\n",
    "from keras.layers import Dense\n",
    "from keras.wrappers.scikit_learn import KerasClassifier\n",
    "# Function to create model, required for KerasClassifier\n",
    "def create_model(activation='relu'):\n",
    "\t# create model\n",
    "\tmodel = Sequential()\n",
    "\tmodel.add(Dense(12, input_dim=inputs.shape[1], kernel_initializer='uniform', activation=activation))\n",
    "\tmodel.add(Dense(1, kernel_initializer='uniform', activation='sigmoid'))\n",
    "\t# Compile model\n",
    "\tmodel.compile(loss='binary_crossentropy', optimizer='adam', metrics=['accuracy'])\n",
    "\treturn model\n",
    "# fix random seed for reproducibility\n",
    "seed = 7\n",
    "numpy.random.seed(seed)\n",
    "\n",
    "# create model\n",
    "model = KerasClassifier(build_fn=create_model, epochs=100, batch_size=10, verbose=0)\n",
    "# define the grid search parameters\n",
    "activation = ['softmax', 'softplus', 'softsign', 'relu', 'tanh', 'sigmoid', 'hard_sigmoid', 'linear']\n",
    "param_grid = dict(activation=activation)\n",
    "grid = GridSearchCV(estimator=model, param_grid=param_grid, n_jobs=-1, cv=3)\n",
    "# grid_result = grid.fit(scaled_inputs, all_labels)\n",
    "# # summarize results\n",
    "# print(\"Best: %f using %s\" % (grid_result.best_score_, grid_result.best_params_))\n",
    "# means = grid_result.cv_results_['mean_test_score']\n",
    "# stds = grid_result.cv_results_['std_test_score']\n",
    "# params = grid_result.cv_results_['params']\n",
    "# for mean, stdev, param in zip(means, stds, params):\n",
    "#     print(\"%f (%f) with: %r\" % (mean, stdev, param))"
   ]
  },
  {
   "cell_type": "markdown",
   "metadata": {
    "id": "4N1loQ-SUoPc",
    "pycharm": {
     "name": "#%% md\n"
    }
   },
   "source": [
    "# Tuning Dropout Regularization"
   ]
  },
  {
   "cell_type": "code",
   "execution_count": 298,
   "metadata": {
    "id": "DW76TzwiUpqn",
    "pycharm": {
     "name": "#%%\n"
    }
   },
   "outputs": [
    {
     "name": "stderr",
     "output_type": "stream",
     "text": [
      "/tmp/ipykernel_12242/2297665137.py:23: DeprecationWarning:\n",
      "\n",
      "KerasClassifier is deprecated, use Sci-Keras (https://github.com/adriangb/scikeras) instead. See https://www.adriangb.com/scikeras/stable/migration.html for help migrating.\n",
      "\n"
     ]
    }
   ],
   "source": [
    "import numpy\n",
    "from sklearn.model_selection import GridSearchCV\n",
    "from keras.models import Sequential\n",
    "from keras.layers import Dense\n",
    "from keras.layers import Dropout\n",
    "from keras.wrappers.scikit_learn import KerasClassifier\n",
    "from keras.constraints import maxnorm\n",
    "# Function to create model, required for KerasClassifier\n",
    "def create_model(dropout_rate=0.0, weight_constraint=0):\n",
    "\t# create model\n",
    "\tmodel = Sequential()\n",
    "\tmodel.add(Dense(12, input_dim=inputs.shape[1], kernel_initializer='uniform', activation='linear', kernel_constraint=maxnorm(weight_constraint)))\n",
    "\tmodel.add(Dropout(dropout_rate))\n",
    "\tmodel.add(Dense(1, kernel_initializer='uniform', activation='sigmoid'))\n",
    "\t# Compile model\n",
    "\tmodel.compile(loss='binary_crossentropy', optimizer='adam', metrics=['accuracy'])\n",
    "\treturn model\n",
    "# fix random seed for reproducibility\n",
    "seed = 7\n",
    "numpy.random.seed(seed)\n",
    "\n",
    "# create model\n",
    "model = KerasClassifier(build_fn=create_model, epochs=100, batch_size=10, verbose=0)\n",
    "# define the grid search parameters\n",
    "weight_constraint = [1, 2, 3, 4, 5]\n",
    "dropout_rate = [0.0, 0.1, 0.2, 0.3, 0.4, 0.5, 0.6, 0.7, 0.8, 0.9]\n",
    "param_grid = dict(dropout_rate=dropout_rate, weight_constraint=weight_constraint)\n",
    "grid = GridSearchCV(estimator=model, param_grid=param_grid, n_jobs=-1, cv=3)\n",
    "# grid_result = grid.fit(scaled_inputs, all_labels)\n",
    "# summarize results\n",
    "# print(\"Best: %f using %s\" % (grid_result.best_score_, grid_result.best_params_))\n",
    "# means = grid_result.cv_results_['mean_test_score']\n",
    "# stds = grid_result.cv_results_['std_test_score']\n",
    "# params = grid_result.cv_results_['params']\n",
    "# for mean, stdev, param in zip(means, stds, params):\n",
    "#     print(\"%f (%f) with: %r\" % (mean, stdev, param))"
   ]
  },
  {
   "cell_type": "markdown",
   "metadata": {
    "id": "uHAee2gBUyKn",
    "pycharm": {
     "name": "#%% md\n"
    }
   },
   "source": [
    "# Tuning the Number of Neurons in the Hidden Layer"
   ]
  },
  {
   "cell_type": "code",
   "execution_count": 299,
   "metadata": {
    "id": "RcP25AbAUzxP",
    "pycharm": {
     "name": "#%%\n"
    }
   },
   "outputs": [
    {
     "name": "stderr",
     "output_type": "stream",
     "text": [
      "/tmp/ipykernel_12242/889736780.py:23: DeprecationWarning:\n",
      "\n",
      "KerasClassifier is deprecated, use Sci-Keras (https://github.com/adriangb/scikeras) instead. See https://www.adriangb.com/scikeras/stable/migration.html for help migrating.\n",
      "\n"
     ]
    }
   ],
   "source": [
    "import numpy\n",
    "from sklearn.model_selection import GridSearchCV\n",
    "from keras.models import Sequential\n",
    "from keras.layers import Dense\n",
    "from keras.layers import Dropout\n",
    "from keras.wrappers.scikit_learn import KerasClassifier\n",
    "from keras.constraints import maxnorm\n",
    "# Function to create model, required for KerasClassifier\n",
    "def create_model(neurons=1):\n",
    "\t# create model\n",
    "\tmodel = Sequential()\n",
    "\tmodel.add(Dense(neurons, input_dim=inputs.shape[1], kernel_initializer='uniform', activation='linear', kernel_constraint=maxnorm(4)))\n",
    "\tmodel.add(Dropout(0.2))\n",
    "\tmodel.add(Dense(1, kernel_initializer='uniform', activation='sigmoid'))\n",
    "\t# Compile model\n",
    "\tmodel.compile(loss='binary_crossentropy', optimizer='adam', metrics=['accuracy'])\n",
    "\treturn model\n",
    "# fix random seed for reproducibility\n",
    "seed = 7\n",
    "numpy.random.seed(seed)\n",
    "\n",
    "# create model\n",
    "model = KerasClassifier(build_fn=create_model, epochs=100, batch_size=10, verbose=0)\n",
    "# define the grid search parameters\n",
    "neurons = [1, 5, 10, 15, 20, 25, 30]\n",
    "param_grid = dict(neurons=neurons)\n",
    "grid = GridSearchCV(estimator=model, param_grid=param_grid, n_jobs=-1, cv=3)\n",
    "# grid_result = grid.fit(scaled_inputs, all_labels)\n",
    "# # summarize results\n",
    "# print(\"Best: %f using %s\" % (grid_result.best_score_, grid_result.best_params_))\n",
    "# means = grid_result.cv_results_['mean_test_score']\n",
    "# stds = grid_result.cv_results_['std_test_score']\n",
    "# params = grid_result.cv_results_['params']\n",
    "# for mean, stdev, param in zip(means, stds, params):\n",
    "#     print(\"%f (%f) with: %r\" % (mean, stdev, param))"
   ]
  }
 ],
 "metadata": {
  "accelerator": "TPU",
  "colab": {
   "collapsed_sections": [],
   "name": "topHitsSpotify.ipynb",
   "provenance": []
  },
  "kernelspec": {
   "display_name": "Python 3 (ipykernel)",
   "language": "python",
   "name": "python3"
  },
  "language_info": {
   "codemirror_mode": {
    "name": "ipython",
    "version": 3
   },
   "file_extension": ".py",
   "mimetype": "text/x-python",
   "name": "python",
   "nbconvert_exporter": "python",
   "pygments_lexer": "ipython3",
   "version": "3.8.10"
  }
 },
 "nbformat": 4,
 "nbformat_minor": 1
}